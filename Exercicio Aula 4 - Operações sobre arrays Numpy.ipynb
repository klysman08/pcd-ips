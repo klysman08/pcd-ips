{
 "cells": [
  {
   "cell_type": "markdown",
   "metadata": {},
   "source": [
    "# Numpy para cientistas de dados\n",
    "\n",
    "\n",
    "### Funções essenciais para manipulação de dados numéricos em Python\n",
    "\n",
    "Numpy é uma biblioteca essencial para qualquer cientista de dados pois atualmente é uma das melhores bibliotecas para manipulação de dados numéricos em Python.\n",
    "\n",
    "- np.array\n",
    "- np.arange\n",
    "- np.reshape\n",
    "- np.random.rand"
   ]
  },
  {
   "cell_type": "markdown",
   "metadata": {},
   "source": [
    "Vamos começar por importar o Numpy e listar as funções cobertas neste notebook."
   ]
  },
  {
   "cell_type": "code",
   "execution_count": 35,
   "metadata": {},
   "outputs": [
    {
     "name": "stdout",
     "output_type": "stream",
     "text": [
      "Requirement already satisfied: numpy in c:\\users\\klysm\\miniconda3\\envs\\ips_cienciadedados\\lib\\site-packages (1.26.4)\n"
     ]
    }
   ],
   "source": [
    "# instalar o numpy via pip\n",
    "!pip install numpy \n",
    "\n",
    "# importar o numpy\n",
    "import numpy as np "
   ]
  },
  {
   "cell_type": "markdown",
   "metadata": {},
   "source": [
    "## Função 1 - numpy.array()\n",
    "\n",
    "Cria um array N-dimensional\n",
    "\n",
    "Usado para armazenar dados de mesma tipagem em estruturas de dados compactas para análise numérica. Por exemplo, em processamento de sinais ou dados científicos."
   ]
  },
  {
   "cell_type": "code",
   "execution_count": 36,
   "metadata": {},
   "outputs": [
    {
     "name": "stdout",
     "output_type": "stream",
     "text": [
      "Arry N-Dimensional: [1 2 3]\n"
     ]
    }
   ],
   "source": [
    "a = np.array([1, 2, 3]) # Cria um array unidimensional com os elementos 1, 2, 3\n",
    "print(f\"Arry N-Dimensional: {a}\") "
   ]
  },
  {
   "cell_type": "markdown",
   "metadata": {},
   "source": [
    "## Função 2 - numpy.arange()\n",
    "\n",
    "Retorna valores uniformemente espaçados dentro de um intervalo dado.\n",
    "\n",
    "Útil para gerar sequências numéricas para iterações, gráficos ou como base para matrizes. Por exemplo, na criação de eixos de tempo ou índices."
   ]
  },
  {
   "cell_type": "code",
   "execution_count": 37,
   "metadata": {},
   "outputs": [
    {
     "name": "stdout",
     "output_type": "stream",
     "text": [
      "Array com números de 0 a 10 (exclusivo) em passos de 2: [0 2 4 6 8]\n"
     ]
    }
   ],
   "source": [
    "b = np.arange(0, 10, 2)  # Gera um array com números de 0 a 10 (exclusivo) em passos de 2\n",
    "print(f'Array com números de 0 a 10 (exclusivo) em passos de 2: {b}')"
   ]
  },
  {
   "cell_type": "markdown",
   "metadata": {},
   "source": [
    "## Função 3 - numpy.reshape()\n",
    "\n",
    "Altera a forma de um array sem alterar seus dados\n",
    "\n",
    " Amplamente utilizado em manipulação de dados e preparação para modelos de machine learning, ajustando o formato dos dados de entrada."
   ]
  },
  {
   "cell_type": "code",
   "execution_count": 38,
   "metadata": {},
   "outputs": [
    {
     "name": "stdout",
     "output_type": "stream",
     "text": [
      "Matriz 3x2: [[0 1]\n",
      " [2 3]\n",
      " [4 5]]\n"
     ]
    }
   ],
   "source": [
    "c = np.arange(6).reshape((3, 2))  # Transforma um array de 6 elementos em uma matriz 3x2\n",
    "print(f'Matriz 3x2: {c}')"
   ]
  },
  {
   "cell_type": "markdown",
   "metadata": {},
   "source": [
    "## Função 4 - numpy.random.rand()\n",
    "\n",
    "Gera números aleatórios em uma distribuição uniforme no intervalo [0, 1).\n",
    "\n",
    "  Útil em simulações, testes de algoritmos, e inicialização de pesos em redes neurais. Por exemplo, na inicialização de parâmetros de um modelo de machine learning antes do treinamento."
   ]
  },
  {
   "cell_type": "code",
   "execution_count": 39,
   "metadata": {},
   "outputs": [
    {
     "name": "stdout",
     "output_type": "stream",
     "text": [
      "Matriz 3x2 de números aleatórios entre 0 e 1: [[0.81990814 0.19741727]\n",
      " [0.58797811 0.18438186]\n",
      " [0.65052729 0.56348965]]\n"
     ]
    }
   ],
   "source": [
    "e = np.random.rand(3, 2)  # Gera uma matriz 3x2 de números aleatórios entre 0 e 1\n",
    "print(f'Matriz 3x2 de números aleatórios entre 0 e 1: {e}')\n"
   ]
  },
  {
   "cell_type": "markdown",
   "metadata": {},
   "source": [
    "## Conclusão\n",
    "\n",
    "Algumas funções aprensentadas nesse notebook são amplamentes utilizadas na manipulações de dados de alta performance e são fundamentais para a preparação de dados, análise exploratória, e para a implementação e teste de algoritmos de machine learning, onde a eficiência e precisão numérica são cruciais. "
   ]
  }
 ],
 "metadata": {
  "kernelspec": {
   "display_name": "ips_ciencia_dados",
   "language": "python",
   "name": "python3"
  },
  "language_info": {
   "codemirror_mode": {
    "name": "ipython",
    "version": 3
   },
   "file_extension": ".py",
   "mimetype": "text/x-python",
   "name": "python",
   "nbconvert_exporter": "python",
   "pygments_lexer": "ipython3",
   "version": "3.10.13"
  }
 },
 "nbformat": 4,
 "nbformat_minor": 4
}
