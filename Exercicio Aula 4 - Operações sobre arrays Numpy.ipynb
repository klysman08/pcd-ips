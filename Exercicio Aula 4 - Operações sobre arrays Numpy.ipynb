{
 "cells": [
  {
   "cell_type": "markdown",
   "metadata": {},
   "source": [
    "> ### **Exercício de Aula - Operações sobre arrays Numpy** \n",
    ">\n",
    "> O objetivo deste exercício é desenvolver uma compreensão mais profunda das operações sobre arrays Numpy, e treinar a edição de notebooks Jupyter. \n",
    ">\n",
    ">Neste exercício, vamos:\n",
    "> \n",
    "> 1. Escolher 3 a 5 funções de array Numpy interessantes explorando a documentação: https://numpy.org/doc/stable/reference/routines.html \n",
    "> 2. Executar e modificar este notebook Jupyter para ilustrar o funcionamento dessas funções (alguma explicação e 3 exemplos para cada função). Use a sua imaginação para conceber exemplos únicos e interessantes.\n",
    ">\n",
    "> Tente dar ao seu notebook um título e subtítulo apelativos, e.g. \"Tudo sobre operações sobre arrays Numpy\", \"5 funções Numpy que precisava e não sabia\", \"Um guia sobre broadcasting em Numpy para iniciantes\", \"Formas interessantes de criar arrays Numpy\", \"Funções trigonométricas em Numpy\", \"Como usar o Python para Álgebra Linear\", etc.\n",
    ">\n",
    "> **NOTA**: Remova este bloco de texto explicativo antes de entregar o notebook - para torná-lo mais apresentável.\n",
    "\n",
    "\n",
    "# Título Aqui\n",
    "\n",
    "\n",
    "### Subtítulo Aqui\n",
    "\n",
    "Escreva uma pequena introdução sobre o Numpy e liste as funções escolhidas. \n",
    "\n",
    "- função 1\n",
    "- função 2\n",
    "- função 3\n",
    "- função 4\n",
    "- função 5"
   ]
  },
  {
   "cell_type": "markdown",
   "metadata": {},
   "source": [
    "Vamos começar por importar o Numpy e listar as funções cobertas neste notebook."
   ]
  },
  {
   "cell_type": "code",
   "execution_count": 1,
   "metadata": {},
   "outputs": [
    {
     "name": "stdout",
     "output_type": "stream",
     "text": [
      "Requirement already satisfied: numpy in c:\\users\\klysm\\miniconda3\\envs\\ips_cienciadedados\\lib\\site-packages (1.26.4)\n"
     ]
    }
   ],
   "source": [
    "!pip install numpy\n",
    "\n",
    "import numpy as np"
   ]
  },
  {
   "cell_type": "code",
   "execution_count": null,
   "metadata": {},
   "outputs": [],
   "source": [
    "# Lista das funções explicadas\n",
    "function1 = np.concatenate  # (alterar isto)\n",
    "function2 = ???\n",
    "function3 = ???\n",
    "function4 = ???\n",
    "function5 = ???"
   ]
  },
  {
   "cell_type": "markdown",
   "metadata": {},
   "source": [
    "## Função 1 - np.concatenate (alterar isto)\n",
    "\n",
    "Adicione alguma explicação sobre a função em palavras suas."
   ]
  },
  {
   "cell_type": "code",
   "execution_count": 2,
   "metadata": {},
   "outputs": [
    {
     "data": {
      "text/plain": [
       "array([[ 1.,  2.,  5.,  6.,  7.],\n",
       "       [ 3.,  4.,  8.,  9., 10.]])"
      ]
     },
     "execution_count": 2,
     "metadata": {},
     "output_type": "execute_result"
    }
   ],
   "source": [
    "# Exemplo 1 - a funcionar (alterar isto)\n",
    "arr1 = [[1, 2], \n",
    "        [3, 4.]]\n",
    "\n",
    "arr2 = [[5, 6, 7], \n",
    "        [8, 9, 10]]\n",
    "\n",
    "np.concatenate((arr1, arr2), axis=1)"
   ]
  },
  {
   "cell_type": "markdown",
   "metadata": {},
   "source": [
    "Explicação sobre o exemplo"
   ]
  },
  {
   "cell_type": "code",
   "execution_count": null,
   "metadata": {},
   "outputs": [],
   "source": [
    "# Exemplo 2 - a funcionar\n",
    "???"
   ]
  },
  {
   "cell_type": "markdown",
   "metadata": {},
   "source": [
    "Explicação sobre o exemplo"
   ]
  },
  {
   "cell_type": "code",
   "execution_count": 4,
   "metadata": {},
   "outputs": [
    {
     "data": {
      "text/plain": [
       "array([[ 1.,  2.,  5.,  6.,  7.],\n",
       "       [ 3.,  4.,  8.,  9., 10.]])"
      ]
     },
     "execution_count": 4,
     "metadata": {},
     "output_type": "execute_result"
    }
   ],
   "source": [
    "# Example 3 - a rebentar (para ilustrar quando é que rebenta)\n",
    "arr1 = [[1, 2], \n",
    "        [3, 4.]]\n",
    "\n",
    "arr2 = [[5, 6, 7], \n",
    "        [8, 9, 10]]\n",
    "\n",
    "np.concatenate((arr1, arr2), axis=1)"
   ]
  },
  {
   "cell_type": "markdown",
   "metadata": {},
   "source": [
    "Explicação sobre o exemplo (por que é que rebenta e como corrigir)"
   ]
  },
  {
   "cell_type": "markdown",
   "metadata": {},
   "source": [
    "Alguns comentários finais sobre quando usar esta função."
   ]
  },
  {
   "cell_type": "markdown",
   "metadata": {},
   "source": [
    "## Função 2 - ???\n",
    "\n",
    "Adicionar algumas explicações"
   ]
  },
  {
   "cell_type": "code",
   "execution_count": null,
   "metadata": {},
   "outputs": [],
   "source": [
    "# Exemplo 1 - a funcionar\n",
    "???"
   ]
  },
  {
   "cell_type": "markdown",
   "metadata": {},
   "source": [
    "Explicação sobre o exemplo"
   ]
  },
  {
   "cell_type": "code",
   "execution_count": null,
   "metadata": {},
   "outputs": [],
   "source": [
    "# Exemplo 2 - a funcionar\n",
    "???"
   ]
  },
  {
   "cell_type": "markdown",
   "metadata": {},
   "source": [
    "Explicação sobre o exemplo"
   ]
  },
  {
   "cell_type": "code",
   "execution_count": null,
   "metadata": {},
   "outputs": [],
   "source": [
    "# Exemplo 3 - a rebentar (para ilustrar quando é que rebenta)\n",
    "???"
   ]
  },
  {
   "cell_type": "markdown",
   "metadata": {},
   "source": [
    "Explicação sobre o exemplo (por que é que rebenta e como corrigir)"
   ]
  },
  {
   "cell_type": "markdown",
   "metadata": {},
   "source": [
    "Alguns comentários finais sobre quando usar esta função."
   ]
  },
  {
   "cell_type": "code",
   "execution_count": null,
   "metadata": {},
   "outputs": [],
   "source": [
    "# Exemplo 1 - a funcionar\n",
    "???"
   ]
  },
  {
   "cell_type": "markdown",
   "metadata": {},
   "source": [
    "Explicação sobre o exemplo"
   ]
  },
  {
   "cell_type": "code",
   "execution_count": null,
   "metadata": {},
   "outputs": [],
   "source": [
    "# Exemplo 2 - a funcionar\n",
    "???"
   ]
  },
  {
   "cell_type": "markdown",
   "metadata": {},
   "source": [
    "Explicação sobre o exemplo"
   ]
  },
  {
   "cell_type": "code",
   "execution_count": null,
   "metadata": {},
   "outputs": [],
   "source": [
    "# Exemplo 3 - a rebentar (para ilustrar quando é que rebenta)\n",
    "???"
   ]
  },
  {
   "cell_type": "markdown",
   "metadata": {},
   "source": [
    "Explicação sobre o exemplo (por que é que rebenta e como corrigir)"
   ]
  },
  {
   "cell_type": "markdown",
   "metadata": {},
   "source": [
    "Alguns comentários finais sobre quando usar esta função."
   ]
  },
  {
   "cell_type": "markdown",
   "metadata": {},
   "source": [
    "## Função 3 - ???\n",
    "\n",
    "Adicionar algumas explicações"
   ]
  },
  {
   "cell_type": "code",
   "execution_count": null,
   "metadata": {},
   "outputs": [],
   "source": [
    "# Exemplo 1 - a funcionar\n",
    "???"
   ]
  },
  {
   "cell_type": "markdown",
   "metadata": {},
   "source": [
    "Explicação sobre o exemplo"
   ]
  },
  {
   "cell_type": "code",
   "execution_count": null,
   "metadata": {},
   "outputs": [],
   "source": [
    "# Exemplo 2 - a funcionar\n",
    "???"
   ]
  },
  {
   "cell_type": "markdown",
   "metadata": {},
   "source": [
    "Explicação sobre o exemplo"
   ]
  },
  {
   "cell_type": "code",
   "execution_count": null,
   "metadata": {},
   "outputs": [],
   "source": [
    "# Exemplo 3 - a rebentar (para ilustrar quando é que rebenta)\n",
    "???"
   ]
  },
  {
   "cell_type": "markdown",
   "metadata": {},
   "source": [
    "Explicação sobre o exemplo (por que é que rebenta e como corrigir)"
   ]
  },
  {
   "cell_type": "markdown",
   "metadata": {},
   "source": [
    "Alguns comentários finais sobre quando usar esta função."
   ]
  },
  {
   "cell_type": "markdown",
   "metadata": {},
   "source": [
    "## Conclusão\n",
    "\n",
    "Resumo do que foi abordado neste notebook e o que fazer em próximos passos"
   ]
  },
  {
   "cell_type": "markdown",
   "metadata": {},
   "source": [
    "## Links de referência\n",
    "Forneça links para as suas referências e outros artigos interessantes sobre arrays Numpy:\n",
    "* Numpy official tutorial : https://numpy.org/doc/stable/user/quickstart.html\n",
    "* ..."
   ]
  }
 ],
 "metadata": {
  "kernelspec": {
   "display_name": "ips_ciencia_dados",
   "language": "python",
   "name": "python3"
  },
  "language_info": {
   "codemirror_mode": {
    "name": "ipython",
    "version": 3
   },
   "file_extension": ".py",
   "mimetype": "text/x-python",
   "name": "python",
   "nbconvert_exporter": "python",
   "pygments_lexer": "ipython3",
   "version": "3.10.13"
  }
 },
 "nbformat": 4,
 "nbformat_minor": 4
}
