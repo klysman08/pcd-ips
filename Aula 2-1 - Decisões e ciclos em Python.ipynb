{
 "cells": [
  {
   "cell_type": "markdown",
   "metadata": {},
   "source": [
    "Esta aula cobre os seguintes tópicos:\n",
    "\n",
    "- Decisões com `if`, `else` e `elif`\n",
    "- Condições encadeadas e expressões `if`\n",
    "- Iteração com ciclos `while`\n",
    "- Iterar sobre containers com ciclos `for`\n",
    "- Ciclos encadeados, instruções `break` e `continue`"
   ]
  },
  {
   "cell_type": "markdown",
   "metadata": {},
   "source": [
    "### Como executar o código\n",
    "\n",
    "Esta aula é um [Jupyter notebook](https://jupyter.org) executável. Pode _correr_ esta aula e experimentar os exemplos de código de diferentes formas: *localmente no seu computador*, ou *utilizando um serviço online gratuito*.\n",
    "\n",
    "#### Opção 1: Correr localmente no seu computador\n",
    "\n",
    "Para correr localmente o código no seu computador, faça download do notebook e abra o ficheiro com uma aplicação ou ambiente de desenvolvimento suportado, por exemplo:\n",
    "* Visual Studio Code: https://code.visualstudio.com/download\n",
    "* Anaconda: https://www.anaconda.com/download\n",
    "* Miniconda: https://docs.conda.io/projects/miniconda/en/latest/\n",
    "\n",
    "Em qualquer das opções, as aplicações terão de suportar (nativamente ou através de extensões) o [Python](https://www.python.org) e os [Jupyter notebooks](https://jupyter.org), de forma a disponibilizar um ambiente de visualização e execução local com um kernel que execute o código Python contido no notebook.\n",
    "\n",
    "#### Opção 2: Correr num serviço online gratuito\n",
    "\n",
    "Para executar o notebook online, faça upload do notebook para o serviço da sua preferência, por exemplo:\n",
    "* Google Colab: https://colab.google/\n",
    "* Binder (com repositório GitHub): https://mybinder.org/\n",
    "* Kaggle: https://www.kaggle.com/\n",
    "\n",
    "\n",
    ">  **Jupyter Notebooks**: Esta aula é um [Jupyter notebook](https://jupyter.org) - um documento feito de _células_. Cada célula pode conter código escrito em Python ou explicações em português. Pode executar células de código e visualizar os resultados, e.g., números, mensagens, gráficos, tabelas, ficheiros, etc., instantaneamente no notebook. O Jupyter é uma plataforma poderosa para experimentação e análise. Não tenha medo de mexer no código ou estragar alguma coisa - aprenderá muito ao encontrar e corrigir erros. Pode utilizar a opção de menu \"Kernel > Restart & Clear Output\" (Kernel > Reiniciar e Limpar Saída) para limpar todas as saídas e recomeçar do início."
   ]
  },
  {
   "cell_type": "markdown",
   "metadata": {},
   "source": [
    "## Branching com `if`, `else` e `elif`\n",
    "\n",
    "Uma das características mais poderosas das linguagens de programação é o *branching*: a capacidade de tomar decisões e executar um conjunto diferente de instruções com base no facto de uma ou mais condições serem verdadeiras.\n",
    "\n",
    "### A instrução `if`\n",
    "\n",
    "In Python, o branching é implementado usando a instrução `if`, que é escrita da seguinte forma:\n",
    "\n",
    "```\n",
    "if condição:\n",
    "    instrução1\n",
    "    instrução2\n",
    "```\n",
    "\n",
    "A `condição` pode ser um valor, uma variável ou uma expressão. Se a condição for avaliada como `True`, então as instruções dentro do *bloco `if`* são executadas. Note os quatro espaços antes de `instrução1`, `instrução2`, etc. Os espaços informam o Python que essas instruções estão associadas com a instrução `if` acima. Esta técnica de estruturar o código adicionando espaços é chamada de *indentação*.\n",
    "\n",
    "> **Indentação**: O Python baseia-se fortemente na *indentação* (espaços em branco antes de uma instrução) para definir a estrutura do código. Isto faz com que o código Python seja fácil de ler e entender. Podemos ter problemas se não usarmos a indentação corretamente. Podemos identar o nosso código colocando o cursor no início da linha e pressionando a tecla `Tab` uma vez para adicionar 4 espaços. Pressionando `Tab` novamente, o código será indentado em mais 4 espaços, e pressionando `Shift+Tab` reduzirá a indentação em 4 espaços. \n",
    "\n",
    "\n",
    "Por exemplo, vamos escrever um código para verificar e exibir uma mensagem se um determinado número for par."
   ]
  },
  {
   "cell_type": "code",
   "execution_count": 1,
   "metadata": {},
   "outputs": [],
   "source": [
    "um_numero = 34"
   ]
  },
  {
   "cell_type": "code",
   "execution_count": 2,
   "metadata": {},
   "outputs": [
    {
     "name": "stdout",
     "output_type": "stream",
     "text": [
      "Estamos dentro de um bloco if\n",
      "O número fornecido 34 é par.\n"
     ]
    }
   ],
   "source": [
    "if um_numero % 2 == 0:\n",
    "    print(\"Estamos dentro de um bloco if\")\n",
    "    print('O número fornecido {} é par.'.format(um_numero))"
   ]
  },
  {
   "cell_type": "markdown",
   "metadata": {},
   "source": [
    "Utilizamos o operador módulo `%` para calcular o resto da divisão de `um_numero` by `2`. Depois, utilizamos o operador de comparação `==` para verificar se o resto é `0`, o que nos diz se o número é par, ou seja, divisível por 2.\n",
    "\n",
    "Como `34` é divisível por `2`, a expressão `um_numero % 2 == 0` é avaliada como `True`, logo é executada a instrução `print` por baixo da instrução `if`. Note ainda que estamos a usar o método string `format` para incluir o número dentro da mensagem.\n",
    "\n",
    "Vamos tentar o procedimento acima novamente com um número ímpar."
   ]
  },
  {
   "cell_type": "code",
   "execution_count": 3,
   "metadata": {},
   "outputs": [],
   "source": [
    "outro_numero = 33"
   ]
  },
  {
   "cell_type": "code",
   "execution_count": 4,
   "metadata": {},
   "outputs": [],
   "source": [
    "if outro_numero % 2 == 0:\n",
    "    print('O número fornecido {} é par.'.format(outro_numero))"
   ]
  },
  {
   "cell_type": "markdown",
   "metadata": {},
   "source": [
    "Conforme esperado, dado que a condição  `outro_numero % 2 == 0` avalia para `False`, nenhuma mensagem é exibida. \n",
    "\n",
    "### A instrução `else`\n",
    "\n",
    "Podemos querer exibir uma mensagem diferente caso o número não seja para no exemplo acima. Isto pode ser feito adicionando o `else`. Escrevemos da seguinte forma:\n",
    "\n",
    "```\n",
    "if condição:\n",
    "    instrução1\n",
    "    instrução2\n",
    "else:\n",
    "    instrução3\n",
    "    instrução4\n",
    "```\n",
    "\n",
    "Se `condição` avaliar para `True`, as instruções no bloco `if` são executadas. Se avaliar para `False`, as instruções no bloco `else` são executadas."
   ]
  },
  {
   "cell_type": "code",
   "execution_count": 5,
   "metadata": {},
   "outputs": [],
   "source": [
    "um_numero = 34"
   ]
  },
  {
   "cell_type": "code",
   "execution_count": 6,
   "metadata": {},
   "outputs": [
    {
     "name": "stdout",
     "output_type": "stream",
     "text": [
      "O número 34 fornecido é par.\n"
     ]
    }
   ],
   "source": [
    "if um_numero % 2 == 0:\n",
    "    print('O número {} fornecido é par.'.format(um_numero))\n",
    "else:\n",
    "    print('O número {} fornecido é ímpar.'.format(um_numero))"
   ]
  },
  {
   "cell_type": "code",
   "execution_count": 7,
   "metadata": {},
   "outputs": [],
   "source": [
    "outro_numero = 33"
   ]
  },
  {
   "cell_type": "code",
   "execution_count": 8,
   "metadata": {},
   "outputs": [
    {
     "name": "stdout",
     "output_type": "stream",
     "text": [
      "O número 33 fornecido é ímpar.\n"
     ]
    }
   ],
   "source": [
    "if outro_numero % 2 == 0:\n",
    "    print('O número {} fornecido é par.'.format(outro_numero))\n",
    "else:\n",
    "    print('O número {} fornecido é ímpar.'.format(outro_numero))"
   ]
  },
  {
   "cell_type": "markdown",
   "metadata": {},
   "source": [
    "Aqui está outro exemplo, que usa o operador `in` para verificar se um valor é membro de um tuplo."
   ]
  },
  {
   "cell_type": "code",
   "execution_count": 9,
   "metadata": {},
   "outputs": [],
   "source": [
    "os_3_mosqueteiros = ('Athos', 'Porthos', 'Aramis')"
   ]
  },
  {
   "cell_type": "code",
   "execution_count": 10,
   "metadata": {},
   "outputs": [],
   "source": [
    "um_candidato = \"D'Artagnan\""
   ]
  },
  {
   "cell_type": "code",
   "execution_count": 11,
   "metadata": {},
   "outputs": [
    {
     "name": "stdout",
     "output_type": "stream",
     "text": [
      "D'Artagnan não é um mosqueteiro\n"
     ]
    }
   ],
   "source": [
    "if um_candidato in os_3_mosqueteiros:\n",
    "    print(\"{} é um mosqueteiro\".format(um_candidato))\n",
    "else:\n",
    "    print(\"{} não é um mosqueteiro\".format(um_candidato))"
   ]
  },
  {
   "cell_type": "markdown",
   "metadata": {},
   "source": [
    "### A instrução `elif`\n",
    "\n",
    "O Python também oferece uma instrução `elif` (abreviatura para \"else if\") para encadear uma série de blocos condicionais. As condições são avaliadas uma de cada vez. Para a primeira condição que avaliar para `True`, o bloco de instruções abaixo é executado. As restantes condições e instruções não são avaliadas. Assim, num encadeamento `if`, `elif`, `elif`..., no máximo é executado um bloco de instruções, o que corresponder à primeira condição que avalia para `True`. "
   ]
  },
  {
   "cell_type": "code",
   "execution_count": 12,
   "metadata": {},
   "outputs": [],
   "source": [
    "hoje = 'Quarta-feira'"
   ]
  },
  {
   "cell_type": "code",
   "execution_count": 13,
   "metadata": {},
   "outputs": [
    {
     "name": "stdout",
     "output_type": "stream",
     "text": [
      "Hoje é o dia de Odin, a divindade suprema.\n"
     ]
    }
   ],
   "source": [
    "if hoje == 'Domingo':\n",
    "    print(\"Hoje é o dia do sol.\")\n",
    "elif hoje == 'Segunda-feira':\n",
    "    print(\"Hoje é o dia da lua.\")\n",
    "elif hoje == 'Terça-feira':\n",
    "    print(\"Hoje é o dia de Tyr, o deus da guerra.\")\n",
    "elif hoje == 'Quarta-feira':\n",
    "    print(\"Hoje é o dia de Odin, a divindade suprema.\")\n",
    "elif hoje == 'Quinta-feira':\n",
    "    print(\"Hoje é o dia de Thor, o deus do trovão\")\n",
    "elif hoje == 'Sexta-feira':\n",
    "    print(\"Hoje é o dia de Frigga, a deusa da fertilidade, do amor e da união.\")\n",
    "elif hoje == 'Sábado':\n",
    "    print(\"Hoje é o dia de Saturno, o deus da diversão e festa.\")"
   ]
  },
  {
   "cell_type": "markdown",
   "metadata": {},
   "source": [
    "No exemplo acima, as 3 primeiras condições avaliam para `False`, por isso nenhuma das 3 primeiras mensagens são exibidas. A quarta condição avalia para `True`, por isso a mensagem correspondente é exibida. As restantes condições são ignoradas. Experimente alterar o valor de `hoje` acima e re-executar as células para esvrever as diferentes mensagens.\n",
    "\n",
    "Vamos tentar outro exemplo, para verificar que as restantes condições são ignoradas."
   ]
  },
  {
   "cell_type": "code",
   "execution_count": 14,
   "metadata": {},
   "outputs": [],
   "source": [
    "um_numero = 15"
   ]
  },
  {
   "cell_type": "code",
   "execution_count": 15,
   "metadata": {},
   "outputs": [
    {
     "name": "stdout",
     "output_type": "stream",
     "text": [
      "15 é divisível por 3\n"
     ]
    }
   ],
   "source": [
    "if um_numero % 2 == 0:\n",
    "    print('{} é divisível por 2'.format(um_numero))\n",
    "elif um_numero % 3 == 0:\n",
    "    print('{} é divisível por 3'.format(um_numero))\n",
    "elif um_numero % 5 == 0:\n",
    "    print('{} é divisível por 5'.format(um_numero))\n",
    "elif um_numero % 7 == 0:\n",
    "    print('{} é divisível por 7'.format(um_numero))"
   ]
  },
  {
   "cell_type": "markdown",
   "metadata": {},
   "source": [
    "Note que a mensagem `15 é divisível por 5` não é exibida porque a condição `um_numero % 5 == 0` não é avaliada, dado que a condição anterior `um_numero % 3 == 0` avalia para `True`. Esta é a diferença-chave entre usar uma cadeia de instruções `if`, `elif`, `elif`... vs. uma cadeia de instruções `if`, onde cada condição é avaliada de forma independente."
   ]
  },
  {
   "cell_type": "code",
   "execution_count": 16,
   "metadata": {},
   "outputs": [
    {
     "name": "stdout",
     "output_type": "stream",
     "text": [
      "15 é divisível por 3\n",
      "15 é divisível por 5\n"
     ]
    }
   ],
   "source": [
    "if um_numero % 2 == 0:\n",
    "    print('{} é divisível por 2'.format(um_numero))\n",
    "if um_numero % 3 == 0:\n",
    "    print('{} é divisível por 3'.format(um_numero))\n",
    "if um_numero % 5 == 0:\n",
    "    print('{} é divisível por 5'.format(um_numero))\n",
    "if um_numero % 7 == 0:\n",
    "    print('{} é divisível por 7'.format(um_numero))"
   ]
  },
  {
   "cell_type": "markdown",
   "metadata": {},
   "source": [
    "### Usando o `if`, `elif`, e `else` em conjunto\n",
    "\n",
    "Podemos também incluir uma instrução `else` no final de uma cadeia de instruções `if`, `elif`... O código no bloco `else` é avaliado quando nenhuma das condições é verdadeira."
   ]
  },
  {
   "cell_type": "code",
   "execution_count": 17,
   "metadata": {},
   "outputs": [],
   "source": [
    "um_numero = 49"
   ]
  },
  {
   "cell_type": "code",
   "execution_count": 18,
   "metadata": {},
   "outputs": [
    {
     "name": "stdout",
     "output_type": "stream",
     "text": [
      "Todas as verificações falharam!\n",
      "49 não é divisível por 2, 3 ou 5\n"
     ]
    }
   ],
   "source": [
    "if um_numero % 2 == 0:\n",
    "    print('{} é divisível por 2'.format(um_numero))\n",
    "elif um_numero % 3 == 0:\n",
    "    print('{} é divisível por 3'.format(um_numero))\n",
    "elif um_numero % 5 == 0:\n",
    "    print('{} é divisível por 5'.format(um_numero))\n",
    "else:\n",
    "    print('Todas as verificações falharam!')\n",
    "    print('{} não é divisível por 2, 3 ou 5'.format(um_numero))"
   ]
  },
  {
   "cell_type": "markdown",
   "metadata": {},
   "source": [
    "Também podemos combinar condições com os operadores lógicos `and`, `or` e `not`. Os operadores lógicos são explicados em detalhe na aula 1 (primeiros passos com Python)."
   ]
  },
  {
   "cell_type": "code",
   "execution_count": 19,
   "metadata": {},
   "outputs": [],
   "source": [
    "um_numero = 12"
   ]
  },
  {
   "cell_type": "code",
   "execution_count": 20,
   "metadata": {},
   "outputs": [
    {
     "name": "stdout",
     "output_type": "stream",
     "text": [
      "O número 12 não é divisível por 5\n"
     ]
    }
   ],
   "source": [
    "if um_numero % 3 == 0 and um_numero % 5 == 0:\n",
    "    print(\"O número {} é divisível por 3 e 5\".format(um_numero))\n",
    "elif not um_numero % 5 == 0:\n",
    "    print(\"O número {} não é divisível por 5\".format(um_numero))"
   ]
  },
  {
   "cell_type": "markdown",
   "metadata": {},
   "source": [
    "### Condições Não-Booleanas\n",
    "\n",
    "Note que as condições não têm necessariamente de ser booleanos. Na verdade, uma condição pode ser qualquer valor. O valor é automaticamente convertido para um booleano com o operador `bool`. Isto quer dizer que valores *falsy* como `0`, `''`, `{}`, `[]`, etc. avaliam para `False` e todos os outros valores avaliam para `True`."
   ]
  },
  {
   "cell_type": "code",
   "execution_count": 21,
   "metadata": {},
   "outputs": [
    {
     "name": "stdout",
     "output_type": "stream",
     "text": [
      "A condição avaliou para False\n"
     ]
    }
   ],
   "source": [
    "if '':\n",
    "    print('A condição avaliou para True')\n",
    "else:\n",
    "    print('A condição avaliou para False')\n",
    "    "
   ]
  },
  {
   "cell_type": "code",
   "execution_count": 22,
   "metadata": {},
   "outputs": [
    {
     "name": "stdout",
     "output_type": "stream",
     "text": [
      "A condição avaliou para True\n"
     ]
    }
   ],
   "source": [
    "if 'Olá':\n",
    "    print('A condição avaliou para True')\n",
    "else:\n",
    "    print('A condição avaliou para False')"
   ]
  },
  {
   "cell_type": "code",
   "execution_count": 23,
   "metadata": {},
   "outputs": [
    {
     "name": "stdout",
     "output_type": "stream",
     "text": [
      "A condição avaliou para True\n"
     ]
    }
   ],
   "source": [
    "if { 'a': 34 }:\n",
    "    print('A condição avaliou para True')\n",
    "else:\n",
    "    print('A condição avaliou para False')"
   ]
  },
  {
   "cell_type": "code",
   "execution_count": 24,
   "metadata": {},
   "outputs": [
    {
     "name": "stdout",
     "output_type": "stream",
     "text": [
      "A condição avaliou para False\n"
     ]
    }
   ],
   "source": [
    "if None:\n",
    "    print('A condição avaliou para True')\n",
    "else:\n",
    "    print('A condição avaliou para False')"
   ]
  },
  {
   "cell_type": "markdown",
   "metadata": {},
   "source": [
    "### Instruções condicionais encadeadas\n",
    "\n",
    "O código dentro de um bloco `if` pode também incluir uma instrução `if` lá dentro. Este padrão é chamado `nesting` e é usado para verificar outra condição depois de uma dada condição ser verdadeira."
   ]
  },
  {
   "cell_type": "code",
   "execution_count": 25,
   "metadata": {},
   "outputs": [],
   "source": [
    "um_numero = 15"
   ]
  },
  {
   "cell_type": "code",
   "execution_count": 26,
   "metadata": {},
   "outputs": [
    {
     "name": "stdout",
     "output_type": "stream",
     "text": [
      "15 é ímpar\n",
      "15 é também divisível por 5\n"
     ]
    }
   ],
   "source": [
    "if um_numero % 2 == 0:\n",
    "    print(\"{} é par\".format(um_numero))\n",
    "    if um_numero % 3 == 0:\n",
    "        print(\"{} é também divisível por 3\".format(um_numero))\n",
    "    else:\n",
    "        print(\"{} não é divisível por 3\".format(um_numero))\n",
    "else:\n",
    "    print(\"{} é ímpar\".format(um_numero))\n",
    "    if um_numero % 5 == 0:\n",
    "        print(\"{} é também divisível por 5\".format(um_numero))\n",
    "    else:\n",
    "        print(\"{} não é divisível por 5\".format(um_numero))"
   ]
  },
  {
   "cell_type": "markdown",
   "metadata": {},
   "source": [
    "Repare como as instruções `print` estão indentadas com 8 espaços para indicar que são parte dos blocos `if`/`else` interiores.\n",
    "\n",
    "> As instruções `if`, `else` encadeadas são muitas vezes difíceis de ler e suscetíveis ao erro humano. É aconselhável evitar estes encadeamentos sempre que possível, ou limitar o encadeamento a 1 ou 2 níveis."
   ]
  },
  {
   "cell_type": "markdown",
   "metadata": {},
   "source": [
    "### Expressão condicional `if` abreviada\n",
    "\n",
    "Um caso de utilização frequente da instrução `if` envolve testar uma condição e atribuir um valor a uma variável com base na condição."
   ]
  },
  {
   "cell_type": "code",
   "execution_count": 27,
   "metadata": {},
   "outputs": [
    {
     "name": "stdout",
     "output_type": "stream",
     "text": [
      "O número 13 é ímpar.\n"
     ]
    }
   ],
   "source": [
    "um_numero = 13\n",
    "\n",
    "if um_numero % 2 == 0:\n",
    "    paridade = 'par'\n",
    "else:\n",
    "    paridade = 'ímpar'\n",
    "\n",
    "print('O número {} é {}.'.format(um_numero, paridade))"
   ]
  },
  {
   "cell_type": "markdown",
   "metadata": {},
   "source": [
    "O Python oferece uma sintaxe mais abreviada, que permite escrever este tipo de condições numa única linha de código. Tem o nome de *expressão condicional* ou *operador ternário*, e a seguinte sintaxe:\n",
    "\n",
    "```\n",
    "x = valor_verdadeiro if condição else valor_falso\n",
    "```\n",
    "\n",
    "Tem o mesmo comportamento que o bloco `if`-`else` seguinte:\n",
    "\n",
    "```\n",
    "if condição:\n",
    "    x = valor_verdadeiro\n",
    "else:\n",
    "    x = valor_falso\n",
    "```\n",
    "\n",
    "Vamos experimentar com o exemplo abaixo."
   ]
  },
  {
   "cell_type": "code",
   "execution_count": 28,
   "metadata": {},
   "outputs": [],
   "source": [
    "paridade = 'par' if um_numero % 2 == 0 else 'impar'"
   ]
  },
  {
   "cell_type": "code",
   "execution_count": 29,
   "metadata": {},
   "outputs": [
    {
     "name": "stdout",
     "output_type": "stream",
     "text": [
      "O número 13 é impar.\n"
     ]
    }
   ],
   "source": [
    "print('O número {} é {}.'.format(um_numero, paridade))"
   ]
  },
  {
   "cell_type": "markdown",
   "metadata": {},
   "source": [
    "### Instruções e Expressões\n",
    "\n",
    "A expressão condicional The conditional expression ilustra uma distinção essencial entre *instruções* and *expressões* em Python. \n",
    "\n",
    "> **Instruções**: Uma instrução (*statement*) é uma instrução que pode ser executada. Todas as linhas de código que escrevemos até agora são instruções e.g. atribuir uma variável, chamar uma função, instruções condicionais com `if`, `else`, e `elif`, ciclos com `for` e `while` etc.\n",
    "\n",
    "> **Expressões**: Uma expressão é um código que avalia para um valor. Exemplos incluem valores de diferentes tipos de dados, expressões aritméticas, condições, variáveis, chamadas a funções (os seus resultados), expressões condicionais, etc. \n",
    "\n",
    "A maioria das expressões podem ser executadas como instruções, mas nem todas as instruções são expressões. Por exemplo, a instrução if não é uma expressão dado que não avalia para um valor. Apenas efetua um *branching* no código.  expressions can be executed as statements, but not all statements are expressions. For example, the regular `if` statement is not an expression since it does not evaluate to a value. It merely performs some branching in the code. Similarly, loops and function definitions are not expressions (we'll learn more about these in later sections).\n",
    "\n",
    "Regra geral, uma expressão é qualquer coisa que possa aparecer no lado direito do operador de atribuição `=`. Podemos usar este teste rápido para verificar se algo é uma expressão ou não. Se tentarmos atribuir algo que não seja uma expressão obteremos um erro de sintaxe."
   ]
  },
  {
   "cell_type": "code",
   "execution_count": 30,
   "metadata": {},
   "outputs": [],
   "source": [
    "# instrução if\n",
    "resultado = 'par' if um_numero % 2 == 0 else 'ímpar'\n"
   ]
  },
  {
   "cell_type": "code",
   "execution_count": 31,
   "metadata": {},
   "outputs": [],
   "source": [
    "# expressão if\n",
    "resultado = 'par' if um_numero % 2 == 0 else 'ímpar'"
   ]
  },
  {
   "cell_type": "markdown",
   "metadata": {},
   "source": [
    "### A instrução `pass`\n",
    "\n",
    "As instruções `if` não podem ser vazias, tem de existir pelo menos uma instrução em cada bloco `if` e `elif`. Podemos usar a instrução `pass` para não fazer nada e evitar obter um erro."
   ]
  },
  {
   "cell_type": "code",
   "execution_count": 32,
   "metadata": {},
   "outputs": [],
   "source": [
    "um_numero = 9"
   ]
  },
  {
   "cell_type": "code",
   "execution_count": 33,
   "metadata": {},
   "outputs": [
    {
     "ename": "IndentationError",
     "evalue": "expected an indented block after 'if' statement on line 1 (3931986511.py, line 2)",
     "output_type": "error",
     "traceback": [
      "\u001b[1;36m  Cell \u001b[1;32mIn[33], line 2\u001b[1;36m\u001b[0m\n\u001b[1;33m    elif um_numero % 3 == 0:\u001b[0m\n\u001b[1;37m    ^\u001b[0m\n\u001b[1;31mIndentationError\u001b[0m\u001b[1;31m:\u001b[0m expected an indented block after 'if' statement on line 1\n"
     ]
    }
   ],
   "source": [
    "if um_numero % 2 == 0:\n",
    "elif um_numero % 3 == 0:\n",
    "    print('{} é divisível por 3 mas não divisível por 2'.format(um_numero))"
   ]
  },
  {
   "cell_type": "code",
   "execution_count": 34,
   "metadata": {},
   "outputs": [
    {
     "name": "stdout",
     "output_type": "stream",
     "text": [
      "9 é divisível por 3 mas não divisível por 2\n"
     ]
    }
   ],
   "source": [
    "if um_numero % 2 == 0:\n",
    "    pass\n",
    "elif um_numero % 3 == 0:\n",
    "    print('{} é divisível por 3 mas não divisível por 2'.format(um_numero))"
   ]
  },
  {
   "cell_type": "markdown",
   "metadata": {},
   "source": [
    "### Guardar o seu notebook\n",
    "\n",
    "É muito importante guardar o seu trabalho com frequência. Pode continuar a trabalhar mais tarde num notebook que gravou anteriormente ou pode partilhá-lo com outras pessoas e permitir que executem o seu código."
   ]
  },
  {
   "cell_type": "markdown",
   "metadata": {},
   "source": [
    "## Iteração com ciclos `while`\n",
    "\n",
    "Outra caraterística poderosa das linguagens de programação, intimamente relacionada com o *branching*, é executar uma ou mais instruções múltiplas vezes. Esta caraterística é muitas vezes referida como *iteração* ou *looping*, e há duas maneiras de o fazer em Python: usando ciclos `while` e ciclos `for`. \n",
    "\n",
    "Os ciclos `while` têm a seguinte sintaxe:\n",
    "\n",
    "```\n",
    "while condição:\n",
    "    instruções\n",
    "```\n",
    "\n",
    "As instruções no bloco de código sob o `while` são executadas repetidamente enquanto a `condição` for avaliada para `True`. Geralmente, uma das instruções sob o `while` faz alguma alteração numa variável que faz com que a condição seja avaliada para `False` após um certo número de iterações.\n",
    "\n",
    "Vamos tentar calcular o fatorial de `100` utilizando um ciclo `while`. O fatorial de um número `n` é o produto (multiplicação) de todos os números de `1` a `n`, ou seja, `1*2*3*...*(n-2)*(n-1)*n`."
   ]
  },
  {
   "cell_type": "code",
   "execution_count": 35,
   "metadata": {},
   "outputs": [
    {
     "name": "stdout",
     "output_type": "stream",
     "text": [
      "O factorial of 100 é: 93326215443944152681699238856266700490715968264381621468592963895217599993229915608941463976156518286253697920827223758251185210916864000000000000000000000000\n"
     ]
    }
   ],
   "source": [
    "resultado = 1\n",
    "i = 1\n",
    "\n",
    "while i <= 100:\n",
    "    resultado = resultado * i\n",
    "    i = i+1\n",
    "\n",
    "print('O factorial of 100 é: {}'.format(resultado))"
   ]
  },
  {
   "cell_type": "markdown",
   "metadata": {},
   "source": [
    "Vamos ver como funciona o código acima:\n",
    "\n",
    "* Primeiro inicializamos duas variáveis, `resultado` e `i`. `resultado` vai conter o resultado final. E `i` é usado para manter o controlo do próximo número a ser multiplicado com `resultado`. Ambos são inicializados a 1 (consegue explicar porquê?)\n",
    "\n",
    "* A condição `i <= 100` é verdadeira (dado que `i` é inicialmente `1`), portanto o bloco `while` é executado.\n",
    "\n",
    "* O `resultado` é atualizado para `resultado * i`, `i` é incrementado em `1` e passa a ter o valor `2`.\n",
    "\n",
    "* Neste ponto, a condição `i <= 100` é avaliada novamente. Dado que continua a ser verdadeira, `resultado` é novamente atualizado para `resultado * i`, e `i` é aumentado para `3`.\n",
    "\n",
    "* Este processo é repetido até que a condição se torne falsa, o que acontece quando `i` tem o valor `101`. Quando a condição é avaliada para `False`, a execução do ciclo termina e a instrução `print` abaixo é executada. \n",
    "\n",
    "Consegue perceber porque é que `resultado` contém o valor do fatorial de 100 no final? Se não, tente adicionar instruções `print` dentro do bloco `while` para imprimir `resultado` e `i` em cada iteração.\n",
    "\n",
    "\n",
    "> A iteração é uma técnica poderosa porque dá aos computadores uma enorme vantagem sobre os seres humanos na realização de milhares ou mesmo milhões de operações repetitivas muito rapidamente. Com apenas 4-5 linhas de código, fomos capazes de multiplicar 100 números quase instantaneamente. O mesmo código pode ser utilizado para multiplicar mil números (basta alterar a condição para `i <= 1000`) em poucos segundos.\n",
    "\n",
    "Podemos verificar quanto tempo uma célula demora a executar adicionando o comando *mágico* `%%time` no topo de uma célula. Tente verificar quanto tempo demora a calcular o fatorial de `100`, `1000`, `10000`, `100000`, etc."
   ]
  },
  {
   "cell_type": "code",
   "execution_count": 36,
   "metadata": {},
   "outputs": [
    {
     "name": "stdout",
     "output_type": "stream",
     "text": [
      "402387260077093773543702433923003985719374864210714632543799910429938512398629020592044208486969404800479988610197196058631666872994808558901323829669944590997424504087073759918823627727188732519779505950995276120874975462497043601418278094646496291056393887437886487337119181045825783647849977012476632889835955735432513185323958463075557409114262417474349347553428646576611667797396668820291207379143853719588249808126867838374559731746136085379534524221586593201928090878297308431392844403281231558611036976801357304216168747609675871348312025478589320767169132448426236131412508780208000261683151027341827977704784635868170164365024153691398281264810213092761244896359928705114964975419909342221566832572080821333186116811553615836546984046708975602900950537616475847728421889679646244945160765353408198901385442487984959953319101723355556602139450399736280750137837615307127761926849034352625200015888535147331611702103968175921510907788019393178114194545257223865541461062892187960223838971476088506276862967146674697562911234082439208160153780889893964518263243671616762179168909779911903754031274622289988005195444414282012187361745992642956581746628302955570299024324153181617210465832036786906117260158783520751516284225540265170483304226143974286933061690897968482590125458327168226458066526769958652682272807075781391858178889652208164348344825993266043367660176999612831860788386150279465955131156552036093988180612138558600301435694527224206344631797460594682573103790084024432438465657245014402821885252470935190620929023136493273497565513958720559654228749774011413346962715422845862377387538230483865688976461927383814900140767310446640259899490222221765904339901886018566526485061799702356193897017860040811889729918311021171229845901641921068884387121855646124960798722908519296819372388642614839657382291123125024186649353143970137428531926649875337218940694281434118520158014123344828015051399694290153483077644569099073152433278288269864602789864321139083506217095002597389863554277196742822248757586765752344220207573630569498825087968928162753848863396909959826280956121450994871701244516461260379029309120889086942028510640182154399457156805941872748998094254742173582401063677404595741785160829230135358081840096996372524230560855903700624271243416909004153690105933983835777939410970027753472000000000000000000000000000000000000000000000000000000000000000000000000000000000000000000000000000000000000000000000000000000000000000000000000000000000000000000000000000000000000000000000000000000000000000000000000000000000000000000000000000000000\n",
      "CPU times: total: 0 ns\n",
      "Wall time: 851 µs\n"
     ]
    }
   ],
   "source": [
    "%%time\n",
    "\n",
    "resultado = 1\n",
    "i = 1\n",
    "\n",
    "while i <= 1000:\n",
    "    resultado *= i # mesmo que resultado = resultado * i\n",
    "    i += 1 # mesmo que i = i+1\n",
    "\n",
    "print(resultado)"
   ]
  },
  {
   "cell_type": "markdown",
   "metadata": {},
   "source": [
    "Aqui está um outro exemplo que usa dois ciclos `while` para criar um padrão interessante."
   ]
  },
  {
   "cell_type": "code",
   "execution_count": 37,
   "metadata": {},
   "outputs": [
    {
     "name": "stdout",
     "output_type": "stream",
     "text": [
      "*\n",
      "**\n",
      "***\n",
      "****\n",
      "*****\n",
      "******\n",
      "*******\n",
      "********\n",
      "*********\n",
      "**********\n",
      "*********\n",
      "********\n",
      "*******\n",
      "******\n",
      "*****\n",
      "****\n",
      "***\n",
      "**\n",
      "*\n"
     ]
    }
   ],
   "source": [
    "linha = '*'\n",
    "comprimento_max = 10\n",
    "\n",
    "while len(linha) < comprimento_max:\n",
    "    print(linha)\n",
    "    linha += \"*\"\n",
    "    \n",
    "while len(linha) > 0:\n",
    "    print(linha)\n",
    "    linha = linha[:-1]"
   ]
  },
  {
   "cell_type": "markdown",
   "metadata": {},
   "source": [
    "Consegue ver como é que o exemplo acima funciona? Como exercício, experimente imprimir o seguinte padrão com um ciclo while (Dica: use a concatenação de strings)\n",
    "\n",
    "```\n",
    "          *\n",
    "         **\n",
    "        ***\n",
    "       ****\n",
    "      *****\n",
    "     ******\n",
    "      *****\n",
    "       ****\n",
    "        ***\n",
    "         **\n",
    "          *\n",
    "```\n",
    "\n",
    "Aqui está outro, juntando os dois:\n",
    "\n",
    "\n",
    "```\n",
    "          *\n",
    "         ***\n",
    "        *****\n",
    "       *******\n",
    "      *********\n",
    "     ***********\n",
    "      *********\n",
    "       *******\n",
    "        *****\n",
    "         ***\n",
    "          *\n",
    "```\n",
    "\n",
    "Veja esta playlist para aprender como criar os padrões acima: https://www.youtube.com/watch?v=2Icpbawb-vw&list=PLyMom0n-MBrpVcMqVV9kbA-hq2ygir0uW"
   ]
  },
  {
   "cell_type": "code",
   "execution_count": 15,
   "metadata": {},
   "outputs": [
    {
     "name": "stdout",
     "output_type": "stream",
     "text": [
      "          *\n",
      "         **\n",
      "        ***\n",
      "       ****\n",
      "      *****\n",
      "     ******\n",
      "      *****\n",
      "       ****\n",
      "        ***\n",
      "         **\n",
      "          *\n",
      " -------------------------------- \n",
      "          *\n",
      "         ***\n",
      "        *****\n",
      "       *******\n",
      "      *********\n",
      "     ***********\n",
      "      *********\n",
      "       *******\n",
      "        *****\n",
      "         ***\n",
      "          *\n"
     ]
    }
   ],
   "source": [
    "linha = '*'\n",
    "comprimento_max = 6\n",
    "espaços = 10\n",
    "while len(linha) < comprimento_max:\n",
    "    print(' ' * espaços + linha)\n",
    "    linha += \"*\" \n",
    "    espaços -= 1\n",
    "while len(linha) > 0:\n",
    "    print(' ' * espaços + linha)\n",
    "    linha = linha[:-1]\n",
    "    espaços += 1\n",
    "\n",
    "print(' -------------------------------- ' )\n",
    "\n",
    "\n",
    "linha = '*' \n",
    "comprimento_max = 10\n",
    "espaços = 10\n",
    "\n",
    "while len(linha) < comprimento_max:\n",
    "    print(' ' * espaços + linha)\n",
    "    linha += \"*\" * 2\n",
    "    espaços -= 1\n",
    "while len(linha) > 0:\n",
    "    print(' ' * espaços + linha)\n",
    "    linha = linha[:-2]\n",
    "    espaços += 1\n",
    "\n"
   ]
  },
  {
   "cell_type": "markdown",
   "metadata": {},
   "source": [
    "### Ciclos infinitos\n",
    "\n",
    "Suponha que a condição num ciclo `while` é sempre verdadeira. Nesse caso, o Python vai executar repetidamente o código dentro do ciclo para sempre, e a execução do código nunca termina. Esta situação é chamada de ciclo infinito. Geralmente indica que cometemos um erro no seu código. Por exemplo, podemos ter fornecido uma condição errada ou esquecido de atualizar uma variável dentro do ciclo, acabando por falsificar a condição.\n",
    "\n",
    "Se o nosso código estiver *preso* num ciclo infinito durante a execução, basta premir o botão \"Stop\" (ou \"Interrupt\", ou similar, dependendo do ambiente) na barra de ferramentas ou selecionar \"Kernel > Interrupt\" na barra de menu. Isto irá *interromper* a execução do código. As duas células seguintes conduzem ambas a loops infinitos e precisam de ser interrompidas."
   ]
  },
  {
   "cell_type": "code",
   "execution_count": 38,
   "metadata": {},
   "outputs": [
    {
     "ename": "KeyboardInterrupt",
     "evalue": "",
     "output_type": "error",
     "traceback": [
      "\u001b[1;31m---------------------------------------------------------------------------\u001b[0m",
      "\u001b[1;31mKeyboardInterrupt\u001b[0m                         Traceback (most recent call last)",
      "Cell \u001b[1;32mIn[38], line 6\u001b[0m\n\u001b[0;32m      3\u001b[0m resultado \u001b[38;5;241m=\u001b[39m \u001b[38;5;241m1\u001b[39m\n\u001b[0;32m      4\u001b[0m i \u001b[38;5;241m=\u001b[39m \u001b[38;5;241m1\u001b[39m\n\u001b[1;32m----> 6\u001b[0m \u001b[38;5;28;01mwhile\u001b[39;00m \u001b[43mi\u001b[49m\u001b[43m \u001b[49m\u001b[38;5;241;43m<\u001b[39;49m\u001b[38;5;241;43m=\u001b[39;49m\u001b[43m \u001b[49m\u001b[38;5;241;43m100\u001b[39;49m:\n\u001b[0;32m      7\u001b[0m     resultado \u001b[38;5;241m=\u001b[39m resultado \u001b[38;5;241m*\u001b[39m i\n\u001b[0;32m      8\u001b[0m     \u001b[38;5;66;03m# faltou incrementar i\u001b[39;00m\n",
      "\u001b[1;31mKeyboardInterrupt\u001b[0m: "
     ]
    }
   ],
   "source": [
    "# CICLO INFINITO - INTERROMPA ESTA CÉLULA\n",
    "\n",
    "resultado = 1\n",
    "i = 1\n",
    "\n",
    "while i <= 100:\n",
    "    resultado = resultado * i\n",
    "    # faltou incrementar i"
   ]
  },
  {
   "cell_type": "code",
   "execution_count": 39,
   "metadata": {},
   "outputs": [
    {
     "ename": "KeyboardInterrupt",
     "evalue": "",
     "output_type": "error",
     "traceback": [
      "\u001b[1;31m---------------------------------------------------------------------------\u001b[0m",
      "\u001b[1;31mKeyboardInterrupt\u001b[0m                         Traceback (most recent call last)",
      "Cell \u001b[1;32mIn[39], line 7\u001b[0m\n\u001b[0;32m      4\u001b[0m i \u001b[38;5;241m=\u001b[39m \u001b[38;5;241m1\u001b[39m\n\u001b[0;32m      6\u001b[0m \u001b[38;5;28;01mwhile\u001b[39;00m i \u001b[38;5;241m>\u001b[39m \u001b[38;5;241m0\u001b[39m : \u001b[38;5;66;03m# condição errada\u001b[39;00m\n\u001b[1;32m----> 7\u001b[0m     resultado \u001b[38;5;241m*\u001b[39m\u001b[38;5;241m=\u001b[39m i\n\u001b[0;32m      8\u001b[0m     i \u001b[38;5;241m+\u001b[39m\u001b[38;5;241m=\u001b[39m \u001b[38;5;241m1\u001b[39m\n",
      "\u001b[1;31mKeyboardInterrupt\u001b[0m: "
     ]
    }
   ],
   "source": [
    "# CICLO INFINITO - INTERROMPA ESTA CÉLULA\n",
    "\n",
    "resultado = 1\n",
    "i = 1\n",
    "\n",
    "while i > 0 : # condição errada\n",
    "    resultado *= i\n",
    "    i += 1"
   ]
  },
  {
   "cell_type": "markdown",
   "metadata": {},
   "source": [
    "### Instruções `break` e `continue`\n",
    "\n",
    "Pode usar a instrução `break` no corpo do ciclo para parar imediatamente a execução e sair fora (*break out*) do ciclo (mesmo se a condição fornecida ao `while` continuar a ser verdadeira)."
   ]
  },
  {
   "cell_type": "code",
   "execution_count": 40,
   "metadata": {},
   "outputs": [
    {
     "name": "stdout",
     "output_type": "stream",
     "text": [
      "Alcançado o número mágico 42! Parando a execução..\n",
      "i: 42\n",
      "resultado: 1405006117752879898543142606244511569936384000000000\n"
     ]
    }
   ],
   "source": [
    "i = 1\n",
    "resultado = 1\n",
    "\n",
    "while i <= 100:\n",
    "    resultado *= i\n",
    "    if i == 42:\n",
    "        print('Alcançado o número mágico 42! Parando a execução..')\n",
    "        break\n",
    "    i += 1\n",
    "    \n",
    "print('i:', i)\n",
    "print('resultado:', resultado)"
   ]
  },
  {
   "cell_type": "markdown",
   "metadata": {},
   "source": [
    "Como pode ver acima, o valor de `i` no final da execução é 42. Este exemplo também mostra como podemos utilizar uma instrução `if` dentro de um ciclo `while`.\n",
    "\n",
    "Algumas vezes podemos não querer terminar o ciclo completamente, mas simplesmente saltar as instruções restantes na iteração atual e *continuar* para a próxima iteração. Podemos fazer isso utilizando a instrução `continue`."
   ]
  },
  {
   "cell_type": "code",
   "execution_count": 41,
   "metadata": {},
   "outputs": [
    {
     "name": "stdout",
     "output_type": "stream",
     "text": [
      "Saltando o 2\n",
      "Multiplicando por 3\n",
      "Saltando o 4\n",
      "Multiplicando por 5\n",
      "Saltando o 6\n",
      "Multiplicando por 7\n",
      "Saltando o 8\n",
      "Multiplicando por 9\n",
      "Saltando o 10\n",
      "Multiplicando por 11\n",
      "Saltando o 12\n",
      "Multiplicando por 13\n",
      "Saltando o 14\n",
      "Multiplicando por 15\n",
      "Saltando o 16\n",
      "Multiplicando por 17\n",
      "Saltando o 18\n",
      "Multiplicando por 19\n",
      "Saltando o 20\n",
      "i: 20\n",
      "resultado: 654729075\n"
     ]
    }
   ],
   "source": [
    "i = 1\n",
    "resultado = 1\n",
    "\n",
    "while i < 20:\n",
    "    i += 1\n",
    "    if i % 2 == 0:\n",
    "        print('Saltando o {}'.format(i))\n",
    "        continue\n",
    "    print('Multiplicando por {}'.format(i))\n",
    "    resultado = resultado * i\n",
    "    \n",
    "print('i:', i)\n",
    "print('resultado:', resultado)\n"
   ]
  },
  {
   "cell_type": "markdown",
   "metadata": {},
   "source": [
    "No exemplo acima, a instrução `resultado = resultado * i` dentro do ciclo é ignorada quando `i` é par, como indicado pelas mensagens exibidas durante a execução.\n",
    "\n",
    "> **Logging**: O processo de adicionar instruções `print` em diferentes pontos do código (geralmente dentro de ciclos e instruções condicionais) para inspecionar os valores das variáveis em diferentes pontos de execução é chamado de logging. À medida que os nossos programas ficam maiores, eles ficam naturalmente mais propensos a erros humanos. O logging pode ajudar a verificar se o programa está a funcionar conforme esperado. Em muitos casos, adicionamos instruções `print` quando estamos a escrever e testar código e  mais tarde removemos essas instruções."
   ]
  },
  {
   "cell_type": "markdown",
   "metadata": {},
   "source": [
    "### Guardar o seu notebook\n",
    "\n",
    "É muito importante guardar o seu trabalho com frequência. Pode continuar a trabalhar mais tarde num notebook que gravou anteriormente ou pode partilhá-lo com outras pessoas e permitir que executem o seu código."
   ]
  },
  {
   "cell_type": "markdown",
   "metadata": {},
   "source": [
    "## Iteração com ciclos `for`\n",
    "\n",
    "Os ciclos `for` são usados para iterar sobre sequências, i.e., listas, tuplos, dicionários, strings, e *ranges*. Os ciclos `for` têm a seguinte sintaxe:\n",
    "\n",
    "```\n",
    "for valor in sequencia:\n",
    "    instruções\n",
    "```\n",
    "\n",
    "As instruções dentro do ciclo são executadas uma vez para cada elemento na `sequencia`. Aqui está um exemplo que exibe todos os elementos de uma lista."
   ]
  },
  {
   "cell_type": "code",
   "execution_count": 16,
   "metadata": {},
   "outputs": [
    {
     "name": "stdout",
     "output_type": "stream",
     "text": [
      "Segunda-feira\n",
      "Terça-feira\n",
      "Quarta-feira\n",
      "Quinta-feira\n",
      "Sexta-feira\n"
     ]
    }
   ],
   "source": [
    "dias = ['Segunda-feira', 'Terça-feira', 'Quarta-feira', 'Quinta-feira', 'Sexta-feira']\n",
    "\n",
    "for dia in dias:\n",
    "    print(dia)"
   ]
  },
  {
   "cell_type": "markdown",
   "metadata": {},
   "source": [
    "Vamos tentar usar os ciclos `for` com outros tipos de dados."
   ]
  },
  {
   "cell_type": "code",
   "execution_count": 17,
   "metadata": {},
   "outputs": [
    {
     "name": "stdout",
     "output_type": "stream",
     "text": [
      "S\n",
      "e\n",
      "g\n",
      "u\n",
      "n\n",
      "d\n",
      "a\n",
      "-\n",
      "f\n",
      "e\n",
      "i\n",
      "r\n",
      "a\n"
     ]
    }
   ],
   "source": [
    "# Percorrer uma string\n",
    "for char in 'Segunda-feira':\n",
    "    print(char)"
   ]
  },
  {
   "cell_type": "code",
   "execution_count": 18,
   "metadata": {},
   "outputs": [
    {
     "name": "stdout",
     "output_type": "stream",
     "text": [
      "Aqui está um fruto: Maçã\n",
      "Aqui está um fruto: Banana\n",
      "Aqui está um fruto: Goiaba\n"
     ]
    }
   ],
   "source": [
    "# Percorrer um tuplo\n",
    "for fruto in ('Maçã', 'Banana', 'Goiaba'):\n",
    "    print(\"Aqui está um fruto:\", fruto)"
   ]
  },
  {
   "cell_type": "code",
   "execution_count": 19,
   "metadata": {},
   "outputs": [
    {
     "name": "stdout",
     "output_type": "stream",
     "text": [
      "Chave: nome , Valor: João Santos\n",
      "Chave: género , Valor: Masculino\n",
      "Chave: idade , Valor: 32\n",
      "Chave: casado , Valor: True\n"
     ]
    }
   ],
   "source": [
    "# Percorrer um dicionário\n",
    "pessoa = {\n",
    "    'nome': 'João Santos',\n",
    "    'género': 'Masculino',\n",
    "    'idade': 32,\n",
    "    'casado': True\n",
    "}\n",
    "\n",
    "for chave in pessoa:\n",
    "    print(\"Chave:\", chave, \",\", \"Valor:\", pessoa[chave])"
   ]
  },
  {
   "cell_type": "markdown",
   "metadata": {},
   "source": [
    "Note que ao utilizar um dicionário com um ciclo `for`, a iteração ocorre sobre as chaves do dicionário. A chave pode ser utilizada dentro do ciclo para aceder ao valor respetivo. Também podemos iterar diretamente sobre os valores utilizando o método `.values` ou sobre pares chave-valor utilizando o método `.items`."
   ]
  },
  {
   "cell_type": "code",
   "execution_count": 20,
   "metadata": {},
   "outputs": [
    {
     "name": "stdout",
     "output_type": "stream",
     "text": [
      "João Santos\n",
      "Masculino\n",
      "32\n",
      "True\n"
     ]
    }
   ],
   "source": [
    "for valor in pessoa.values():\n",
    "    print(valor)"
   ]
  },
  {
   "cell_type": "code",
   "execution_count": 21,
   "metadata": {},
   "outputs": [
    {
     "name": "stdout",
     "output_type": "stream",
     "text": [
      "('nome', 'João Santos')\n",
      "('género', 'Masculino')\n",
      "('idade', 32)\n",
      "('casado', True)\n"
     ]
    }
   ],
   "source": [
    "for par_chave_valor in pessoa.items():\n",
    "    print(par_chave_valor)"
   ]
  },
  {
   "cell_type": "markdown",
   "metadata": {},
   "source": [
    "Dado que um par chave-valor é um tuplo, podemos também extrair a chave e valor para variáveis separadas."
   ]
  },
  {
   "cell_type": "code",
   "execution_count": 22,
   "metadata": {},
   "outputs": [
    {
     "name": "stdout",
     "output_type": "stream",
     "text": [
      "Chave: nome , Valor: João Santos\n",
      "Chave: género , Valor: Masculino\n",
      "Chave: idade , Valor: 32\n",
      "Chave: casado , Valor: True\n"
     ]
    }
   ],
   "source": [
    "for chave, valor in pessoa.items():\n",
    "    print(\"Chave:\", chave, \",\", \"Valor:\", valor)"
   ]
  },
  {
   "cell_type": "markdown",
   "metadata": {},
   "source": [
    "### Iterar com `range` e `enumerate`\n",
    "\n",
    "A função `range` é usada para criar uma sequência de números que pode ser iterada utilizando um ciclo `for`. Pode ser usada de 3 formas:\n",
    " \n",
    "* `range(n)` - Cria uma sequência de números de `0` a `n-1`\n",
    "* `range(a, b)` - Cria uma sequência de números de `a` a `b-1`\n",
    "* `range(a, b, inc)` - Cria uma sequência de números de  `a` a `b-1` em incrementos de `inc`\n",
    "\n",
    "Vamos experimentar."
   ]
  },
  {
   "cell_type": "code",
   "execution_count": 23,
   "metadata": {},
   "outputs": [
    {
     "name": "stdout",
     "output_type": "stream",
     "text": [
      "0\n",
      "1\n",
      "2\n",
      "3\n",
      "4\n",
      "5\n",
      "6\n"
     ]
    }
   ],
   "source": [
    "for i in range(7):\n",
    "    print(i)"
   ]
  },
  {
   "cell_type": "code",
   "execution_count": 24,
   "metadata": {},
   "outputs": [
    {
     "name": "stdout",
     "output_type": "stream",
     "text": [
      "3\n",
      "4\n",
      "5\n",
      "6\n",
      "7\n",
      "8\n",
      "9\n"
     ]
    }
   ],
   "source": [
    "for i in range(3, 10):\n",
    "    print(i)"
   ]
  },
  {
   "cell_type": "code",
   "execution_count": 25,
   "metadata": {},
   "outputs": [
    {
     "name": "stdout",
     "output_type": "stream",
     "text": [
      "3\n",
      "7\n",
      "11\n"
     ]
    }
   ],
   "source": [
    "for i in range(3, 14, 4):\n",
    "    print(i)"
   ]
  },
  {
   "cell_type": "markdown",
   "metadata": {},
   "source": [
    "As ranges são usadas para iterar sobre listas quando precisamos de ter acesso ou controlo sobre o índice dos elementos ao iterar."
   ]
  },
  {
   "cell_type": "code",
   "execution_count": 26,
   "metadata": {},
   "outputs": [
    {
     "name": "stdout",
     "output_type": "stream",
     "text": [
      "O valor na posição 0 é Segunda-feira.\n",
      "O valor na posição 1 é Terça-feira.\n",
      "O valor na posição 2 é Quarta-feira.\n",
      "O valor na posição 3 é Quinta-feira.\n",
      "O valor na posição 4 é Sexta-feira.\n"
     ]
    }
   ],
   "source": [
    "uma_lista = ['Segunda-feira', 'Terça-feira', 'Quarta-feira', 'Quinta-feira', 'Sexta-feira']\n",
    "\n",
    "for i in range(len(uma_lista)):\n",
    "    print('O valor na posição {} é {}.'.format(i, uma_lista[i]))"
   ]
  },
  {
   "cell_type": "markdown",
   "metadata": {},
   "source": [
    "Outra forma de atingir o mesmo resultado é usar a função `enumerate` com `uma_lista` como input, que retorna um tuplo contendo o índice e o elemento correspondente."
   ]
  },
  {
   "cell_type": "code",
   "execution_count": 27,
   "metadata": {},
   "outputs": [
    {
     "name": "stdout",
     "output_type": "stream",
     "text": [
      "O valor na posição 0 é Segunda-feira.\n",
      "O valor na posição 1 é Terça-feira.\n",
      "O valor na posição 2 é Quarta-feira.\n",
      "O valor na posição 3 é Quinta-feira.\n",
      "O valor na posição 4 é Sexta-feira.\n"
     ]
    }
   ],
   "source": [
    "for i, val in enumerate(uma_lista):\n",
    "    print('O valor na posição {} é {}.'.format(i, val))"
   ]
  },
  {
   "cell_type": "markdown",
   "metadata": {},
   "source": [
    "### Instruções `break`, `continue` e `pass`\n",
    "\n",
    "Tal como os ciclos `while`, os ciclos `for` também suportam as instruções `break` e `continue`. O `break` é utilizado para sair do ciclo e o `continue` é utilizado para saltar para a próxima iteração."
   ]
  },
  {
   "cell_type": "code",
   "execution_count": 28,
   "metadata": {},
   "outputs": [],
   "source": [
    "dias_de_semana = ['Segunda-feira', 'Terça-feira', 'Quarta-feira', 'Quinta-feira', 'Sexta-feira']"
   ]
  },
  {
   "cell_type": "code",
   "execution_count": 29,
   "metadata": {},
   "outputs": [
    {
     "name": "stdout",
     "output_type": "stream",
     "text": [
      "Hoje é Segunda-feira\n",
      "Hoje é Terça-feira\n",
      "Hoje é Quarta-feira\n",
      "A partir de quarta-feira não trabalho!\n"
     ]
    }
   ],
   "source": [
    "for dia in dias_de_semana:\n",
    "    print('Hoje é {}'.format(dia))\n",
    "    if (dia == 'Quarta-feira'):\n",
    "        print(\"A partir de quarta-feira não trabalho!\")\n",
    "        break"
   ]
  },
  {
   "cell_type": "code",
   "execution_count": 30,
   "metadata": {},
   "outputs": [
    {
     "name": "stdout",
     "output_type": "stream",
     "text": [
      "Hoje é Segunda-feira\n",
      "Hoje é Terça-feira\n",
      "Não trabalho à quarta-feira!\n",
      "Hoje é Quinta-feira\n",
      "Hoje é Sexta-feira\n"
     ]
    }
   ],
   "source": [
    "for dia in dias_de_semana:\n",
    "    if (dia == 'Quarta-feira'):\n",
    "        print(\"Não trabalho à quarta-feira!\")\n",
    "        continue\n",
    "    print('Hoje é {}'.format(dia))"
   ]
  },
  {
   "cell_type": "markdown",
   "metadata": {},
   "source": [
    "Tal como as instruções `if`, os ciclos `for` não podem ser vazios, por isso podemos usar a instrução `pass` se não quisermos executar nenhuma instrução dentro do ciclo."
   ]
  },
  {
   "cell_type": "code",
   "execution_count": 31,
   "metadata": {},
   "outputs": [],
   "source": [
    "for dia in dias_de_semana:\n",
    "    pass"
   ]
  },
  {
   "cell_type": "markdown",
   "metadata": {},
   "source": [
    "### Ciclos `for` e `while` encadeados\n",
    "\n",
    "Tal como as instruções condicionais, os ciclos podem ser encadeados dentro de outros ciclos. Isto é útil para iterar sobre listas de listas, dicionários, etc."
   ]
  },
  {
   "cell_type": "code",
   "execution_count": 32,
   "metadata": {},
   "outputs": [
    {
     "name": "stdout",
     "output_type": "stream",
     "text": [
      "nome : João\n",
      "género : Masculino\n",
      " \n",
      "nome : Ana\n",
      "género : Feminino\n",
      " \n"
     ]
    }
   ],
   "source": [
    "pessoas = [{'nome': 'João', 'género': 'Masculino'}, {'nome': 'Ana', 'género': 'Feminino'}]\n",
    "\n",
    "for pessoa in pessoas:\n",
    "    for chave in pessoa:\n",
    "        print(chave, \":\", pessoa[chave])\n",
    "    print(\" \")"
   ]
  },
  {
   "cell_type": "code",
   "execution_count": 33,
   "metadata": {},
   "outputs": [
    {
     "name": "stdout",
     "output_type": "stream",
     "text": [
      "segunda-feira maçã\n",
      "segunda-feira banana\n",
      "segunda-feira goiaba\n",
      "terça-feira maçã\n",
      "terça-feira banana\n",
      "terça-feira goiaba\n",
      "quarta-feira maçã\n",
      "quarta-feira banana\n",
      "quarta-feira goiaba\n"
     ]
    }
   ],
   "source": [
    "dias = ['segunda-feira', 'terça-feira', 'quarta-feira']\n",
    "frutos = ['maçã', 'banana', 'goiaba']\n",
    "\n",
    "for dia in dias:\n",
    "    for fruto in frutos:\n",
    "        print(dia, fruto)"
   ]
  },
  {
   "cell_type": "markdown",
   "metadata": {},
   "source": [
    "Com isto, concluimos a nossa discussão sobre branching e ciclos em Python."
   ]
  },
  {
   "cell_type": "markdown",
   "metadata": {},
   "source": [
    "### Guardar o seu notebook\n",
    "\n",
    "É muito importante guardar o seu trabalho com frequência. Pode continuar a trabalhar mais tarde num notebook que gravou anteriormente ou pode partilhá-lo com outras pessoas e permitir que executem o seu código."
   ]
  },
  {
   "cell_type": "markdown",
   "metadata": {},
   "source": [
    "## Questões para Revisão\n",
    "\n",
    "Tente responder às seguintes questões para testar a sua compreensão sobre os tópicos cobertos neste notebook:\n",
    "\n",
    "1. O que é o branching em linguagens de programação?\n",
    "2. Qual é o objetivo da instrução `if` em Python?\n",
    "3. Qual é a sintaxe da instrução `if`? Dê um exemplo.\n",
    "4. O que é indentação? Porque é que é utilizada?\n",
    "5. O que é um bloco de instruções indentado?\n",
    "6. Como é que se faz a indentação em Python?\n",
    "7. O que acontece se algum código não estiver indentado corretamente?\n",
    "8. O que acontece quando a condição dentro da instrução `if` é avaliada como `True`? O que acontece se a condição for avaliada como `false`?\n",
    "9. Como é que se verifica se um número é par?\n",
    "10. Qual é o propósito da instrução `else` em Python?\n",
    "11. Qual é a sintaxe da instrução `else`? Dê um exemplo.\n",
    "12. Escreva um programa que exiba mensagens diferentes consoante um número seja positivo ou negativo.\n",
    "13. A instrução `else` pode ser usada sem uma instrução `if`?\n",
    "14. Qual é o objetivo da instrução `elif` em Python?\n",
    "15. Qual é a sintaxe da instrução `elif`? Dê um exemplo.\n",
    "16. Escreva um programa que imprima mensagens diferentes para diferentes meses do ano.\n",
    "17. Escreva um programa que use as instruções `if`, `elif` e `else` juntas.\n",
    "18. A instrução `elif` pode ser usada sem uma instrução `if`?\n",
    "19. A instrução `elif` pode ser usada sem uma instrução `else`?\n",
    "20. Qual é a diferença entre uma cadeia de instruções `if`, `elif`, `elif`... e uma cadeia de instruções `if`, `if`, `if`...? Dê um exemplo.\n",
    "21. As condições não booleanas podem ser utilizadas com instruções `if`? Dê alguns exemplos.\n",
    "22. O que são instruções condicionais encadeadas? Qual a sua utilidade?\n",
    "23. Dê um exemplo de instruções condicionais encadeadas.\n",
    "24. Porque é que é aconselhável evitar instruções condicionais encadeadas?\n",
    "25. O que é a expressão condicional abreviada `if`? \n",
    "26. Qual é a sintaxe da expressão condicional `if` abreviada? Dê um exemplo.\n",
    "27. Qual a diferença entre a expressão abreviada `if` e a instrução regular `if`?\n",
    "28. O que é uma instrução em Python?\n",
    "29. O que é uma expressão em Python?\n",
    "30. Qual é a diferença entre instruções e expressões?\n",
    "31. Todas as instruções são expressões? Dê um exemplo ou contra-exemplo.\n",
    "32. Todas as expressões são instruções? Dê um exemplo ou contra-exemplo.\n",
    "33. Qual é o objetivo da instrução `pass` nos blocos `if`?\n",
    "34. O que é a iteração ou looping ou ciclos nas linguagens de programação? Porque é que é útil?\n",
    "35. Quais são as duas formas de realizar a iteração em Python?\n",
    "36. Qual é o propósito da instrução `while` em Python?\n",
    "37. Qual é a sintaxe da instrução `white` em Python? Dê um exemplo.\n",
    "38. Escreva um programa para calcular a soma dos números de 1 a 100 usando um ciclo while. \n",
    "39. Repita o programa acima para números até 1000, 10000 e 100000. Quanto tempo é que cada ciclo leva para ser concluído?\n",
    "40. O que é um ciclo infinito?\n",
    "41. O que faz com que um programa entre num ciclo infinito?\n",
    "42. Como é que se interrompe um ciclo infinito no Jupyter?\n",
    "43. Qual é o propósito da instrução `break` em Python? \n",
    "44. Dê um exemplo de uso da instrução `break` dentro de um ciclo while.\n",
    "45. Qual é o propósito da instrução `continue` em Python?\n",
    "46. Dê um exemplo de uso da instrução `continue` dentro de um ciclo while.\n",
    "47. O que é logging? Como pode ser útil?\n",
    "48. Qual é o propósito da instrução `for` em Python?\n",
    "49. Qual é a sintaxe dos ciclos `for`? Dê um exemplo.\n",
    "50. Como é que os ciclos `for` e while são diferentes?\n",
    "51. Como se faz uma iteração sobre uma string? Dê um exemplo.\n",
    "52. Como é que se faz uma iteração numa lista? Dê um exemplo.\n",
    "53. Como é que se faz uma iteração sobre um tuplo? Dê um exemplo.\n",
    "54. Como é que se faz uma iteração sobre um dicionário? Dê um exemplo.\n",
    "55. Qual é o objetivo da instrução `range`? Dê um exemplo.\n",
    "56. Qual é o objetivo da instrução `enumerate`? Dê um exemplo.\n",
    "57. Como é que as instruções `break`, `continue` e `pass` são usadas em ciclos for? Dê exemplos.\n",
    "58. Os ciclos podem ser encadeados dentro de outros ciclos? Como é que esse encadeamento pode ser útil?\n",
    "59. Dê um exemplo de um ciclo for encadeado noutro ciclo for.\n",
    "60. Dê um exemplo de um ciclo while encadeado dentro de outro ciclo while.\n",
    "61. Dê um exemplo de um ciclo for encadeado dentro de um ciclo while.\n",
    "62. Dê um exemplo de um ciclo while encadeado num ciclo for."
   ]
  },
  {
   "cell_type": "markdown",
   "metadata": {},
   "source": [
    "## Referências\n",
    "\n",
    "Este notebook é uma adaptação traduzida do curso *<u>Data Analysis with Python: Zero to Pandas</u>* de AaKash N S / [Jovian.ai](https://jovian.ai)\n",
    "\n",
    "Outras referências:\n",
    "* McKinney, W., Python for Data Analysis, 3rd. Ed. O'Reilly. Versão online em https://wesmckinney.com/book/ \n",
    "* Documentação oficial do Python: https://docs.python.org/3/tutorial/index.html\n",
    "* Tutorial Python do W3Schools: https://www.w3schools.com/python/\n",
    "* Practical Python Programming: https://dabeaz-course.github.io/practical-python/Notes/Contents.html\n",
    "* Jupyter Notebooks: https://docs.jupyter.org\n",
    "* Markdown Reference: https://www.markdownguide.org\n"
   ]
  }
 ],
 "metadata": {
  "kernelspec": {
   "display_name": "Python 3",
   "language": "python",
   "name": "python3"
  },
  "language_info": {
   "codemirror_mode": {
    "name": "ipython",
    "version": 3
   },
   "file_extension": ".py",
   "mimetype": "text/x-python",
   "name": "python",
   "nbconvert_exporter": "python",
   "pygments_lexer": "ipython3",
   "version": "3.10.9"
  }
 },
 "nbformat": 4,
 "nbformat_minor": 4
}
