{
 "cells": [
  {
   "cell_type": "markdown",
   "metadata": {},
   "source": [
    "Esta aula cobre os seguintes tópicos:\n",
    "\n",
    "* Operações aritméticas com Python\n",
    "* Resolver problemas em vários passos com variáveis\n",
    "* Avaliar condições com Python\n",
    "* Combinar condições e operadores lógicos\n",
    "* Usar estilos de texto com Markdown"
   ]
  },
  {
   "cell_type": "markdown",
   "metadata": {},
   "source": [
    "### Como executar o código\n",
    "\n",
    "Esta aula é um [Jupyter notebook](https://jupyter.org) executável. Pode _correr_ esta aula e experimentar os exemplos de código de diferentes formas: *localmente no seu computador*, ou *utilizando um serviço online gratuito*.\n",
    "\n",
    "#### Opção 1: Correr localmente no seu computador\n",
    "\n",
    "Para correr localmente o código no seu computador, faça download do notebook e abra o ficheiro com uma aplicação ou ambiente de desenvolvimento suportado, por exemplo:\n",
    "* Visual Studio Code: https://code.visualstudio.com/download\n",
    "* Anaconda: https://www.anaconda.com/download\n",
    "* Miniconda: https://docs.conda.io/projects/miniconda/en/latest/\n",
    "\n",
    "Em qualquer das opções, as aplicações terão de suportar (nativamente ou através de extensões) o [Python](https://www.python.org) e os [Jupyter notebooks](https://jupyter.org), de forma a disponibilizar um ambiente de visualização e execução local com um kernel que execute o código Python contido no notebook.\n",
    "\n",
    "#### Opção 2: Correr num serviço online gratuito\n",
    "\n",
    "Para executar o notebook online, faça upload do notebook para o serviço da sua preferência, por exemplo:\n",
    "* Google Colab: https://colab.google/\n",
    "* Binder (com repositório GitHub): https://mybinder.org/\n",
    "* Kaggle: https://www.kaggle.com/\n",
    "\n",
    "\n",
    ">  **Jupyter Notebooks**: Esta aula é um [Jupyter notebook](https://jupyter.org) - um documento feito de _células_. Cada célula pode conter código escrito em Python ou explicações em português. Pode executar células de código e visualizar os resultados, e.g., números, mensagens, gráficos, tabelas, ficheiros, etc., instantaneamente no notebook. O Jupyter é uma plataforma poderosa para experimentação e análise. Não tenha medo de mexer no código ou estragar alguma coisa - aprenderá muito ao encontrar e corrigir erros. Pode utilizar a opção de menu \"Kernel > Restart & Clear Output\" (Kernel > Reiniciar e Limpar Saída) para limpar todas as saídas e recomeçar do início."
   ]
  },
  {
   "cell_type": "markdown",
   "metadata": {},
   "source": [
    "## Operações Aritméticas com Python\n",
    "\n",
    "Vamos começar por usar o Python como uma calculadora. Podemos escrever e executar Python utilizando uma célula de código no Jupyter. \n",
    "\n",
    "> **Trabalhar com células**: Para criar uma nova célula no Jupyter, pode selecionar \"Insert > Insert Cell Below\" da barra de menu ou simplesmente clicar no botão \"+\" na toolbar. Pode também usar o atalho de teclado `Esc+B` para criar uma nova célula. Uma vez criada a célula, clique na mesma para a selecionar. Pode então alterar o tipo de célula para código ou markdown (texto), usando a opção de menu \"Cell > Cell Type\". Pode ainda usar os atalhos de teclado `Esc+Y` and `Esc+M`. Faça duplo clique sobre uma célula para editar o conteúdo da mesma. Para aplicar as alterações e executar a célula, utilize a opção de menu \"Cell > Run Cells\" ou clique no botão \"Run\" na toolbar, ou use simplesmente o atalho de teclado `Shift+Enter`. Pode ver uma lista completa de atalhos de teclado com a opção de menu \"Help > Keyboard Shortcuts\".\n",
    "\n",
    "Execute as células de código abaixo para efetuar cálculos e ver os resultados. Tente alterar os números e voltar a executar as células alteradas para ver os resultados atualizados. Consegue adivinhar para que servem os operadores `//`, `%`, e `**`?"
   ]
  },
  {
   "cell_type": "code",
   "execution_count": 1,
   "metadata": {},
   "outputs": [
    {
     "data": {
      "text/plain": [
       "14"
      ]
     },
     "execution_count": 1,
     "metadata": {},
     "output_type": "execute_result"
    }
   ],
   "source": [
    "2 + 3 + 9"
   ]
  },
  {
   "cell_type": "code",
   "execution_count": 2,
   "metadata": {},
   "outputs": [
    {
     "data": {
      "text/plain": [
       "26"
      ]
     },
     "execution_count": 2,
     "metadata": {},
     "output_type": "execute_result"
    }
   ],
   "source": [
    "99 - 73"
   ]
  },
  {
   "cell_type": "code",
   "execution_count": 3,
   "metadata": {},
   "outputs": [
    {
     "data": {
      "text/plain": [
       "-33709.28"
      ]
     },
     "execution_count": 3,
     "metadata": {},
     "output_type": "execute_result"
    }
   ],
   "source": [
    "23.54 * -1432"
   ]
  },
  {
   "cell_type": "code",
   "execution_count": 4,
   "metadata": {},
   "outputs": [
    {
     "data": {
      "text/plain": [
       "14.285714285714286"
      ]
     },
     "execution_count": 4,
     "metadata": {},
     "output_type": "execute_result"
    }
   ],
   "source": [
    "100 / 7"
   ]
  },
  {
   "cell_type": "code",
   "execution_count": 5,
   "metadata": {},
   "outputs": [
    {
     "data": {
      "text/plain": [
       "14"
      ]
     },
     "execution_count": 5,
     "metadata": {},
     "output_type": "execute_result"
    }
   ],
   "source": [
    "100 // 7"
   ]
  },
  {
   "cell_type": "code",
   "execution_count": 6,
   "metadata": {},
   "outputs": [
    {
     "data": {
      "text/plain": [
       "2"
      ]
     },
     "execution_count": 6,
     "metadata": {},
     "output_type": "execute_result"
    }
   ],
   "source": [
    "100 % 7"
   ]
  },
  {
   "cell_type": "code",
   "execution_count": 7,
   "metadata": {},
   "outputs": [
    {
     "data": {
      "text/plain": [
       "125"
      ]
     },
     "execution_count": 7,
     "metadata": {},
     "output_type": "execute_result"
    }
   ],
   "source": [
    "5 ** 3"
   ]
  },
  {
   "cell_type": "code",
   "execution_count": 8,
   "metadata": {},
   "outputs": [
    {
     "data": {
      "text/plain": [
       "1001"
      ]
     },
     "execution_count": 8,
     "metadata": {},
     "output_type": "execute_result"
    }
   ],
   "source": [
    "1000+1\n"
   ]
  },
  {
   "cell_type": "markdown",
   "metadata": {},
   "source": [
    "Como poderia esperar, operadores como `/` e `*` têm precedência sobre operadores como `+` e `-`, de acordo com as convenções da matemática. Pode usar parêntesis, i.e. `(` e `)`, para especificar a ordem pela qual as operações são efetuadas."
   ]
  },
  {
   "cell_type": "code",
   "execution_count": 9,
   "metadata": {},
   "outputs": [
    {
     "data": {
      "text/plain": [
       "1.53125"
      ]
     },
     "execution_count": 9,
     "metadata": {},
     "output_type": "execute_result"
    }
   ],
   "source": [
    "((2 + 5) * (17 - 3)) / (4 ** 3)"
   ]
  },
  {
   "cell_type": "markdown",
   "metadata": {},
   "source": [
    "O Python suporta os seguintes operadores aritméticos:\n",
    "\n",
    "| Operador   | Operação          | Exemplo     | Resultado |\n",
    "|------------|-------------------|-------------|-----------|\n",
    "| `+`        | Adição            | `2 + 3`     | `5`       |\n",
    "| `-`        | Subtração         | `3 - 2`     | `1`       |\n",
    "| `*`        | Multiplicação     | `8 * 12`    | `96`      |\n",
    "| `/`        | Divisão           | `100 / 7`   | `14.28..` |\n",
    "| `//`       | Divisão inteira   | `100 // 7`  | `14`      |    \n",
    "| `%`        | Módulo/Resto      | `100 % 7`   | `2`       |\n",
    "| `**`       | Exponenciação     | `5 ** 3`    | `125`     |\n",
    "\n",
    "\n",
    "Tente resolver alguns problemas simples desta página:\n",
    "https://www.math-only-math.com/worksheet-on-word-problems-on-four-operations.html . \n",
    "\n",
    "Pde usar as células vazias abaixo e adicionar mais células se necessário."
   ]
  },
  {
   "cell_type": "markdown",
   "metadata": {},
   "source": [
    "## Resolver problemas em vários passos com variáveis\n",
    "\n",
    "Vamos tentar resolver o seguinte problema com o Python: \n",
    "\n",
    "> Uma mercearia vende um saco de gelo por 1,25 € com um lucro de 20%. Se vender 500 sacos de gelo, qual será o lucro total?\n",
    "\n",
    "Podemos listar a informação fornecida e gradualmente converter o problema numa expressão matemática que pode ser avaliada com o Python. \n",
    "\n",
    "*Custo do saco de gelo (€)* = 1.25\n",
    "\n",
    "*Margem de lucro* = 20% = .2\n",
    "\n",
    "*Lucro por saco (€)* = margem de lucro * custo do saco = .2 * 1.25\n",
    "\n",
    "*Numero de sacos* = 500\n",
    "\n",
    "*Lucro total* = número de sacos * lucro por saco = 500 * (.2 * 1.25)"
   ]
  },
  {
   "cell_type": "code",
   "execution_count": 10,
   "metadata": {},
   "outputs": [
    {
     "data": {
      "text/plain": [
       "125.0"
      ]
     },
     "execution_count": 10,
     "metadata": {},
     "output_type": "execute_result"
    }
   ],
   "source": [
    "500 * (.2 * 1.25)"
   ]
  },
  {
   "cell_type": "markdown",
   "metadata": {},
   "source": [
    "Assim, a mercearia faz um lucro total de 125 €. Embora esta uma forma razoável de resolver um problema, o significado dos números não é totalmente claro ao olhar para o código. Podemos dar nomes a cada um dos números criando *variáveis* Python.\n",
    "\n",
    "> **Variáveis**: Quando estamos a trabalhar com uma linguagem de programação com o Python, a informação é armazenada em *variáveis*. Pode pensar nas variáveis como caixas onde pode armazenar dados. Os dados armazenados numa variável são designados como o *valor* da variável."
   ]
  },
  {
   "cell_type": "code",
   "execution_count": 11,
   "metadata": {},
   "outputs": [],
   "source": [
    "custo_do_saco_de_gelo = 1.25"
   ]
  },
  {
   "cell_type": "code",
   "execution_count": 12,
   "metadata": {},
   "outputs": [],
   "source": [
    "margem_de_lucro = .2"
   ]
  },
  {
   "cell_type": "code",
   "execution_count": 13,
   "metadata": {},
   "outputs": [],
   "source": [
    "numero_de_sacos = 500"
   ]
  },
  {
   "cell_type": "markdown",
   "metadata": {},
   "source": [
    "As variáveis `custo_do_saco_de_gelo`, `margem_de_lucro`, e `numero_de_sacos` contêm agora a informação fornecida no problema. Podemos verificar o valor de uma variável escrevendo o seu nome numa célula. Podemos combinar variáveis usando operações aritméticas para criar outras variáveis.\n",
    "\n",
    "> **Code completion**: Ao escrever numa célula de código no Jupyter o nome de uma variável existente, escreva apenas os primeiros caracteres e prima a tecla `Tab` para fazer o autocomplete do nome da variável. Experimente escrever `mar` numa célula de código abaixo e prima `Tab` para fazer autocomplete para `margem_de_lucro`."
   ]
  },
  {
   "cell_type": "code",
   "execution_count": 14,
   "metadata": {},
   "outputs": [
    {
     "data": {
      "text/plain": [
       "0.2"
      ]
     },
     "execution_count": 14,
     "metadata": {},
     "output_type": "execute_result"
    }
   ],
   "source": [
    "margem_de_lucro"
   ]
  },
  {
   "cell_type": "code",
   "execution_count": 15,
   "metadata": {},
   "outputs": [],
   "source": [
    "lucro_por_saco = custo_do_saco_de_gelo * margem_de_lucro"
   ]
  },
  {
   "cell_type": "code",
   "execution_count": 16,
   "metadata": {},
   "outputs": [
    {
     "data": {
      "text/plain": [
       "0.25"
      ]
     },
     "execution_count": 16,
     "metadata": {},
     "output_type": "execute_result"
    }
   ],
   "source": [
    "lucro_por_saco"
   ]
  },
  {
   "cell_type": "code",
   "execution_count": 17,
   "metadata": {},
   "outputs": [],
   "source": [
    "lucro_total = numero_de_sacos * lucro_por_saco"
   ]
  },
  {
   "cell_type": "code",
   "execution_count": 18,
   "metadata": {},
   "outputs": [
    {
     "data": {
      "text/plain": [
       "125.0"
      ]
     },
     "execution_count": 18,
     "metadata": {},
     "output_type": "execute_result"
    }
   ],
   "source": [
    "lucro_total"
   ]
  },
  {
   "cell_type": "markdown",
   "metadata": {},
   "source": [
    "Se tentar visualizar o valor de uma variável que ainda não foi *definida*, i.e., que ainda não recebeu um valor usando a instrução de atribuição `nome_variavel = valor`, o Python exibe um erro."
   ]
  },
  {
   "cell_type": "code",
   "execution_count": 19,
   "metadata": {},
   "outputs": [
    {
     "ename": "NameError",
     "evalue": "name 'lucro_liquido' is not defined",
     "output_type": "error",
     "traceback": [
      "\u001b[1;31m---------------------------------------------------------------------------\u001b[0m",
      "\u001b[1;31mNameError\u001b[0m                                 Traceback (most recent call last)",
      "Cell \u001b[1;32mIn[19], line 1\u001b[0m\n\u001b[1;32m----> 1\u001b[0m \u001b[43mlucro_liquido\u001b[49m\n",
      "\u001b[1;31mNameError\u001b[0m: name 'lucro_liquido' is not defined"
     ]
    }
   ],
   "source": [
    "lucro_liquido"
   ]
  },
  {
   "cell_type": "markdown",
   "metadata": {},
   "source": [
    "Armazenar e manipular dados usando variáveis com nomes apropriados é uma excelente forma de explicar o que faz o seu código.\n",
    "\n",
    "Vamos agora exibir o resultado do problema utilizando uma mensagem amigável. Podemos fazer isso com a *função* `print`.\n",
    "\n",
    "> **Funções**: Uma função é um conjunto reutilizável de instruções. Recebe uma ou mais entradas (_inputs_), efetua certas operações, e frequentemente gera uma saída (_output_). O Python oferece muitas funções incorporadas como o `print` e também nos permite definir as nossas próprias funções."
   ]
  },
  {
   "cell_type": "code",
   "execution_count": 20,
   "metadata": {},
   "outputs": [
    {
     "name": "stdout",
     "output_type": "stream",
     "text": [
      "A mercearia faz um lucro total de 125.0 €\n"
     ]
    }
   ],
   "source": [
    "print(\"A mercearia faz um lucro total de\", lucro_total, \"€\")"
   ]
  },
  {
   "cell_type": "markdown",
   "metadata": {},
   "source": [
    "> **`print`**: A função `print` é usada para exibir informação. Recebe um ou mais inputs, que podem ser texto (entre aspas, e.g., `\"isto é texto\"`), números, variáveis, expressões matemáticas, etc. Vamos aprender mais sobre variáveis e funções na próxima aula.\n",
    "\n",
    "Criar uma célula de código para cada variável ou operação matemática pode tornar-se cansativo. Felizmente, o Jupyter permite escrever múltiplas linhas de código dentro de uma única célula. O resultado da última linha de código da célula será exibido como output.\n",
    "\n",
    "Vamos rescrever a solução do nosso problema numa única célula."
   ]
  },
  {
   "cell_type": "code",
   "execution_count": 21,
   "metadata": {},
   "outputs": [
    {
     "name": "stdout",
     "output_type": "stream",
     "text": [
      "A mercearia faz um lucro total de 125.0 €\n"
     ]
    }
   ],
   "source": [
    "# Guardar os dados de entrada em variáveis\n",
    "custo_do_saco_de_gelo = 1.25\n",
    "margem_de_lucro = .2\n",
    "numero_de_sacos = 500\n",
    "\n",
    "# Efetuar os cálculos necesários\n",
    "lucro_por_saco = custo_do_saco_de_gelo * margem_de_lucro\n",
    "lucro_total = numero_de_sacos * lucro_por_saco\n",
    "\n",
    "# Exibir o resultado\n",
    "print(\"A mercearia faz um lucro total de\", lucro_total, \"€\")"
   ]
  },
  {
   "cell_type": "markdown",
   "metadata": {},
   "source": [
    "Repare que estamos a usar o caracter `#` para adicionar *comentarios* ao longo do código. \n",
    "\n",
    "> **Comentários**: Os comentários e as linhas em branco são ignoradas durante a execução, mas são úteis para fornecer informação aos humanos (incluindo a si) sobre o que faz o código. Os comentários podem ser _inline_ (no final de uma linha de código), ou numa linha separada, ou ainda a ocupar múltiplas linhas.\n",
    "\n",
    "Comentários inline e comentários de uma linha começam com `#`, enquanto os comentários de múltiplas linhas começam e terminam com três aspas, i.e. `\"\"\"`. Aqui ficam alguns exemplos de comentários de código:"
   ]
  },
  {
   "cell_type": "code",
   "execution_count": 22,
   "metadata": {},
   "outputs": [],
   "source": [
    "meu_numero_favorito = 1 # um comentário inline"
   ]
  },
  {
   "cell_type": "code",
   "execution_count": 23,
   "metadata": {},
   "outputs": [],
   "source": [
    "# Este comentário tem a sua própria linha\n",
    "meu_numero_menos_favorito = 3"
   ]
  },
  {
   "cell_type": "code",
   "execution_count": 24,
   "metadata": {},
   "outputs": [],
   "source": [
    "\"\"\"Este é um comentário de várias linhas.\n",
    "Escreva tanto ou tão pouco quanto quiser.\n",
    "\n",
    "Os comentários são realmente úteis para as pessoas que lêem o seu \n",
    "código, mas tente mantê-los curtos e diretos.\n",
    "\n",
    "Além disso, se usar bons nomes de variáveis, então o seu código é\n",
    "muitas vezes auto-explicativo, e pode até nem precisar de comentários!\n",
    "\"\"\"\n",
    "um_numero_neutro = 5"
   ]
  },
  {
   "cell_type": "markdown",
   "metadata": {},
   "source": [
    "\n",
    "\n",
    "> **EXERCÍCIO**: Uma empresa de viagens quer levar um avião às Bahamas. O voo do avião custa 5000 euros. Até agora, 29 pessoas inscreveram-se para a viagem. Se a empresa cobra 200 euros por bilhete, qual é o lucro obtido pela empresa? Crie variáveis para cada quantidade numérica e utilize operações aritméticas apropriadas."
   ]
  },
  {
   "cell_type": "code",
   "execution_count": 1,
   "metadata": {},
   "outputs": [
    {
     "name": "stdout",
     "output_type": "stream",
     "text": [
      "O lucro obtido pela empresa é de 800 euros\n"
     ]
    }
   ],
   "source": [
    "# Definir as variáveis\n",
    "custo_voo = 5000\n",
    "numero_pessoas = 29\n",
    "preco_bilhete = 200\n",
    "\n",
    "# Calcular o lucro\n",
    "lucro = (preco_bilhete * numero_pessoas) - custo_voo\n",
    "\n",
    "# Exibir o resultado\n",
    "print(\"O lucro obtido pela empresa é de\", lucro, \"euros\")\n"
   ]
  },
  {
   "cell_type": "markdown",
   "metadata": {},
   "source": [
    "## Avaliar condições com Python\n",
    "\n",
    "Para além das operações aritméticas, o Python também oferece várias operações para comparar números e variáveis.\n",
    "\n",
    "| Operador    | Descrição                                                                  |\n",
    "|-------------|----------------------------------------------------------------------------|\n",
    "| `==`        | Verifica se os operandos são iguais                                        |\n",
    "| `!=`        | Verifica se os operandos são não iguais                                    |\n",
    "| `>`         | Verifica se o operando da esquerda é maior que o operando da direita       |\n",
    "| `<`         | Verifica se o operando da esquerda é menor que o operando da direita       |\n",
    "| `>=`        | Verifica se o operando da esquerda é maior ou igual ao operando da direita |\n",
    "| `<=`        | Verifica se o operando da esquerda é menor ou igual ao operando da direita |\n",
    "\n",
    "O resultado de uma operação de comparação é `True` ou `False` (note as maiúsculas `T` e `F`). Estas são keywords especiais em Python.\n",
    "Vamos fazer algumas experiências com operadores de comparação."
   ]
  },
  {
   "cell_type": "code",
   "execution_count": 25,
   "metadata": {},
   "outputs": [],
   "source": [
    "meu_numero_favorito = 1\n",
    "meu_numero_menos_favorito = 5\n",
    "um_numero_neutro = 3"
   ]
  },
  {
   "cell_type": "code",
   "execution_count": 26,
   "metadata": {},
   "outputs": [
    {
     "data": {
      "text/plain": [
       "True"
      ]
     },
     "execution_count": 26,
     "metadata": {},
     "output_type": "execute_result"
    }
   ],
   "source": [
    "# Verificação de igualdade - True\n",
    "meu_numero_favorito == 1"
   ]
  },
  {
   "cell_type": "code",
   "execution_count": 27,
   "metadata": {},
   "outputs": [
    {
     "data": {
      "text/plain": [
       "False"
      ]
     },
     "execution_count": 27,
     "metadata": {},
     "output_type": "execute_result"
    }
   ],
   "source": [
    "# Verificação de igualdade - False\n",
    "meu_numero_favorito == meu_numero_menos_favorito"
   ]
  },
  {
   "cell_type": "code",
   "execution_count": 28,
   "metadata": {},
   "outputs": [
    {
     "data": {
      "text/plain": [
       "True"
      ]
     },
     "execution_count": 28,
     "metadata": {},
     "output_type": "execute_result"
    }
   ],
   "source": [
    "# Verificação de desigualdade - True\n",
    "meu_numero_favorito != um_numero_neutro"
   ]
  },
  {
   "cell_type": "code",
   "execution_count": 29,
   "metadata": {},
   "outputs": [
    {
     "data": {
      "text/plain": [
       "False"
      ]
     },
     "execution_count": 29,
     "metadata": {},
     "output_type": "execute_result"
    }
   ],
   "source": [
    "# Verificação de desigualdade - False\n",
    "um_numero_neutro != 3"
   ]
  },
  {
   "cell_type": "code",
   "execution_count": 30,
   "metadata": {},
   "outputs": [
    {
     "data": {
      "text/plain": [
       "True"
      ]
     },
     "execution_count": 30,
     "metadata": {},
     "output_type": "execute_result"
    }
   ],
   "source": [
    "# Verificação maior que - True\n",
    "meu_numero_menos_favorito > um_numero_neutro"
   ]
  },
  {
   "cell_type": "code",
   "execution_count": 31,
   "metadata": {},
   "outputs": [
    {
     "data": {
      "text/plain": [
       "False"
      ]
     },
     "execution_count": 31,
     "metadata": {},
     "output_type": "execute_result"
    }
   ],
   "source": [
    "# Verificação maior que - False\n",
    "meu_numero_favorito > meu_numero_menos_favorito"
   ]
  },
  {
   "cell_type": "code",
   "execution_count": 32,
   "metadata": {},
   "outputs": [
    {
     "data": {
      "text/plain": [
       "True"
      ]
     },
     "execution_count": 32,
     "metadata": {},
     "output_type": "execute_result"
    }
   ],
   "source": [
    "# Verificação menor que - True\n",
    "meu_numero_favorito < 10"
   ]
  },
  {
   "cell_type": "code",
   "execution_count": 33,
   "metadata": {},
   "outputs": [
    {
     "data": {
      "text/plain": [
       "False"
      ]
     },
     "execution_count": 33,
     "metadata": {},
     "output_type": "execute_result"
    }
   ],
   "source": [
    "# Verificação menor que - False\n",
    "meu_numero_menos_favorito < meu_numero_favorito"
   ]
  },
  {
   "cell_type": "code",
   "execution_count": 34,
   "metadata": {},
   "outputs": [
    {
     "data": {
      "text/plain": [
       "True"
      ]
     },
     "execution_count": 34,
     "metadata": {},
     "output_type": "execute_result"
    }
   ],
   "source": [
    "# Verificação maior ou igual que - True\n",
    "meu_numero_favorito >= 1"
   ]
  },
  {
   "cell_type": "code",
   "execution_count": 35,
   "metadata": {},
   "outputs": [
    {
     "data": {
      "text/plain": [
       "False"
      ]
     },
     "execution_count": 35,
     "metadata": {},
     "output_type": "execute_result"
    }
   ],
   "source": [
    "# Verificação maior ou igual que - False\n",
    "meu_numero_favorito >= 3"
   ]
  },
  {
   "cell_type": "code",
   "execution_count": 36,
   "metadata": {},
   "outputs": [
    {
     "data": {
      "text/plain": [
       "True"
      ]
     },
     "execution_count": 36,
     "metadata": {},
     "output_type": "execute_result"
    }
   ],
   "source": [
    "# Verificação menor ou igual que - True\n",
    "3 + 6 <= 9"
   ]
  },
  {
   "cell_type": "code",
   "execution_count": 37,
   "metadata": {},
   "outputs": [
    {
     "data": {
      "text/plain": [
       "False"
      ]
     },
     "execution_count": 37,
     "metadata": {},
     "output_type": "execute_result"
    }
   ],
   "source": [
    "# Verificação menor ou igual que - False\n",
    "meu_numero_favorito + um_numero_neutro <= 3"
   ]
  },
  {
   "cell_type": "markdown",
   "metadata": {},
   "source": [
    "Tal como as operações aritméticas, o resultado de uma operação de comparação pode também ser guardado numa variável."
   ]
  },
  {
   "cell_type": "code",
   "execution_count": 38,
   "metadata": {},
   "outputs": [
    {
     "name": "stdout",
     "output_type": "stream",
     "text": [
      "O saco de gelo é caro? False\n"
     ]
    }
   ],
   "source": [
    "custo_do_saco_de_gelo = 1.25\n",
    "saco_de_gelo_caro = custo_do_saco_de_gelo >= 10\n",
    "print(\"O saco de gelo é caro?\", saco_de_gelo_caro)"
   ]
  },
  {
   "cell_type": "markdown",
   "metadata": {},
   "source": [
    "## Combinar condições e operadores lógicos\n",
    "\n",
    "Os operadores lógicos `and`, `or` e `not` operam sobre condições e valores `True` & `False` (também conhecidos como *booleanos*). O `and` e o `or` operam sobre duas condições, enquanto o `not` opera sobre uma condição única.\n",
    "\n",
    "O operados `and` retorna `True` quando ambas as condições avaliam para `True`. Caso contrário, devolve `False`.\n",
    "\n",
    "| `a`     | `b`    | `a and b` |\n",
    "|---------|--------|-----------|\n",
    "|  `True` | `True` | `True`    |\n",
    "|  `True` | `False`| `False`   |\n",
    "|  `False`| `True` | `False`   |\n",
    "|  `False`| `False`| `False`   |\n"
   ]
  },
  {
   "cell_type": "code",
   "execution_count": 39,
   "metadata": {
    "scrolled": true
   },
   "outputs": [
    {
     "data": {
      "text/plain": [
       "1"
      ]
     },
     "execution_count": 39,
     "metadata": {},
     "output_type": "execute_result"
    }
   ],
   "source": [
    "meu_numero_favorito"
   ]
  },
  {
   "cell_type": "code",
   "execution_count": 40,
   "metadata": {},
   "outputs": [
    {
     "data": {
      "text/plain": [
       "True"
      ]
     },
     "execution_count": 40,
     "metadata": {},
     "output_type": "execute_result"
    }
   ],
   "source": [
    "meu_numero_favorito > 0 and meu_numero_favorito <= 3"
   ]
  },
  {
   "cell_type": "code",
   "execution_count": 41,
   "metadata": {},
   "outputs": [
    {
     "data": {
      "text/plain": [
       "False"
      ]
     },
     "execution_count": 41,
     "metadata": {},
     "output_type": "execute_result"
    }
   ],
   "source": [
    "meu_numero_favorito < 0 and meu_numero_favorito <= 3"
   ]
  },
  {
   "cell_type": "code",
   "execution_count": 42,
   "metadata": {},
   "outputs": [
    {
     "data": {
      "text/plain": [
       "False"
      ]
     },
     "execution_count": 42,
     "metadata": {},
     "output_type": "execute_result"
    }
   ],
   "source": [
    "meu_numero_favorito > 0 and meu_numero_favorito >= 3"
   ]
  },
  {
   "cell_type": "code",
   "execution_count": 43,
   "metadata": {},
   "outputs": [
    {
     "data": {
      "text/plain": [
       "False"
      ]
     },
     "execution_count": 43,
     "metadata": {},
     "output_type": "execute_result"
    }
   ],
   "source": [
    "True and False"
   ]
  },
  {
   "cell_type": "code",
   "execution_count": 44,
   "metadata": {},
   "outputs": [
    {
     "data": {
      "text/plain": [
       "True"
      ]
     },
     "execution_count": 44,
     "metadata": {},
     "output_type": "execute_result"
    }
   ],
   "source": [
    "True and True"
   ]
  },
  {
   "cell_type": "markdown",
   "metadata": {},
   "source": [
    "O operador `or` retorna `True` se pelo menos uma das condições avalia para `True`. Retorna `False` apenas se ambas as condições são `False`.\n",
    "\n",
    "| `a`     | `b`    | `a or b`  |\n",
    "|---------|--------|-----------|\n",
    "|  `True` | `True` | `True`    |\n",
    "|  `True` | `False`| `True`    |\n",
    "|  `False`| `True` | `True`    |\n",
    "|  `False`| `False`| `False`   |\n",
    "\n"
   ]
  },
  {
   "cell_type": "code",
   "execution_count": 45,
   "metadata": {},
   "outputs": [],
   "source": [
    "um_numero_neutro = 3"
   ]
  },
  {
   "cell_type": "code",
   "execution_count": 46,
   "metadata": {},
   "outputs": [
    {
     "data": {
      "text/plain": [
       "True"
      ]
     },
     "execution_count": 46,
     "metadata": {},
     "output_type": "execute_result"
    }
   ],
   "source": [
    "um_numero_neutro == 3 or meu_numero_favorito < 0"
   ]
  },
  {
   "cell_type": "code",
   "execution_count": 47,
   "metadata": {},
   "outputs": [
    {
     "data": {
      "text/plain": [
       "False"
      ]
     },
     "execution_count": 47,
     "metadata": {},
     "output_type": "execute_result"
    }
   ],
   "source": [
    "um_numero_neutro != 3 or meu_numero_favorito < 0"
   ]
  },
  {
   "cell_type": "code",
   "execution_count": 48,
   "metadata": {},
   "outputs": [
    {
     "data": {
      "text/plain": [
       "True"
      ]
     },
     "execution_count": 48,
     "metadata": {},
     "output_type": "execute_result"
    }
   ],
   "source": [
    "meu_numero_favorito < 0 or True"
   ]
  },
  {
   "cell_type": "code",
   "execution_count": 49,
   "metadata": {},
   "outputs": [
    {
     "data": {
      "text/plain": [
       "False"
      ]
     },
     "execution_count": 49,
     "metadata": {},
     "output_type": "execute_result"
    }
   ],
   "source": [
    "False or False"
   ]
  },
  {
   "cell_type": "markdown",
   "metadata": {},
   "source": [
    "O operador `not` retorna `False` se a condição for `True` e `True` se a condição for `False`."
   ]
  },
  {
   "cell_type": "code",
   "execution_count": 50,
   "metadata": {},
   "outputs": [
    {
     "data": {
      "text/plain": [
       "False"
      ]
     },
     "execution_count": 50,
     "metadata": {},
     "output_type": "execute_result"
    }
   ],
   "source": [
    "not um_numero_neutro == 3"
   ]
  },
  {
   "cell_type": "code",
   "execution_count": 51,
   "metadata": {},
   "outputs": [
    {
     "data": {
      "text/plain": [
       "True"
      ]
     },
     "execution_count": 51,
     "metadata": {},
     "output_type": "execute_result"
    }
   ],
   "source": [
    "not meu_numero_favorito < 0"
   ]
  },
  {
   "cell_type": "code",
   "execution_count": 52,
   "metadata": {},
   "outputs": [
    {
     "data": {
      "text/plain": [
       "True"
      ]
     },
     "execution_count": 52,
     "metadata": {},
     "output_type": "execute_result"
    }
   ],
   "source": [
    "not False"
   ]
  },
  {
   "cell_type": "code",
   "execution_count": 53,
   "metadata": {},
   "outputs": [
    {
     "data": {
      "text/plain": [
       "False"
      ]
     },
     "execution_count": 53,
     "metadata": {},
     "output_type": "execute_result"
    }
   ],
   "source": [
    "not True"
   ]
  },
  {
   "cell_type": "markdown",
   "metadata": {},
   "source": [
    "Os operadores lógicos podem ser combinados para formar condições complexas. Utilize parêntesis `(` e `)` para indicar a ordem pela qual os operadores lógicos devem ser aplicados."
   ]
  },
  {
   "cell_type": "code",
   "execution_count": 54,
   "metadata": {},
   "outputs": [
    {
     "data": {
      "text/plain": [
       "True"
      ]
     },
     "execution_count": 54,
     "metadata": {},
     "output_type": "execute_result"
    }
   ],
   "source": [
    "(2 > 3 and 4 <= 5) or not (meu_numero_favorito < 0 and True)"
   ]
  },
  {
   "cell_type": "code",
   "execution_count": 55,
   "metadata": {},
   "outputs": [
    {
     "data": {
      "text/plain": [
       "False"
      ]
     },
     "execution_count": 55,
     "metadata": {},
     "output_type": "execute_result"
    }
   ],
   "source": [
    "not (True and 0 < 1) or (False and True)"
   ]
  },
  {
   "cell_type": "markdown",
   "metadata": {},
   "source": [
    "Se não forem usados parêntesis, os operadores lógicos são aplicados da esquerda para a direita."
   ]
  },
  {
   "cell_type": "code",
   "execution_count": 56,
   "metadata": {},
   "outputs": [
    {
     "data": {
      "text/plain": [
       "False"
      ]
     },
     "execution_count": 56,
     "metadata": {},
     "output_type": "execute_result"
    }
   ],
   "source": [
    "not True and 0 < 1 or False and True"
   ]
  },
  {
   "cell_type": "markdown",
   "metadata": {},
   "source": [
    "Tome partido da natureza interativa dos Jupyter notebooks para fazer experiências com os operadores aritméticos, condicionais e lógicos em Python. Vamos aprender mais sobre variáveis e funções nas próximas aulas.\n",
    "\n",
    "Há ainda um operador ternário em Python. Aprenda sobre ele aqui: https://data-flair.training/blogs/python-ternary-operator/"
   ]
  },
  {
   "cell_type": "markdown",
   "metadata": {},
   "source": [
    "## Usar estilos de texto com Markdown\n",
    "\n",
    "Adicionar explicações usando células de texto (como esta) é uma ótima forma de tornar o seu notebook informativo para outros leitores. Também é útil caso necessite de voltar a consultá-lo no futuro. Pode fazer duplo clique sobre uma célula de texto no Jupyter para a editar. Em modo de edição, irá reparar que o texto aparece um pouco diferente (por exemplo, o título da secção tem um prefixo `##`. Este texto foi\n",
    "escrito utilizando Markdown, uma forma simples de adicionar estilos ao seu texto. Execute esta célula para ver o output sem os caracteres especiais. Pode alternar entre a fonte e o output para aplicar um estilo específico.\n",
    "\n",
    "Por exemplo, pode usar um ou mais caracteres `#` no início de uma linha para criar headers de diferentes tamanhos:\n",
    "\n",
    "# Header 1\n",
    "\n",
    "## Header 2\n",
    "\n",
    "### Header 3\n",
    "\n",
    "#### Header 4\n",
    "\n",
    "Para criar uma lista numerada ou não numerada (i.e. com _bullets_), comece simplesmente uma linha com `*` ou `1.`.\n",
    "\n",
    "Uma lista de _bullets_:\n",
    "\n",
    "* Item 1\n",
    "* Item 2\n",
    "* Item 3\n",
    "\n",
    "Uma lista numerada:\n",
    "\n",
    "1. Apple\n",
    "2. Banana\n",
    "3. Pineapple\n",
    "\n",
    "Pode tornar um texto bold com `**`, e.g., **texto a bold**, ou torná-lo itálico com `*`, e.g., *texto em itálico.* Também pode criar links,  e.g., [um link](https://www.ips.pt). As imagens também são facilmente incorporadas:\n",
    "\n",
    "![](https://raw.githubusercontent.com/davsimoes/mcde-pds/main/img/calvin_hobbes_600.png)\n",
    "\n",
    "Outra característica muito interessante do Markdown é a possibilidade de incluir blocos de código. Note que os blocos de código dentro de células Markdown não podem ser executados.\n",
    "\n",
    "```\n",
    "# Efetuar os cálculos necesários\n",
    "lucro_por_saco = custo_do_saco_de_gelo * margem_de_lucro\n",
    "lucro_total = numero_de_sacos * lucro_por_saco\n",
    "\n",
    "# Exibir o resultado\n",
    "print(\"A mercearia faz um lucro total de\", lucro_total, \"€\")\n",
    "\n",
    "```\n",
    "\n",
    "Pode aprender a sintaxe completa do Markdown aqui: https://learnxinyminutes.com/docs/markdown/"
   ]
  },
  {
   "cell_type": "markdown",
   "metadata": {},
   "source": [
    "### Guardar o seu notebook\n",
    "\n",
    "É muito importante guardar o seu trabalho com frequência. Pode continuar a trabalhar mais tarde num notebook que gravou anteriormente ou pode partilhá-lo com outras pessoas e permitir que executem o seu código."
   ]
  },
  {
   "cell_type": "markdown",
   "metadata": {},
   "source": [
    "## Questões para Revisão\n",
    "\n",
    "Tente responder às seguintes questões para testar a sua compreensão sobre os tópicos cobertos neste notebook:\n",
    "\n",
    "1. O que é um Jupyter notebook? \n",
    "2. Como é que pode adicionar uma nova célula de código por baixo de uma célula existente?\n",
    "3. Como é que pode adicionar uma nova célula Markdown por baixo de uma célula existente?\n",
    "4. Como é que pode converter uma célula de código numa célula Markdown ou vice-versa?\n",
    "5. Como é que pode executar uma célula de código no Jupyter?\n",
    "6. Quais são as diferentes operações aritméticas suportadas no Python?\n",
    "7. Como é que pode efetuar operações aritméticas com o Python?\n",
    "8. Qual é a diferença entre os operadores `/` e `//`?\n",
    "9. Qual é a diferença entre os operadores `*` e `**`?\n",
    "10. Qual é a ordem de precedência para os operadores aritméticos em Python?\n",
    "11. Como é que pode especificar a ordem pela qual as operações aritméticas são efetuadas numa expressão com múltiplos operadores?\n",
    "12. Como é que pode resolver um problema aritmético com vários passos no Python?\n",
    "13. O que são variáveis? Porque é que elas são úteis?\n",
    "14. Como é que pode criar uma variável em Python?\n",
    "15. Qual é o operador de atribuição em Python?\n",
    "16. Quais são as regras para dar um nome a uma variável em Python?\n",
    "17. Como é que pode ver o valor de uma variável?\n",
    "18. Como é que pode armazenar o resultado de uma expressão aritmética numa variável?\n",
    "19. O que é que acontece se tentar aceder a uma variável que não foi definida?\n",
    "20. Como é que pode exibir mensagens em Python?\n",
    "21. Que tipo de entradas é que a função print aceita?\n",
    "22. O que são comentários de código? Como é que podem ser úteis?\n",
    "23. Quais são as diferentes formas de criar comentários em código Python?\n",
    "24. Quais são as diferentes operações de comparação suportadas no Python?\n",
    "25. Qual é o resultado de uma operação de comparação?\n",
    "26. Qual é a diferença entre `=` e `==` em Python?\n",
    "27. Quais são os operadores lógicos suportados no Python?\n",
    "28. Qual é a diferença entre os operadores `and` e `or`?\n",
    "29. Pode usar operadores de comparação e lógicos na mesma expressão?\n",
    "30. Qual é a finalidade de usar parêntesis em expressões aritméticas ou lógicas?\n",
    "31. O que é o Markdown? Por que é que é útil?\n",
    "32. Como é que pode criar headings de diferentes dimensoes usando o Markdown?\n",
    "33. Como é que pode criar listas numeradas e de bullets usando o Markdown?\n",
    "34. Como é que pode criar texto bold ou itálico usando o Markdown?\n",
    "35. Como é que pode incluir links e imagens em células Markdown?\n",
    "36. Como é que pode incluir blocos de código em células Markdown?\n",
    "37. É possível executar blocos de código em células Markdown?\n",
    "38. Como pode gravar um Jupyter notebook?\n",
    "39. Como pode visualizar e alterar um Jupyter notebook?\n",
    "40. Onde é que pode aprender mais sobre operações aritméticas, condicionais e lógicas em Python?\n"
   ]
  },
  {
   "cell_type": "markdown",
   "metadata": {},
   "source": [
    "## Solução para Exercício"
   ]
  },
  {
   "cell_type": "markdown",
   "metadata": {},
   "source": [
    "\n",
    "\n",
    "> **EXERCÍCIO**: Uma empresa de viagens quer levar um avião às Bahamas. O voo do avião custa 5000 euros. Até agora, 29 pessoas inscreveram-se para a viagem. Se a empresa cobra 200 euros por bilhete, qual é o lucro obtido pela empresa? Crie variáveis para cada quantidade numérica e utilize operações aritméticas apropriadas."
   ]
  },
  {
   "cell_type": "code",
   "execution_count": 57,
   "metadata": {},
   "outputs": [],
   "source": [
    "custo_aviao = 5000\n",
    "total_pessoas_inscritas = 29\n",
    "custo_bilhete = 200"
   ]
  },
  {
   "cell_type": "code",
   "execution_count": 58,
   "metadata": {},
   "outputs": [],
   "source": [
    "valor_recebido_por_empresa = total_pessoas_inscritas * custo_bilhete"
   ]
  },
  {
   "cell_type": "code",
   "execution_count": 59,
   "metadata": {},
   "outputs": [],
   "source": [
    "lucro_total = valor_recebido_por_empresa - custo_aviao"
   ]
  },
  {
   "cell_type": "code",
   "execution_count": 60,
   "metadata": {},
   "outputs": [
    {
     "data": {
      "text/plain": [
       "800"
      ]
     },
     "execution_count": 60,
     "metadata": {},
     "output_type": "execute_result"
    }
   ],
   "source": [
    "lucro_total"
   ]
  },
  {
   "cell_type": "markdown",
   "metadata": {},
   "source": [
    "A companhia de viagens fez um lucro de 800 €!"
   ]
  },
  {
   "cell_type": "markdown",
   "metadata": {},
   "source": [
    "## Referências\n",
    "\n",
    "Este notebook é uma adaptação traduzida do curso *<u>Data Analysis with Python: Zero to Pandas</u>* de AaKash N S / [Jovian.ai](https://jovian.ai)\n",
    "\n",
    "Outras referências:\n",
    "* McKinney, W., Python for Data Analysis, 3rd. Ed. O'Reilly. Versão online em https://wesmckinney.com/book/ \n",
    "* Documentação oficial do Python: https://docs.python.org/3/tutorial/index.html\n",
    "* Tutorial Python do W3Schools: https://www.w3schools.com/python/\n",
    "* Practical Python Programming: https://dabeaz-course.github.io/practical-python/Notes/Contents.html\n",
    "* Jupyter Notebooks: https://docs.jupyter.org\n",
    "* Markdown Reference: https://www.markdownguide.org\n"
   ]
  }
 ],
 "metadata": {
  "kernelspec": {
   "display_name": "Python 3 (ipykernel)",
   "language": "python",
   "name": "python3"
  },
  "language_info": {
   "codemirror_mode": {
    "name": "ipython",
    "version": 3
   },
   "file_extension": ".py",
   "mimetype": "text/x-python",
   "name": "python",
   "nbconvert_exporter": "python",
   "pygments_lexer": "ipython3",
   "version": "3.10.13"
  }
 },
 "nbformat": 4,
 "nbformat_minor": 4
}
