{
 "cells": [
  {
   "cell_type": "markdown",
   "metadata": {},
   "source": [
    "Esta aula cobre os seguintes tópicos:\n",
    "\n",
    "- Criar e usar funções em Python\n",
    "- Variáveis locais, valores de retorno, e argumentos opcionais\n",
    "- Reutilizar funções e usar funções da biblioteca Python\n",
    "- Tratamento de exceções com blocos `try`-`except`\n",
    "- Documentar funções utilizando Docstrings"
   ]
  },
  {
   "cell_type": "markdown",
   "metadata": {},
   "source": [
    "### Como executar o código\n",
    "\n",
    "Esta aula é um [Jupyter notebook](https://jupyter.org) executável. Pode _correr_ esta aula e experimentar os exemplos de código de diferentes formas: *localmente no seu computador*, ou *utilizando um serviço online gratuito*.\n",
    "\n",
    "#### Opção 1: Correr localmente no seu computador\n",
    "\n",
    "Para correr localmente o código no seu computador, faça download do notebook e abra o ficheiro com uma aplicação ou ambiente de desenvolvimento suportado, por exemplo:\n",
    "* Visual Studio Code: https://code.visualstudio.com/download\n",
    "* Anaconda: https://www.anaconda.com/download\n",
    "* Miniconda: https://docs.conda.io/projects/miniconda/en/latest/\n",
    "\n",
    "Em qualquer das opções, as aplicações terão de suportar (nativamente ou através de extensões) o [Python](https://www.python.org) e os [Jupyter notebooks](https://jupyter.org), de forma a disponibilizar um ambiente de visualização e execução local com um kernel que execute o código Python contido no notebook.\n",
    "\n",
    "#### Opção 2: Correr num serviço online gratuito\n",
    "\n",
    "Para executar o notebook online, faça upload do notebook para o serviço da sua preferência, por exemplo:\n",
    "* Google Colab: https://colab.google/\n",
    "* Binder (com repositório GitHub): https://mybinder.org/\n",
    "* Kaggle: https://www.kaggle.com/\n",
    "\n",
    "\n",
    ">  **Jupyter Notebooks**: Esta aula é um [Jupyter notebook](https://jupyter.org) - um documento feito de _células_. Cada célula pode conter código escrito em Python ou explicações em português. Pode executar células de código e visualizar os resultados, e.g., números, mensagens, gráficos, tabelas, ficheiros, etc., instantaneamente no notebook. O Jupyter é uma plataforma poderosa para experimentação e análise. Não tenha medo de mexer no código ou estragar alguma coisa - aprenderá muito ao encontrar e corrigir erros. Pode utilizar a opção de menu \"Kernel > Restart & Clear Output\" (Kernel > Reiniciar e Limpar Saída) para limpar todas as saídas e recomeçar do início."
   ]
  },
  {
   "cell_type": "markdown",
   "metadata": {},
   "source": [
    "## Criar e utilizar funções\n",
    "\n",
    "Uma função é um conjunto reutilizável de instruções que recebe uma ou mais entradas, executa algumas operações, e frequentemente retorna uma saída. O Python contém muitas funções incorporadas como o `print`, `len`, etc., e oferece a possibilidade de definir novas funções."
   ]
  },
  {
   "cell_type": "code",
   "execution_count": null,
   "metadata": {},
   "outputs": [],
   "source": [
    "hoje = \"Sábado\"\n",
    "print(\"Hoje é\", hoje)"
   ]
  },
  {
   "cell_type": "markdown",
   "metadata": {},
   "source": [
    "Podemos definir uma nova função usando a keyword `def`."
   ]
  },
  {
   "cell_type": "code",
   "execution_count": null,
   "metadata": {},
   "outputs": [],
   "source": [
    "def cumprimentar():\n",
    "    print('Olá!')\n",
    "    print('Está tudo bem?')"
   ]
  },
  {
   "cell_type": "markdown",
   "metadata": {},
   "source": [
    "Note os parêntesis `()` e os dois pontos `:` depois do nome da função. Ambos são partes essenciais da sintaxe. O *corpo* da função contém um bloco de instruções indentado. As instruções dentro do corpo de uma função não são executadas quando a função é definida. Para executar as instruções, temos de *chamar* ou *invocar* a função."
   ]
  },
  {
   "cell_type": "code",
   "execution_count": null,
   "metadata": {},
   "outputs": [],
   "source": [
    "cumprimentar()"
   ]
  },
  {
   "cell_type": "markdown",
   "metadata": {},
   "source": [
    "### Argumentos de funções\n",
    "\n",
    "As funções podem aceitar zero ou mais valores como *entradas* (também conhecidas como *inputs*, *argumentos* ou *parâmetros*). Os argumentos ajudam-nos a escrever funções flexíveis que podem efetuar as mesmas operações com valores diferentes. Além disso, as funções podem devolver um resultado que pode ser armazenado numa variável ou utilizado noutras expressões.\n",
    "\n",
    "Aqui está uma função que filtra os números pares de uma lista e retorna uma nova lista usando a palavra-chave `return`."
   ]
  },
  {
   "cell_type": "code",
   "execution_count": null,
   "metadata": {},
   "outputs": [],
   "source": [
    "def filtrar_pares(lista_de_numeros):\n",
    "    lista_de_resultados = []\n",
    "    for numero in lista_de_numeros:\n",
    "        if numero % 2 == 0:\n",
    "            lista_de_resultados.append(numero)\n",
    "    return lista_de_resultados"
   ]
  },
  {
   "cell_type": "markdown",
   "metadata": {},
   "source": [
    "Consegue entender o que faz a função ao ler o código? Se não, tente executar cada linha do corpo da função em células separadas com uma lista concreta de números em ves do  `lista_de_numeros`."
   ]
  },
  {
   "cell_type": "code",
   "execution_count": null,
   "metadata": {},
   "outputs": [],
   "source": [
    "lista_pares = filtrar_pares([1, 2, 3, 4, 5, 6, 7])"
   ]
  },
  {
   "cell_type": "code",
   "execution_count": null,
   "metadata": {},
   "outputs": [],
   "source": [
    "lista_pares"
   ]
  },
  {
   "cell_type": "markdown",
   "metadata": {},
   "source": [
    "## Escrever excelentes funções em Python\n",
    "\n",
    "Como programador, vai passar a maior parte do teu tempo a escrever e a usar funções. O Python oferece muitos recursos para tornar as nossas funções poderosas e flexíveis. Vamos explorar algumas delas resolvendo um problema:\n",
    "\n",
    "> A Maria está a planear comprar uma casa que custa `1.260.000 euros`. Ela está a considerar duas opções para financiar a sua compra:\n",
    ">\n",
    "> * Opção 1: Dar uma entrada imediata de 300.000 € e contrair um empréstimo a 8 anos com uma taxa de juro de 10% (composta mensalmente) para o montante restante.\n",
    "> * Opção 2: contrair um empréstimo a 10 anos, com uma taxa de juro de 8% (com capitalização mensal), para a totalidade do montante.\n",
    ">\n",
    "> Ambos os empréstimos têm de ser pagos em prestações mensais iguais (PMI). Qual dos dois empréstimos tem a PMI mais baixa?\n",
    "\n",
    "\n",
    "Como precisamos comparar as PMIs de duas opções de empréstimo, seria uma ótima ideia definir uma função para calcular a PMI de um empréstimo.  As entradas para a função seriam o custo da casa, a entrada, a duração do empréstimo, a taxa de juro, etc. Vamos construir esta função passo a passo.\n",
    "\n",
    "Primeiro, vamos escrever uma função simples que calcula o PMI sobre o custo total da casa, assumindo que o empréstimo deve ser pago num ano e que não há juros nem entrada."
   ]
  },
  {
   "cell_type": "code",
   "execution_count": null,
   "metadata": {},
   "outputs": [],
   "source": [
    "def emprestimo_pmi(montante):\n",
    "    pmi = montante / 12\n",
    "    print('A PMI é {} €'.format(pmi))"
   ]
  },
  {
   "cell_type": "code",
   "execution_count": null,
   "metadata": {},
   "outputs": [],
   "source": [
    "emprestimo_pmi(1260000)"
   ]
  },
  {
   "cell_type": "markdown",
   "metadata": {},
   "source": [
    "### Variáveis locais e âmbito\n",
    "\n",
    "Vamos adicionar um segundo argumento para ter em conta a duração do empréstimo em meses."
   ]
  },
  {
   "cell_type": "code",
   "execution_count": null,
   "metadata": {},
   "outputs": [],
   "source": [
    "def emprestimo_pmi(montante, duracao):\n",
    "    pmi = montante / duracao\n",
    "    print('A PMI é {} €'.format(pmi))"
   ]
  },
  {
   "cell_type": "markdown",
   "metadata": {},
   "source": [
    "Note que a variável `pmi` definida dentro da função não é acessível fora dela. O mesmo é verdade para os parâmetros `montante` e `duracao`. Todos eles são *variáveis locais* que estão definidas no *âmbito* da função.\n",
    "\n",
    "> **Âmbito**: O Âmbito refere-se à região no código onde uma variável em particular é visível. Cada função (ou definição de classe) define um âmbito no Python. As variáveis definidas nesse âmbito são chamadas *variáveis locais*. As variáveis que estão disponíveis em todo o lado são chamadas *variáveis globais*. As regras de âmbito permitem  utilizar os mesmos nomes de variáveis em diferentes funções sem partilhar valores de uma para a outra."
   ]
  },
  {
   "cell_type": "code",
   "execution_count": null,
   "metadata": {},
   "outputs": [],
   "source": [
    "pmi"
   ]
  },
  {
   "cell_type": "code",
   "execution_count": null,
   "metadata": {},
   "outputs": [],
   "source": [
    "montante"
   ]
  },
  {
   "cell_type": "code",
   "execution_count": null,
   "metadata": {},
   "outputs": [],
   "source": [
    "duracao"
   ]
  },
  {
   "cell_type": "markdown",
   "metadata": {},
   "source": [
    "Podemos agora comparar um empréstimo de 8 anos vs. um empréstimo de 10 anos (assumindo que não existe entrada nem juros)."
   ]
  },
  {
   "cell_type": "code",
   "execution_count": null,
   "metadata": {},
   "outputs": [],
   "source": [
    "emprestimo_pmi(1260000, 8*12)"
   ]
  },
  {
   "cell_type": "code",
   "execution_count": null,
   "metadata": {
    "scrolled": true
   },
   "outputs": [],
   "source": [
    "emprestimo_pmi(1260000, 10*12)"
   ]
  },
  {
   "cell_type": "markdown",
   "metadata": {},
   "source": [
    "### Valores de retorno\n",
    "\n",
    "Como seria de esperar, o EMI do empréstimo a 6 anos é mais elevado do que o do empréstimo a 10 anos. \n",
    "\n",
    "Neste momento, estamos a imprimir o resultado dentro da função. Seria melhor retorná-lo e armazenar os resultados em variáveis para facilitar a comparação. Podemos fazer isso usando a instrução `return`."
   ]
  },
  {
   "cell_type": "code",
   "execution_count": null,
   "metadata": {},
   "outputs": [],
   "source": [
    "def emprestimo_pmi(montante, duracao):\n",
    "    pmi = montante / duracao\n",
    "    return pmi"
   ]
  },
  {
   "cell_type": "code",
   "execution_count": null,
   "metadata": {},
   "outputs": [],
   "source": [
    "pmi1 = emprestimo_pmi(1260000, 8*12)"
   ]
  },
  {
   "cell_type": "code",
   "execution_count": null,
   "metadata": {},
   "outputs": [],
   "source": [
    "pmi2 = emprestimo_pmi(1260000, 10*12)"
   ]
  },
  {
   "cell_type": "code",
   "execution_count": null,
   "metadata": {
    "scrolled": true
   },
   "outputs": [],
   "source": [
    "pmi1"
   ]
  },
  {
   "cell_type": "code",
   "execution_count": null,
   "metadata": {},
   "outputs": [],
   "source": [
    "pmi2"
   ]
  },
  {
   "cell_type": "markdown",
   "metadata": {},
   "source": [
    "### Argumentos opcionais\n",
    "\n",
    "A seguir, vamos adicionar outro argumento para prever uma entrada inicial. Vamos torná-lo um *argumento opcional* com um valor por omissão de 0."
   ]
  },
  {
   "cell_type": "code",
   "execution_count": null,
   "metadata": {},
   "outputs": [],
   "source": [
    "def emprestimo_pmi(montante, duracao, entrada=0): \n",
    "    montante_emprestimo = montante - entrada\n",
    "    pmi = montante_emprestimo / duracao\n",
    "    return pmi"
   ]
  },
  {
   "cell_type": "code",
   "execution_count": null,
   "metadata": {},
   "outputs": [],
   "source": [
    "pmi1 = emprestimo_pmi(1260000, 8*12, 3e5)"
   ]
  },
  {
   "cell_type": "code",
   "execution_count": null,
   "metadata": {},
   "outputs": [],
   "source": [
    "pmi1"
   ]
  },
  {
   "cell_type": "code",
   "execution_count": null,
   "metadata": {},
   "outputs": [],
   "source": [
    "pmi2 = emprestimo_pmi(1260000, 10*12)"
   ]
  },
  {
   "cell_type": "code",
   "execution_count": null,
   "metadata": {},
   "outputs": [],
   "source": [
    "pmi2"
   ]
  },
  {
   "cell_type": "markdown",
   "metadata": {},
   "source": [
    "A seguir, vamos adicionar o cálculo de juros à função. Aqui está a fórmula usada para calcular a PMI para um empréstimo:\n",
    "\n",
    "<img src=\"https://raw.githubusercontent.com/davsimoes/mcde-pds/main/img/formula_emprestimo.png\" style=\"width:240px\">\n",
    "\n",
    "onde:\n",
    "\n",
    "* `EMI` é a prestação mensal (*equal monthly installment*)\n",
    "* `P` é o montante do empréstimo (*principal*)\n",
    "* `n` é o número de meses\n",
    "* `r` é a taxa (*rate*) mensal do empréstimo\n",
    "\n",
    "A derivação desta fórmula sai fora do âmbito desta aula. Pode ver este video para uma explicação: https://youtu.be/Coxza9ugW4E ."
   ]
  },
  {
   "cell_type": "code",
   "execution_count": null,
   "metadata": {},
   "outputs": [],
   "source": [
    "def emprestimo_pmi(montante, duracao, taxa, entrada=0): \n",
    "    montante_emprestimo = montante - entrada\n",
    "    pmi = montante_emprestimo * taxa * ((1+taxa)**duracao) / (((1+taxa)**duracao)-1)\n",
    "    return pmi"
   ]
  },
  {
   "cell_type": "markdown",
   "metadata": {},
   "source": [
    "Note que ao definir a função, argumentos obrigatórios como `montante`, `duração` e `taxa` têm de aparecer antes de argumentos opcionais como `entrada`.\n",
    "\n",
    "Vamos calcular o PMI para a Opção 1"
   ]
  },
  {
   "cell_type": "code",
   "execution_count": null,
   "metadata": {
    "scrolled": true
   },
   "outputs": [],
   "source": [
    "emprestimo_pmi(1260000, 8*12, 0.1/12, 3e5)"
   ]
  },
  {
   "cell_type": "markdown",
   "metadata": {},
   "source": [
    "Ao calcular o PMI para a Opção 2, não necessitameos de incluir o argumento `entrada`."
   ]
  },
  {
   "cell_type": "code",
   "execution_count": null,
   "metadata": {},
   "outputs": [],
   "source": [
    "emprestimo_pmi(1260000, 10*12, 0.08/12)"
   ]
  },
  {
   "cell_type": "markdown",
   "metadata": {},
   "source": [
    "### Argumentos com nome\n",
    "\n",
    "Chamar uma função com muitos argumentos pode ser muitas vezes confuso e propenso a erro humano. O Python oferece a opção de invocar funções com argumentos *com nome* para melhor clareza. Podemos também dividir a invocação da função em múltiplas linhas."
   ]
  },
  {
   "cell_type": "code",
   "execution_count": null,
   "metadata": {},
   "outputs": [],
   "source": [
    "pmi1 = emprestimo_pmi(\n",
    "    montante=1260000, \n",
    "    duracao=8*12, \n",
    "    taxa=0.1/12, \n",
    "    entrada=3e5\n",
    ")"
   ]
  },
  {
   "cell_type": "code",
   "execution_count": null,
   "metadata": {},
   "outputs": [],
   "source": [
    "pmi1"
   ]
  },
  {
   "cell_type": "code",
   "execution_count": null,
   "metadata": {},
   "outputs": [],
   "source": [
    "pmi2 = emprestimo_pmi(montante=1260000, duracao=10*12, taxa=0.08/12)"
   ]
  },
  {
   "cell_type": "code",
   "execution_count": null,
   "metadata": {},
   "outputs": [],
   "source": [
    "pmi2"
   ]
  },
  {
   "cell_type": "markdown",
   "metadata": {},
   "source": [
    "### Módulos e funções de biblioteca\n",
    "\n",
    "Podemos já ver que o PMI da Opção 1 é inferior ao PMI da Opção 2. No entanto, seria interessante arredondar o valor para euros inteiros, em vez de mostrar os dígitos depois da vírgula. Para isso, talvez queiramos escrever uma função que pegue num número e o arredonde para o número inteiro seguinte (por exemplo, 1,2 é arredondado para 2). Este seria um ótimo exercício para treinar!\n",
    "\n",
    "No entanto, como o arredondamento de números é uma operação muito comum, o Python oferece uma função para isso (juntamente com milhares de outras funções) como parte da [Python Standard Library](https://docs.python.org/3/library/). As funções estão organizadas em *módulos* que têm de ser importados para utilizar as funções que contêm. \n",
    "\n",
    "> **Módulos**: Os módulos são ficheiros que contêm código Python (variáveis, funções, classes, etc.). Os módulos permitem organizar o código de grandes projectos Python em ficheiros e pastas. O principal benefício do uso de módulos é a organização em _namespaces_: temos de importar o módulo para usar as suas funções dentro de um script ou notebook Python. Os namespaces fornecem encapsulamento e evitam conflitos de nomes entre o nosso código e um módulo ou entre módulos.\n",
    "\n",
    "Podemos usar a função `ceil` (abreviação de *ceiling*, ou teto) do módulo `math` para arredondar números para cima. Vamos importar o módulo e usá-lo para arredondar para cima o número `1.2`."
   ]
  },
  {
   "cell_type": "code",
   "execution_count": null,
   "metadata": {},
   "outputs": [],
   "source": [
    "import math"
   ]
  },
  {
   "cell_type": "code",
   "execution_count": null,
   "metadata": {},
   "outputs": [],
   "source": [
    "help(math.ceil)"
   ]
  },
  {
   "cell_type": "code",
   "execution_count": null,
   "metadata": {},
   "outputs": [],
   "source": [
    "math.ceil(1.2)"
   ]
  },
  {
   "cell_type": "markdown",
   "metadata": {},
   "source": [
    "Vamos agora utilizar a função `math.ceil` dentro da função `emprestimo_pmi` para arredondar o valor do PMI. \n",
    "\n",
    "> Utilizar funções para construir outras funções é uma ótima maneira de reutilizar código e implementar lógica de negócio complexa, mantendo o código pequeno, compreensível e gerível. Idealmente, uma função deve fazer uma coisa e apenas uma coisa. Se der por si a escrever uma função que faz demasiadas coisas, considere dividi-la em várias funções mais pequenas e independentes. Em geral, tente limitar as suas funções a 10 linhas de código ou menos. Os bons programadores escrevem sempre funções curtas, simples e legíveis."
   ]
  },
  {
   "cell_type": "code",
   "execution_count": null,
   "metadata": {},
   "outputs": [],
   "source": [
    "def emprestimo_pmi(montante, duracao, taxa, entrada=0): \n",
    "    montante_emprestimo = montante - entrada\n",
    "    pmi = montante_emprestimo * taxa * ((1+taxa)**duracao) / (((1+taxa)**duracao)-1)\n",
    "    pmi = math.ceil(pmi)\n",
    "    return pmi"
   ]
  },
  {
   "cell_type": "code",
   "execution_count": null,
   "metadata": {},
   "outputs": [],
   "source": [
    "pmi1 = emprestimo_pmi(\n",
    "    montante=1260000, \n",
    "    duracao=8*12, \n",
    "    taxa=0.1/12, \n",
    "    entrada=3e5\n",
    ")"
   ]
  },
  {
   "cell_type": "code",
   "execution_count": null,
   "metadata": {},
   "outputs": [],
   "source": [
    "pmi1"
   ]
  },
  {
   "cell_type": "code",
   "execution_count": null,
   "metadata": {},
   "outputs": [],
   "source": [
    "pmi2 = emprestimo_pmi(montante=1260000, duracao=10*12, taxa=0.08/12)"
   ]
  },
  {
   "cell_type": "code",
   "execution_count": null,
   "metadata": {},
   "outputs": [],
   "source": [
    "pmi2"
   ]
  },
  {
   "cell_type": "markdown",
   "metadata": {},
   "source": [
    "Vamos comparar as PMIs e exibir uma mensagem para a opção como a PMI mais baixa."
   ]
  },
  {
   "cell_type": "code",
   "execution_count": null,
   "metadata": {},
   "outputs": [],
   "source": [
    "if pmi1 < pmi2:\n",
    "    print(\"A Opção 1 tem a PMI mais baixa: {} €\".format(pmi1))\n",
    "else:\n",
    "    print(\"A Opção 2 tem a PMI mais baixaI: {} €\".format(pmi2))"
   ]
  },
  {
   "cell_type": "markdown",
   "metadata": {},
   "source": [
    "### Reutilizar e melhorar funções \n",
    "\n",
    "Agora sabemos com certeza que a \"Opção 1\" tem o menor PMI entre as duas opções. Mas o que é ainda melhor é que agora temos uma função útil `emprestimo_pmi` que podemos usar para resolver muitos outros problemas semelhantes com apenas algumas linhas de código. Vamos experimentá-la com mais algumas perguntas."
   ]
  },
  {
   "cell_type": "markdown",
   "metadata": {},
   "source": [
    "> **P**: O Paulo está atualmente a pagar um empréstimo para uma casa que comprou há alguns anos. O custo da casa foi `200 000 €`. O Paulo deu uma entrada de `25%` do preço da casa, e financiou o restante montante com um empréstimo a `30` anos com uma taxa de juro de `6%` ao ano (composta mensalmente). O Paulo está agora a comprar um carro de `60 000 €`, que está a planear financiar com um empréstimo a `8` anos com uma taxa de juro anual de `12%`. Ambos os empréstimos são pagos em PMIs. Qual é o pagamento mensal total que o Paulo faz para pagar os empréstimos?\n",
    "\n",
    "Esta questão é agora de resolução fácil e direta, usando a função `emprestimo_pmi` que já definimos."
   ]
  },
  {
   "cell_type": "code",
   "execution_count": null,
   "metadata": {},
   "outputs": [],
   "source": [
    "custo_da_casa = 200000\n",
    "duracao_emprestimo_casa = 30*12 # meses\n",
    "taxa_emprestimo_casa = 0.06/12 # mensalmente\n",
    "entrada_casa = .25 * 200000\n",
    "\n",
    "pmi_casa = emprestimo_pmi(montante=custo_da_casa,\n",
    "                     duracao=duracao_emprestimo_casa,\n",
    "                     taxa=taxa_emprestimo_casa, \n",
    "                     entrada=entrada_casa)\n",
    "\n",
    "pmi_casa"
   ]
  },
  {
   "cell_type": "code",
   "execution_count": null,
   "metadata": {},
   "outputs": [],
   "source": [
    "custo_do_carro = 60000\n",
    "duracao_emprestimo_carro = 8*12 # meses\n",
    "taxa_emprestimo_carro = .12/12 # mensalmente\n",
    "\n",
    "pmi_carro = emprestimo_pmi(montante=custo_do_carro, \n",
    "                   duracao=duracao_emprestimo_carro, \n",
    "                   taxa=taxa_emprestimo_carro)\n",
    "\n",
    "pmi_carro"
   ]
  },
  {
   "cell_type": "code",
   "execution_count": null,
   "metadata": {},
   "outputs": [],
   "source": [
    "print(\"O Paulo faz um pagamento mensal total de {} € para o pagamento de dívidas de empréstimo.\".format(pmi_casa+pmi_carro))"
   ]
  },
  {
   "cell_type": "markdown",
   "metadata": {},
   "source": [
    "### Exceções e `try`-`except`\n",
    "\n",
    "> P: Se pedir um empréstimo de `100 000 €` a `40` anos com uma taxa de juro anual de `6%`, qual é o montante total que vai acabar por pagar em juros?\n",
    "\n",
    "Uma forma de resolver este problema é comparar os PMIs para dois empréstimos, um com a taxa de juros dada e outro com uma taxa de juro de 0%. O juro total pago será então simplesmente a soma das diferenças mensais ao longo da duração do empréstimo."
   ]
  },
  {
   "cell_type": "code",
   "execution_count": null,
   "metadata": {},
   "outputs": [],
   "source": [
    "pmi_com_juros = emprestimo_pmi(montante=100000, duracao=40*12, taxa=0.06/12)\n",
    "pmi_com_juros"
   ]
  },
  {
   "cell_type": "code",
   "execution_count": null,
   "metadata": {},
   "outputs": [],
   "source": [
    "pmi_sem_juros = emprestimo_pmi(montante=100000, duracao=40*12, taxa=0/12)\n",
    "pmi_sem_juros"
   ]
  },
  {
   "cell_type": "markdown",
   "metadata": {},
   "source": [
    "Alguma coisa parece ter corrido mal! Se olharmos para a mensagem de erro acima com atenção, o Python diz-nos exatamente o que está errado. O Python *lança* um `ZeroDivisionError` com uma mensagem indicando que estamos a tentar dividir um número por zero. O `ZeroDivisonError` é uma *exceção* que interrompe a execução do programa.\n",
    "\n",
    "> **Exceção**: Mesmo que uma instrução ou expressão esteja sintaticamente correta, ela pode causar um erro quando o interpretador Python tenta executá-la. Os erros detectados durante a execução são chamados excepções. As excepções tipicamente param a execução do programa a não ser que sejam tratadas dentro do programa usando instruções `try`-`except`.\n",
    "\n",
    "O Python oferece muitas excepções incorporadas *lançadas* quando operadores, funções ou métodos incorporados são usados incorretamente: https://docs.python.org/3/library/exceptions.html#built-in-exceptions.\n",
    "\n",
    "Podemos utilizar os comandos `try` e `except` para *tratar* uma exceção. Aqui está um exemplo:"
   ]
  },
  {
   "cell_type": "code",
   "execution_count": null,
   "metadata": {},
   "outputs": [],
   "source": [
    "try:\n",
    "    print(\"A calcular o resultado..\")\n",
    "    resultado = 5 / 0\n",
    "    print(\"Os cálculos foram terminados com sucesso\")\n",
    "except ZeroDivisionError:\n",
    "    print(\"Falha ao calcular o resultado devido a tentativa de divisão por zero\")\n",
    "    resultado = None\n",
    "\n",
    "print(resultado)"
   ]
  },
  {
   "cell_type": "markdown",
   "metadata": {},
   "source": [
    "Quando uma exceção ocorre dentro de um bloco `try`, as restantes instruções do bloco são ignoradas. O bloco `except` é executado se o tipo de exceção lançada corresponder ao da exceção que está a ser tratada. Após a execução do bloco `except`, a execução do programa retorna ao fluxo normal.\n",
    "\n",
    "Também é possível tratar mais de um tipo de exceção utilizando várias instruções `except`. Pode aprender mais sobre exceções aqui: https://www.w3schools.com/python/python_try_except.asp .\n",
    "\n",
    "Vamos melhorar a função `loan_emi` para utilizar `try`-`except` para lidar com o cenário onde a taxa de juro é 0%. É prática comum fazer alterações/melhorias nas funções ao longo do tempo, à medida que novos cenários e casos de uso surgem. Isso torna as funções mais robustas e versáteis."
   ]
  },
  {
   "cell_type": "code",
   "execution_count": null,
   "metadata": {},
   "outputs": [],
   "source": [
    "def emprestimo_pmi(montante, duracao, taxa, entrada=0):\n",
    "    montante_emprestimo = montante - entrada\n",
    "    try:\n",
    "        pmi = montante_emprestimo * taxa * ((1+taxa)**duracao) / (((1+taxa)**duracao)-1)\n",
    "    except ZeroDivisionError:\n",
    "        pmi = montante_emprestimo / duracao\n",
    "    pmi = math.ceil(pmi)\n",
    "    return pmi"
   ]
  },
  {
   "cell_type": "markdown",
   "metadata": {},
   "source": [
    "Podemos usar a função `emprestimo_pmi` atualizada para resolver o nosso problema.\n",
    "\n",
    "> **P**: Se pedir um empréstimo de `100 000 €` a `40` anos com uma taxa de juro anual de `6%`, qual é o montante total que vai acabar por pagar em juros?\n",
    "\n"
   ]
  },
  {
   "cell_type": "code",
   "execution_count": null,
   "metadata": {},
   "outputs": [],
   "source": [
    "pmi_com_juros = emprestimo_pmi(montante=100000, duracao=40*12, taxa=0.06/12)\n",
    "pmi_com_juros"
   ]
  },
  {
   "cell_type": "code",
   "execution_count": null,
   "metadata": {},
   "outputs": [],
   "source": [
    "pmi_sem_juros = emprestimo_pmi(montante=100000, duracao=40*12, taxa=0/12)\n",
    "pmi_sem_juros"
   ]
  },
  {
   "cell_type": "code",
   "execution_count": null,
   "metadata": {},
   "outputs": [],
   "source": [
    "juro_total = (pmi_com_juros - pmi_sem_juros) * 40*12"
   ]
  },
  {
   "cell_type": "code",
   "execution_count": null,
   "metadata": {},
   "outputs": [],
   "source": [
    "print(\"O juro total pago é {} €.\".format(juro_total))"
   ]
  },
  {
   "cell_type": "markdown",
   "metadata": {},
   "source": [
    "### Documentar funções utilizando Docstrings\n",
    "\n",
    "Podemos adicionar alguma documentação dentro da nossa função usando uma *docstring*. Uma docstring é simplesmente uma string que aparece como a primeira instrução dentro do corpo da função, e é usada pela função `help`. Uma boa docstring descreve o que a função faz, e fornece alguma explicação sobre os argumentos."
   ]
  },
  {
   "cell_type": "code",
   "execution_count": null,
   "metadata": {},
   "outputs": [],
   "source": [
    "def emprestimo_pmi(montante, duracao, taxa, entrada=0):\n",
    "    \"\"\"Calcula a prestação mensal igual (PMI) para um empréstimo.\n",
    "    \n",
    "    Argumentos:\n",
    "        montante - Montante total a aplicar (empréstimo + entrada)\n",
    "        duracao - Duração do empréstimo (em meses)\n",
    "        taxa - Taxa de juro (mensal)\n",
    "        entrada (opcional) - Entrada opcional (deduzida do montante)\n",
    "    \"\"\"\n",
    "    montante_emprestimo = montante - entrada\n",
    "    try:\n",
    "        pmi = montante_emprestimo * taxa * ((1+taxa)**duracao) / (((1+taxa)**duracao)-1)\n",
    "    except ZeroDivisionError:\n",
    "        pmi = montante_emprestimo / duracao\n",
    "    pmi = math.ceil(pmi)\n",
    "    return pmi"
   ]
  },
  {
   "cell_type": "markdown",
   "metadata": {},
   "source": [
    "Na docstring acima, fornecemos algumas informações adicionais de que a `duração` e a `taxa` são medidas em meses. Poderíamos até considerar nomear os argumentos `duração_meses` e `taxa_mensal`, para evitar qualquer tipo de confusão. Consegue pensar noutras formas de melhorar a função?"
   ]
  },
  {
   "cell_type": "code",
   "execution_count": null,
   "metadata": {},
   "outputs": [],
   "source": [
    "help(emprestimo_pmi)"
   ]
  },
  {
   "cell_type": "markdown",
   "metadata": {},
   "source": [
    "### Guardar o seu notebook\n",
    "\n",
    "É muito importante guardar o seu trabalho com frequência. Pode continuar a trabalhar mais tarde num notebook que gravou anteriormente ou pode partilhá-lo com outras pessoas e permitir que executem o seu código."
   ]
  },
  {
   "cell_type": "markdown",
   "metadata": {},
   "source": [
    "## Exercício - Análise de dados para o Planeamento de Férias\n",
    "\n",
    "Está a planear umas férias e precisa de decidir que cidade quer visitar. Fez uma pequena lista de quatro cidades e identificou o custo do voo de ida e volta, o custo diário do hotel e o custo semanal do aluguer de um automóvel. Ao alugar um carro, tem de pagar por semanas inteiras, mesmo que devolva o carro mais cedo.\n",
    "\n",
    "\n",
    "| Cidade | Voo de ida e volta (`€`) | Hotel por dia (`€`) | Aluguer semanal de carro  (`€`) | \n",
    "|--------|--------------------------|---------------------|---------------------------------|\n",
    "| Paris  |         200              |          20         |               200               |\n",
    "| London |         250              |          30         |               120               |\n",
    "| Dubai  |         370              |          15         |                80               |\n",
    "| Mumbai |         450              |          10         |                70               |         \n",
    "\n",
    "\n",
    "Responda às seguintes questões usando os dados acima:\n",
    "\n",
    "1. Se estiver a planear uma viagem de uma semana, que cidade deve visitar para gastar menos dinheiro?\n",
    "2. Como é que a resposta à pergunta anterior muda se alterar a duração da viagem para quatro dias, dez dias ou duas semanas?\n",
    "3. Se o orçamento total para a viagem for `1000€`, que cidade deve visitar para maximizar a duração da sua viagem? Que cidade deve visitar se quiser minimizar a duração da viagem?\n",
    "4. Como é que a resposta à pergunta anterior muda se o seu orçamento for `600€`, `2000€` ou `1500€`?\n",
    "\n",
    "*Dica: Para responder a estas questões, será útil definir uma função `cost_of_trip` com dados relevantes como o custo do voo, a tarifa do hotel, a taxa de aluguer do carro, e a duração da viagem. A função `math.ceil` pode ser útil para calcular o custo total do aluguer do carro.*"
   ]
  },
  {
   "cell_type": "code",
   "execution_count": 18,
   "metadata": {},
   "outputs": [
    {
     "name": "stdout",
     "output_type": "stream",
     "text": [
      "A cidade mais barata é Paris\n"
     ]
    }
   ],
   "source": [
    "# Utilize estas células para responder à questão - construa a função passo a passo\n",
    "\n",
    "import math\n",
    "\n",
    "def custo_da_viagem(preco_voo, preco_hotel_dia, aluguel_carro_semana, dias_viagem):\n",
    "    custo_total = preco_voo + preco_hotel_dia * dias_viagem + aluguel_carro_semana * math.ceil(dias_viagem/7)\n",
    "    return custo_total\n",
    "\n",
    "DIAS = 7\n",
    "\n",
    "custo_paris = custo_da_viagem(preco_voo=200, preco_hotel_dia=20, aluguel_carro_semana=200, dias_viagem=DIAS)\n",
    "custo_londres = custo_da_viagem(preco_voo=250, preco_hotel_dia=30, aluguel_carro_semana=120, dias_viagem=DIAS)\n",
    "custo_dubai = custo_da_viagem(preco_voo=370, preco_hotel_dia=15, aluguel_carro_semana=80, dias_viagem=DIAS)\n",
    "custo_mumbai = custo_da_viagem(preco_voo=450, preco_hotel_dia=10, aluguel_carro_semana=70, dias_viagem=DIAS)\n",
    "\n",
    "#1. Se estiver a planear uma viagem de uma semana, que cidade deve visitar para gastar menos dinheiro?\n",
    "\n",
    "def cidade_mais_barata(custo_paris, custo_londres, custo_dubai, custo_mumbai):\n",
    "    if custo_paris < custo_londres and custo_paris < custo_dubai and custo_paris < custo_mumbai:\n",
    "        return \"Paris\"\n",
    "    elif custo_londres < custo_paris and custo_londres < custo_dubai and custo_londres < custo_mumbai:\n",
    "        return \"Londres\"\n",
    "    elif custo_dubai < custo_paris and custo_dubai < custo_londres and custo_dubai < custo_mumbai:\n",
    "        return \"Dubai\"\n",
    "    else:\n",
    "        return \"Mumbai\"\n",
    "\n",
    "print(f'A cidade mais barata é {cidade_mais_barata(custo_paris, custo_londres, custo_dubai, custo_mumbai)}')"
   ]
  },
  {
   "cell_type": "code",
   "execution_count": 17,
   "metadata": {},
   "outputs": [
    {
     "name": "stdout",
     "output_type": "stream",
     "text": [
      "Custos para 4 dias: ((480, 'paris'), (490, 'londres'), (510, 'dubai'), (560, 'mumbai'))\n",
      "Custos para 10 dias: ((800, 'paris'), (790, 'londres'), (680, 'dubai'), (690, 'mumbai'))\n",
      "Custos para 14 dias: ((880, 'paris'), (910, 'londres'), (740, 'dubai'), (730, 'mumbai'))\n"
     ]
    }
   ],
   "source": [
    "#2. Como é que a resposta à pergunta anterior muda se alterar a duração da viagem para quatro dias, dez dias ou duas semanas?\n",
    "\n",
    "def custos_em_funcao_dias(dias):\n",
    "    custo_paris = custo_da_viagem(preco_voo=200, preco_hotel_dia=20, aluguel_carro_semana=200, dias_viagem=dias), \"paris\"\n",
    "    custo_londres = custo_da_viagem(preco_voo=250, preco_hotel_dia=30, aluguel_carro_semana=120, dias_viagem=dias), \"londres\"\n",
    "    custo_dubai = custo_da_viagem(preco_voo=370, preco_hotel_dia=15, aluguel_carro_semana=80, dias_viagem=dias) , \"dubai\"\n",
    "    custo_mumbai = custo_da_viagem(preco_voo=450, preco_hotel_dia=10, aluguel_carro_semana=70, dias_viagem=dias) , \"mumbai\"\n",
    "    return custo_paris, custo_londres, custo_dubai, custo_mumbai\n",
    "\n",
    "print(f'Custos para 4 dias: {custos_em_funcao_dias(4)}')\n",
    "print(f'Custos para 10 dias: {custos_em_funcao_dias(10)}')\n",
    "print(f'Custos para 14 dias: {custos_em_funcao_dias(14)}')"
   ]
  },
  {
   "cell_type": "markdown",
   "metadata": {},
   "source": [
    "## Sumário e Leitura Complementar\n",
    "\n",
    "Com isto, concluímos a nossa discussão sobre funções em Python. Cobrimos os seguintes tópicos nesta aula:\n",
    "\n",
    "* Criar e usar funções\n",
    "* Funções com um ou mais argumentos\n",
    "* Variáveis locais e âmbito\n",
    "* Retornar valores usando `return`\n",
    "* Usar argumentos por omissão para tornar uma função flexível\n",
    "* Usar argumentos com nome ao invocar uma função\n",
    "* Importar módulos e usar funções de biblioteca\n",
    "* Reutilizar e melhorar funções para lidar com novos casos de uso\n",
    "* Tratar exceções com `try`-`except`\n",
    "* Documentar funções usando docstrings\n",
    "\n",
    "Esta aula sobre funções em Python não é de forma alguma exaustiva. Aqui estão mais alguns tópicos para aprender:\n",
    "\n",
    "* Funções com um número arbitrário de argumentos usando (`*args` e `**kwargs`)\n",
    "* Definição de funções dentro de funções (e closures)\n",
    "* Funções que se invocam a si mesmas (recursão)\n",
    "* Funções que aceitam outras funções como argumentos ou retornam outras funções\n",
    "* Funções que melhoram outras funções (decorators)\n",
    "\n",
    "Estamos prontos para avançar para o próximo tema: Ler e escrever em ficheiros usando o Python!"
   ]
  },
  {
   "cell_type": "markdown",
   "metadata": {},
   "source": [
    "## Questões para Revisão\n",
    "\n",
    "Tente responder às seguintes questões para testar a sua compreensão sobre os tópicos cobertos neste notebook:\n",
    "\n",
    "1. O que é uma função?\n",
    "2. Quais são as vantagens da utilização de funções?\n",
    "3. Quais são algumas das funções incorporadas em Python?\n",
    "4. Como é que pode definir uma função em Python? Dê um exemplo.\n",
    "5. O que é o corpo de uma função?\n",
    "6. Quando é que as instruções no corpo de uma função são executadas?\n",
    "7. O que significa chamar ou invocar uma função? Dê um exemplo.\n",
    "8. O que são argumentos de uma função? Qual é a sua utilidade?\n",
    "9. Como é que se armazena o resultado de uma função numa variável?\n",
    "10. Qual é o objetivo da keyword `return` em Python?\n",
    "11. É possível retornar múltiplos valores de uma função?\n",
    "12. Uma instrução `return` pode ser usada dentro de um bloco `if` ou de um ciclo `for`?\n",
    "13. A keyword `return` pode ser usada fora de uma função?\n",
    "14. O que é o âmbito numa uma região de programação? \n",
    "15. Como é que se define uma variável dentro de uma função?\n",
    "16. O que são variáveis locais e globais?\n",
    "17. É possível aceder às variáveis definidas no interior de uma função fora do seu corpo? Porquê ou porque não?\n",
    "18. O que quer dizer a afirmação \"uma função define um âmbito dentro do Python\"?\n",
    "19. Os ciclos for e while definem um âmbito, como as funções?\n",
    "20. Os blocos if-else definem um âmbito, como as funções?\n",
    "21. O que são argumentos opcionais de uma função e valores por omissão? Dê um exemplo.\n",
    "22. Porque é que os argumentos obrigatórios devem aparecer antes dos argumentos opcionais numa definição de função?\n",
    "23. Como é que se invoca uma função com argumentos nomeados? Ilustre com um exemplo.\n",
    "24. É possível dividir a invocação de uma função em várias linhas?\n",
    "25. Escreva uma função que recebe um número e o arredonda para o número inteiro mais próximo.\n",
    "26. O que são módulos em Python?\n",
    "27. O que é uma biblioteca Python?\n",
    "28. O que é a biblioteca padrão do Python?\n",
    "29. Onde pode aprender sobre os módulos e funções disponíveis na biblioteca padrão do Python?\n",
    "30. Como se instala uma biblioteca de terceiros?\n",
    "31. O que é um namespace de um módulo? Como é que pode ser útil?\n",
    "32. Que problemas encontraria se os módulos Python não fornecessem namespaces?\n",
    "33. Como é que se importa um módulo?\n",
    "34. Como é que se usa uma função de um módulo importado? Ilustre com um exemplo.\n",
    "35. É possível invocar uma função dentro do corpo de outra função? Dê um exemplo.\n",
    "36. O que é o princípio da responsabilidade única e como se aplica na escrita de funções?\n",
    "37. Quais são algumas das características de funções bem escritas?\n",
    "38. É possível utilizar instruções if ou ciclos while numa função? Ilustre com um exemplo.\n",
    "39. O que são excepções em Python? Quando é que elas ocorrem?\n",
    "40. Como é que as excepções são diferentes dos erros de sintaxe?\n",
    "41. Quais são os diferentes tipos de excepções incorporadas em Python? Onde pode aprender sobre elas?\n",
    "42. Como é que se evita que um programa termine devido a uma exceção?\n",
    "43. Qual é o propósito das instruções `try`-`except` em Python?\n",
    "44. Qual é a sintaxe das instruções `try`-`except`? Dê um exemplo.\n",
    "45. O que acontece se uma exceção ocorrer dentro de um bloco `try`?\n",
    "46. Como pode lidar com dois tipos diferentes de exceções usando `except`? É possível ter múltiplos blocos `except` sob um único bloco `try`?\n",
    "47. Como pode criar um bloco `except` para tratar qualquer tipo de exceção?\n",
    "48. Ilustre o uso de `try`-`except` dentro de uma função com um exemplo.\n",
    "49. O que é uma docstring? Por que ela é útil?\n",
    "50. Como exibir a docstring de uma função?\n",
    "51. O que são *args e **kwargs? Como é que são úteis? Dê um exemplo. *(leitura complementar)*\n",
    "52. É possível definir funções dentro de funções? *(leitura complementar)*\n",
    "53. O que é function closure em Python? Como é que é útil? Dá um exemplo. *(leitura complementar)*\n",
    "54. O que é a recursão? Ilustre com um exemplo. *(leitura complementar)*\n",
    "55. As funções podem aceitar outras funções como argumentos? Ilustre com um exemplo. *(leitura complementar)*\n",
    "56. As funções podem devolver outras funções como resultados? Ilustre com um exemplo. *(leitura complementar)*\n",
    "57. O que são decorators? Qual é a sua utilidade? *(leitura complementar)*\n",
    "58. Implemente um decorator que imprime os argumentos e o resultado de funções encapsuladas. *(leitura complementar)*\n",
    "59. Quais são alguns decorators incorporados em Python? *(leitura complementar)*\n",
    "60. Quais são algumas bibliotecas Python populares? *(leitura complementar)*"
   ]
  },
  {
   "cell_type": "markdown",
   "metadata": {},
   "source": [
    "## Solução do Exercício"
   ]
  },
  {
   "cell_type": "markdown",
   "metadata": {},
   "source": [
    "## Exercício - Análise de dados para o Planeamento de Férias\n",
    "\n",
    "Está a planear umas férias e precisa de decidir que cidade quer visitar. Fez uma pequena lista de quatro cidades e identificou o custo do voo de ida e volta, o custo diário do hotel e o custo semanal do aluguer de um automóvel. Ao alugar um carro, tem de pagar por semanas inteiras, mesmo que devolva o carro mais cedo.\n",
    "\n",
    "\n",
    "| Cidade | Voo de ida e volta (`€`) | Hotel por dia (`€`) | Aluguer semanal de carro  (`€`) | \n",
    "|--------|--------------------------|---------------------|---------------------------------|\n",
    "| Paris  |         200              |          20         |               200               |\n",
    "| London |         250              |          30         |               120               |\n",
    "| Dubai  |         370              |          15         |                80               |\n",
    "| Mumbai |         450              |          10         |                70               |         \n",
    "\n",
    "\n",
    "Responda às seguintes questões usando os dados acima:\n",
    "\n",
    "1. Se estiver a planear uma viagem de uma semana, que cidade deve visitar para gastar menos dinheiro?\n",
    "2. Como é que a resposta à pergunta anterior muda se alterar a duração da viagem para quatro dias, dez dias ou duas semanas?\n",
    "3. Se o orçamento total para a viagem for `1000€`, que cidade deve visitar para maximizar a duração da sua viagem? Que cidade deve visitar se quiser minimizar a duração da viagem?\n",
    "4. Como é que a resposta à pergunta anterior muda se o seu orçamento for `600€`, `2000€` ou `1500€`?\n",
    "\n",
    "*Dica: Para responder a estas questões, será útil definir uma função `cost_of_trip` com dados relevantes como o custo do voo, a tarifa do hotel, a taxa de aluguer do carro, e a duração da viagem. A função `math.ceil` pode ser útil para calcular o custo total do aluguer do carro.*"
   ]
  },
  {
   "cell_type": "code",
   "execution_count": 1,
   "metadata": {},
   "outputs": [],
   "source": [
    "import math"
   ]
  },
  {
   "cell_type": "code",
   "execution_count": 2,
   "metadata": {},
   "outputs": [],
   "source": [
    "Paris =[200,20,200,'Paris']\n",
    "London = [250,30,120,'London']\n",
    "Dubai = [370,15,80,'Dubai']\n",
    "Mumbai = [450,10,70,'Mumbai']\n",
    "Cities = [Paris,London,Dubai,Mumbai]"
   ]
  },
  {
   "cell_type": "code",
   "execution_count": 3,
   "metadata": {},
   "outputs": [],
   "source": [
    "def cost_of_trip(flight,hotel_cost,car_rent,num_of_days=0):\n",
    "    return flight+(hotel_cost*num_of_days)+(car_rent*math.ceil(num_of_days/7))"
   ]
  },
  {
   "cell_type": "code",
   "execution_count": 4,
   "metadata": {},
   "outputs": [],
   "source": [
    "def days_to_visit(days):\n",
    "    costs=[]\n",
    "    for city in Cities:\n",
    "        cost=cost_of_trip(city[0],city[1],city[2],days)\n",
    "        costs.append((cost,city[3]))\n",
    "    min_cost = min(costs)\n",
    "    return min_cost"
   ]
  },
  {
   "cell_type": "markdown",
   "metadata": {},
   "source": [
    "> 1. Se estiver a planear uma viagem de uma semana, que cidade deve visitar para gastar menos dinheiro?"
   ]
  },
  {
   "cell_type": "code",
   "execution_count": 5,
   "metadata": {},
   "outputs": [
    {
     "data": {
      "text/plain": [
       "(540, 'Paris')"
      ]
     },
     "execution_count": 5,
     "metadata": {},
     "output_type": "execute_result"
    }
   ],
   "source": [
    "days_to_visit(7)"
   ]
  },
  {
   "cell_type": "markdown",
   "metadata": {},
   "source": [
    "> 2. Como é que a resposta à pergunta anterior muda se alterar a duração da viagem para quatro dias, dez dias ou duas semanas?"
   ]
  },
  {
   "cell_type": "code",
   "execution_count": 6,
   "metadata": {},
   "outputs": [
    {
     "data": {
      "text/plain": [
       "(480, 'Paris')"
      ]
     },
     "execution_count": 6,
     "metadata": {},
     "output_type": "execute_result"
    }
   ],
   "source": [
    "days_to_visit(4)"
   ]
  },
  {
   "cell_type": "code",
   "execution_count": 7,
   "metadata": {},
   "outputs": [
    {
     "data": {
      "text/plain": [
       "(680, 'Dubai')"
      ]
     },
     "execution_count": 7,
     "metadata": {},
     "output_type": "execute_result"
    }
   ],
   "source": [
    "days_to_visit(10)"
   ]
  },
  {
   "cell_type": "code",
   "execution_count": null,
   "metadata": {},
   "outputs": [],
   "source": [
    "days_to_visit(14)"
   ]
  },
  {
   "cell_type": "markdown",
   "metadata": {},
   "source": [
    "> 3. Se o orçamento total para a viagem for `1000€`, que cidade deve visitar para maximizar a duração da sua viagem? Que cidade deve visitar se quiser minimizar a duração da viagem?"
   ]
  },
  {
   "cell_type": "code",
   "execution_count": 8,
   "metadata": {},
   "outputs": [],
   "source": [
    "def given_budget(budget,less_days=False):\n",
    "    days=1\n",
    "    cost=0\n",
    "    while cost<budget:\n",
    "        #copy of city cost \n",
    "        cost_before=cost\n",
    "        try:\n",
    "            #copy of costs dictionary, if exists\n",
    "            costs_before=costs.copy()\n",
    "        except:\n",
    "            #if costs dictionary doesn't exist, create an empty dictionary\n",
    "            costs_before={}\n",
    "        costs={}\n",
    "        for city in Cities:\n",
    "            cost = cost_of_trip(city[0],city[1],city[2],days)\n",
    "            costs[cost] = city[3]\n",
    "        if less_days:\n",
    "            cost=max(list(costs.keys()))\n",
    "            ''' The while loop breaks only after cost>600 condition is met.\n",
    "            when the condition is met, the costs dictionary updates to values that are greater than 600 \n",
    "            so we check if it is exceeding, if it does, we return the values from the previous dictionary cost_before. '''\n",
    "            if cost>=budget:\n",
    "                return costs_before[cost_before],days-1\n",
    "        else:   \n",
    "            cost=min(list(costs.keys()))\n",
    "            if cost>=budget:\n",
    "                return costs_before[cost_before],days-1\n",
    "        days+=1"
   ]
  },
  {
   "cell_type": "code",
   "execution_count": 9,
   "metadata": {},
   "outputs": [],
   "source": [
    "city_to_stay_maximum_days=given_budget(600)"
   ]
  },
  {
   "cell_type": "code",
   "execution_count": 10,
   "metadata": {},
   "outputs": [
    {
     "name": "stdout",
     "output_type": "stream",
     "text": [
      "('Paris', 7)\n"
     ]
    }
   ],
   "source": [
    "print(city_to_stay_maximum_days)"
   ]
  },
  {
   "cell_type": "code",
   "execution_count": 11,
   "metadata": {},
   "outputs": [],
   "source": [
    "city_to_stay_minimum_days=given_budget(600,less_days=True)"
   ]
  },
  {
   "cell_type": "code",
   "execution_count": 12,
   "metadata": {},
   "outputs": [
    {
     "name": "stdout",
     "output_type": "stream",
     "text": [
      "('Mumbai', 7)\n"
     ]
    }
   ],
   "source": [
    "print(city_to_stay_minimum_days)"
   ]
  },
  {
   "cell_type": "markdown",
   "metadata": {},
   "source": [
    "> 4. Como é que a resposta à pergunta anterior muda se o seu orçamento for `600€`, `2000€` ou `1500€`?"
   ]
  },
  {
   "cell_type": "markdown",
   "metadata": {},
   "source": [
    "- Para 1000 euros"
   ]
  },
  {
   "cell_type": "code",
   "execution_count": 14,
   "metadata": {},
   "outputs": [
    {
     "name": "stdout",
     "output_type": "stream",
     "text": [
      "('Mumbai', 26)\n"
     ]
    }
   ],
   "source": [
    "city_to_stay_maximum_days=given_budget(1000)\n",
    "print(city_to_stay_maximum_days)"
   ]
  },
  {
   "cell_type": "code",
   "execution_count": 15,
   "metadata": {},
   "outputs": [
    {
     "name": "stdout",
     "output_type": "stream",
     "text": [
      "('London', 14)\n"
     ]
    }
   ],
   "source": [
    "city_to_stay_minimum_days=given_budget(1000,less_days=True)\n",
    "print(city_to_stay_minimum_days)"
   ]
  },
  {
   "cell_type": "markdown",
   "metadata": {},
   "source": [
    "- Para 2000 euros"
   ]
  },
  {
   "cell_type": "code",
   "execution_count": 16,
   "metadata": {},
   "outputs": [
    {
     "name": "stdout",
     "output_type": "stream",
     "text": [
      "('Mumbai', 77)\n"
     ]
    }
   ],
   "source": [
    "city_to_stay_maximum_days=given_budget(2000)\n",
    "print(city_to_stay_maximum_days)"
   ]
  },
  {
   "cell_type": "code",
   "execution_count": 17,
   "metadata": {},
   "outputs": [
    {
     "name": "stdout",
     "output_type": "stream",
     "text": [
      "('London', 35)\n"
     ]
    }
   ],
   "source": [
    "city_to_stay_minimum=given_budget(2000,less_days=True)\n",
    "print(city_to_stay_minimum)"
   ]
  },
  {
   "cell_type": "markdown",
   "metadata": {},
   "source": [
    "- Para 1500 euros"
   ]
  },
  {
   "cell_type": "code",
   "execution_count": 18,
   "metadata": {},
   "outputs": [
    {
     "name": "stdout",
     "output_type": "stream",
     "text": [
      "('Mumbai', 49)\n"
     ]
    }
   ],
   "source": [
    "city_to_stay_maximum_days=given_budget(1500)\n",
    "print(city_to_stay_maximum_days)"
   ]
  },
  {
   "cell_type": "code",
   "execution_count": 19,
   "metadata": {},
   "outputs": [
    {
     "name": "stdout",
     "output_type": "stream",
     "text": [
      "('Paris', 24)\n"
     ]
    }
   ],
   "source": [
    "city_to_stay_minimum_days=given_budget(1500,less_days=True)\n",
    "print(city_to_stay_minimum_days)"
   ]
  },
  {
   "cell_type": "markdown",
   "metadata": {},
   "source": [
    "## Referências\n",
    "\n",
    "Este notebook é uma adaptação traduzida do curso *<u>Data Analysis with Python: Zero to Pandas</u>* de AaKash N S / [Jovian.ai](https://jovian.ai)\n",
    "\n",
    "Outras referências:\n",
    "* McKinney, W., Python for Data Analysis, 3rd. Ed. O'Reilly. Versão online em https://wesmckinney.com/book/ \n",
    "* Documentação oficial do Python: https://docs.python.org/3/tutorial/index.html\n",
    "* Tutorial Python do W3Schools: https://www.w3schools.com/python/\n",
    "* Practical Python Programming: https://dabeaz-course.github.io/practical-python/Notes/Contents.html\n",
    "* Jupyter Notebooks: https://docs.jupyter.org\n",
    "* Markdown Reference: https://www.markdownguide.org\n"
   ]
  }
 ],
 "metadata": {
  "kernelspec": {
   "display_name": "Python 3",
   "language": "python",
   "name": "python3"
  },
  "language_info": {
   "codemirror_mode": {
    "name": "ipython",
    "version": 3
   },
   "file_extension": ".py",
   "mimetype": "text/x-python",
   "name": "python",
   "nbconvert_exporter": "python",
   "pygments_lexer": "ipython3",
   "version": "3.10.13"
  }
 },
 "nbformat": 4,
 "nbformat_minor": 4
}
