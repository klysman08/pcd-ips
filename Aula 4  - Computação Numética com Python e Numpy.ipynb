{
 "cells": [
  {
   "cell_type": "markdown",
   "metadata": {},
   "source": [
    "# Computação Numérica com Python e Numpy\n",
    "\n",
    "![](https://raw.githubusercontent.com/davsimoes/mcde-pds/main/img/numpy.png)"
   ]
  },
  {
   "cell_type": "markdown",
   "metadata": {},
   "source": [
    "Esta aula cobre os seguintes tópicos:\n",
    "\n",
    "- Trabalhar com dados numéricos em Python\n",
    "- Passar de listas Python para arrays Numpy\n",
    "- Arrays multidimensionais do Numpy e os seus benefícios\n",
    "- Operações sobre arrays, broadcasting, indexing, e slicing\n",
    "- Trabalhar com ficheiros de dados CSV usando o Numpy"
   ]
  },
  {
   "cell_type": "markdown",
   "metadata": {},
   "source": [
    "### Como executar o código\n",
    "\n",
    "Esta aula é um [Jupyter notebook](https://jupyter.org) executável. Pode _correr_ esta aula e experimentar os exemplos de código de diferentes formas: *localmente no seu computador*, ou *utilizando um serviço online gratuito*.\n",
    "\n",
    "#### Opção 1: Correr localmente no seu computador\n",
    "\n",
    "Para correr localmente o código no seu computador, faça download do notebook e abra o ficheiro com uma aplicação ou ambiente de desenvolvimento suportado, por exemplo:\n",
    "* Visual Studio Code: https://code.visualstudio.com/download\n",
    "* Anaconda: https://www.anaconda.com/download\n",
    "* Miniconda: https://docs.conda.io/projects/miniconda/en/latest/\n",
    "\n",
    "Em qualquer das opções, as aplicações terão de suportar (nativamente ou através de extensões) o [Python](https://www.python.org) e os [Jupyter notebooks](https://jupyter.org), de forma a disponibilizar um ambiente de visualização e execução local com um kernel que execute o código Python contido no notebook.\n",
    "\n",
    "#### Opção 2: Correr num serviço online gratuito\n",
    "\n",
    "Para executar o notebook online, faça upload do notebook para o serviço da sua preferência, por exemplo:\n",
    "* Google Colab: https://colab.google/\n",
    "* Binder (com repositório GitHub): https://mybinder.org/\n",
    "* Kaggle: https://www.kaggle.com/\n",
    "\n",
    "\n",
    ">  **Jupyter Notebooks**: Esta aula é um [Jupyter notebook](https://jupyter.org) - um documento feito de _células_. Cada célula pode conter código escrito em Python ou explicações em português. Pode executar células de código e visualizar os resultados, e.g., números, mensagens, gráficos, tabelas, ficheiros, etc., instantaneamente no notebook. O Jupyter é uma plataforma poderosa para experimentação e análise. Não tenha medo de mexer no código ou estragar alguma coisa - aprenderá muito ao encontrar e corrigir erros. Pode utilizar a opção de menu \"Kernel > Restart & Clear Output\" (Kernel > Reiniciar e Limpar Saída) para limpar todas as saídas e recomeçar do início."
   ]
  },
  {
   "cell_type": "markdown",
   "metadata": {},
   "source": [
    "## Trabalhar com dados numéricos\n",
    "\n",
    "O termo \"dados\" em *Análise de Dados* refere-se tipicamente a dados numéricos, e.g., cotações de ações, valores de vendas, medições de sensores, resultados desportivos, tabelas de bases de dados, etc. A biblioteca [Numpy](https://numpy.org) fornece estruturas de dados especializadas, funções e outras ferramentas para computação numérica em Python. Vamos trabalhar com um exemplo para ver como utilizar o Numpy para trabalhar com dados numéricos.\n",
    "\n",
    "> Vamos supor que queremos usar dados climáticos como a temperatura, precipitação e humidade para determinar se uma região é adequada para o cultivo de maçãs. Uma abordagem simples para o fazer seria formular a relação entre a produção anual das maçãs (toneladas por hectare) e as condições climáticas, como a temperatura média (em graus Fahrenheit), a precipitação (em milímetros) e a humidade relativa média (em percentagem), como uma equação linear.\n",
    ">\n",
    "> `yield_of_apples = w1 * temperature + w2 * rainfall + w3 * humidity`\n",
    "\n",
    "Estamos a expressar o rendimento da produção de maçãs como uma soma ponderada da temperatura, precipitação e humidade. Esta equação é uma aproximação, uma vez que a relação real pode não ser necessariamente linear e pode haver outros factores envolvidos. Mas um modelo linear simples como este funciona frequentemente bem na prática.\n",
    "\n",
    "Com base numa análise estatística de dados históricos, podemos chegar a valores razoáveis para os pesos `w1`, `w2` e `w3`. Aqui está um exemplo de conjunto de valores:"
   ]
  },
  {
   "cell_type": "code",
   "execution_count": null,
   "metadata": {},
   "outputs": [],
   "source": [
    "w1, w2, w3 = 0.3, 0.2, 0.5"
   ]
  },
  {
   "cell_type": "markdown",
   "metadata": {},
   "source": [
    "Dados alguns dados climáticos de uma região, podemos agora prever a produção de maçãs. Aqui estão alguns dados de exemplo:\n",
    "\n",
    "<img src=\"https://raw.githubusercontent.com/davsimoes/mcde-pds/main/img/climate_data.png\" style=\"width:360px;\">\n",
    "\n",
    "Para começar, podemos definir algumas variáveis para registar os dados climáticos de uma região."
   ]
  },
  {
   "cell_type": "code",
   "execution_count": null,
   "metadata": {},
   "outputs": [],
   "source": [
    "kanto_temp = 73\n",
    "kanto_rainfall = 67\n",
    "kanto_humidity = 43"
   ]
  },
  {
   "cell_type": "markdown",
   "metadata": {},
   "source": [
    "Podemos agora substituir estas variáveis na equação linear para prever a produção de maçãs."
   ]
  },
  {
   "cell_type": "code",
   "execution_count": null,
   "metadata": {},
   "outputs": [],
   "source": [
    "kanto_yield_apples = kanto_temp * w1 + kanto_rainfall * w2 + kanto_humidity * w3\n",
    "kanto_yield_apples"
   ]
  },
  {
   "cell_type": "code",
   "execution_count": null,
   "metadata": {},
   "outputs": [],
   "source": [
    "print(\"A produção esperada de maçãs na região de Kanto é de {} toneladas por hectare.\".format(kanto_yield_apples))"
   ]
  },
  {
   "cell_type": "markdown",
   "metadata": {},
   "source": [
    "Para facilitar um pouco o cálculo acima para várias regiões, podemos representar os dados climáticos de cada região como um vetor, ou seja, uma lista de números."
   ]
  },
  {
   "cell_type": "code",
   "execution_count": 1,
   "metadata": {},
   "outputs": [],
   "source": [
    "kanto = [73, 67, 43]\n",
    "johto = [91, 88, 64]\n",
    "hoenn = [87, 134, 58]\n",
    "sinnoh = [102, 43, 37]\n",
    "unova = [69, 96, 70]"
   ]
  },
  {
   "cell_type": "markdown",
   "metadata": {},
   "source": [
    "Os três números em cada vetor representam os dados de temperatura, precipitação e humidade, respetivamente.\n",
    "\n",
    "Também podemos representar o conjunto dos pesos usados na fórmula como um vetor."
   ]
  },
  {
   "cell_type": "code",
   "execution_count": 2,
   "metadata": {},
   "outputs": [
    {
     "ename": "NameError",
     "evalue": "name 'w1' is not defined",
     "output_type": "error",
     "traceback": [
      "\u001b[1;31m---------------------------------------------------------------------------\u001b[0m",
      "\u001b[1;31mNameError\u001b[0m                                 Traceback (most recent call last)",
      "Cell \u001b[1;32mIn[2], line 1\u001b[0m\n\u001b[1;32m----> 1\u001b[0m weights \u001b[38;5;241m=\u001b[39m [\u001b[43mw1\u001b[49m, w2, w3]\n",
      "\u001b[1;31mNameError\u001b[0m: name 'w1' is not defined"
     ]
    }
   ],
   "source": [
    "weights = [w1, w2, w3]"
   ]
  },
  {
   "cell_type": "markdown",
   "metadata": {},
   "source": [
    "Podemos agora escrever uma função `crop_yield` para calcular a produção de macãs (or qualquer outro cultivo) dados os dados climáticos e respetivos pesos."
   ]
  },
  {
   "cell_type": "code",
   "execution_count": null,
   "metadata": {},
   "outputs": [],
   "source": [
    "def crop_yield(region, weights):\n",
    "    result = 0\n",
    "    for x, w in zip(region, weights):\n",
    "        result += x * w\n",
    "    return result"
   ]
  },
  {
   "cell_type": "code",
   "execution_count": null,
   "metadata": {},
   "outputs": [],
   "source": [
    "crop_yield(kanto, weights)"
   ]
  },
  {
   "cell_type": "code",
   "execution_count": null,
   "metadata": {},
   "outputs": [],
   "source": [
    "crop_yield(johto, weights)"
   ]
  },
  {
   "cell_type": "code",
   "execution_count": null,
   "metadata": {},
   "outputs": [],
   "source": [
    "crop_yield(unova, weights)"
   ]
  },
  {
   "cell_type": "markdown",
   "metadata": {},
   "source": [
    "## Passar das listas Python para os arrays Numpy\n",
    "\n",
    "\n",
    "O cálculo efetuado pela função `crop_yield` (multiplicar dois vetores elemento a elemento e tomar a soma dos resultados) é designado por *produto escalar (dot product)*. Pode aprender mais sobre o produto escalar aqui: https://www.khanacademy.org/math/linear-algebra/vectors-and-spaces/dot-cross-products/v/vector-dot-product-and-vector-length . \n",
    "\n",
    "A biblioteca Numpy tem uma função incorporada para calcular o produto escalar de dois vectores. No entanto, primeiro temos de converter as listas em arrays Numpy.\n",
    "\n",
    "Vamos instalar a biblioteca Numpy usando o gestor de pacotes `pip`."
   ]
  },
  {
   "cell_type": "code",
   "execution_count": null,
   "metadata": {},
   "outputs": [],
   "source": [
    "%pip install numpy --upgrade --quiet"
   ]
  },
  {
   "cell_type": "markdown",
   "metadata": {},
   "source": [
    "De seguida, vamos importar o módulo `numpy`. É prática comum importar o numpy com o alias `np`."
   ]
  },
  {
   "cell_type": "code",
   "execution_count": null,
   "metadata": {},
   "outputs": [],
   "source": [
    "import numpy as np"
   ]
  },
  {
   "cell_type": "markdown",
   "metadata": {},
   "source": [
    "Podemos agora usar a função `np.array` para criar arrays Numpy."
   ]
  },
  {
   "cell_type": "code",
   "execution_count": null,
   "metadata": {},
   "outputs": [],
   "source": [
    "kanto = np.array([73, 67, 43])"
   ]
  },
  {
   "cell_type": "code",
   "execution_count": null,
   "metadata": {},
   "outputs": [],
   "source": [
    "kanto"
   ]
  },
  {
   "cell_type": "code",
   "execution_count": null,
   "metadata": {},
   "outputs": [],
   "source": [
    "weights = np.array([w1, w2, w3])"
   ]
  },
  {
   "cell_type": "code",
   "execution_count": null,
   "metadata": {},
   "outputs": [],
   "source": [
    "weights"
   ]
  },
  {
   "cell_type": "markdown",
   "metadata": {},
   "source": [
    "Os arrays Numpy têm o tipo `ndarray`."
   ]
  },
  {
   "cell_type": "code",
   "execution_count": null,
   "metadata": {},
   "outputs": [],
   "source": [
    "type(kanto)"
   ]
  },
  {
   "cell_type": "code",
   "execution_count": null,
   "metadata": {},
   "outputs": [],
   "source": [
    "type(weights)"
   ]
  },
  {
   "cell_type": "markdown",
   "metadata": {},
   "source": [
    "Tal como as listas, os arrays Numpy suportam a notação de indexação `[]`."
   ]
  },
  {
   "cell_type": "code",
   "execution_count": null,
   "metadata": {},
   "outputs": [],
   "source": [
    "weights[0]"
   ]
  },
  {
   "cell_type": "code",
   "execution_count": null,
   "metadata": {},
   "outputs": [],
   "source": [
    "kanto[2]"
   ]
  },
  {
   "cell_type": "markdown",
   "metadata": {},
   "source": [
    "## Trabalhar com arrays Numpy\n",
    "\n",
    "Podemos agora calcular o produto escalar dos dois vectores usando a função `np.dot`."
   ]
  },
  {
   "cell_type": "code",
   "execution_count": null,
   "metadata": {},
   "outputs": [],
   "source": [
    "np.dot(kanto, weights)"
   ]
  },
  {
   "cell_type": "markdown",
   "metadata": {},
   "source": [
    "Podemos obter o mesmo resultado com operações de baixo nível suportadas pelas matrizes Numpy: efetuar uma multiplicação por elementos e calcular a soma dos números resultantes."
   ]
  },
  {
   "cell_type": "code",
   "execution_count": null,
   "metadata": {},
   "outputs": [],
   "source": [
    "(kanto * weights).sum()"
   ]
  },
  {
   "cell_type": "markdown",
   "metadata": {},
   "source": [
    "O operador `*` efetua uma multiplicação de dois arrays elemento a elemento desde que os arrays tenham o mesmo tamanho. O método `sum` calcula a soma dos números num array."
   ]
  },
  {
   "cell_type": "code",
   "execution_count": null,
   "metadata": {},
   "outputs": [],
   "source": [
    "arr1 = np.array([1, 2, 3])\n",
    "arr2 = np.array([4, 5, 6])"
   ]
  },
  {
   "cell_type": "code",
   "execution_count": null,
   "metadata": {},
   "outputs": [],
   "source": [
    "arr1 * arr2"
   ]
  },
  {
   "cell_type": "code",
   "execution_count": null,
   "metadata": {},
   "outputs": [],
   "source": [
    "arr2.sum()"
   ]
  },
  {
   "cell_type": "markdown",
   "metadata": {},
   "source": [
    "## Benefícios de usar arrays Numpy\n",
    "\n",
    "Os arrays Numpy oferecem os seguintes benefícios sobre as listas Python em operações sobre dados numéricos:\n",
    "\n",
    "- **Facilidade de uso**: É possível escrever expressões matemáticas pequenas, concisas e intuitivas como `(kanto * weights).sum()` em vez de usar ciclos e funções personalizadas como `crop_yield`.\n",
    "- **Desempenho**: As operações e funções do Numpy são implementadas internamente em C++, o que as torna muito mais rápidas do que usar instruções e ciclos Python que são interpretados em tempo de execução\n",
    "\n",
    "Aqui está uma comparação de produtos escalares realizados usando ciclos Python vs. arrays Numpy em dois vetores com um milhão de elementos cada."
   ]
  },
  {
   "cell_type": "code",
   "execution_count": null,
   "metadata": {},
   "outputs": [],
   "source": [
    "# Listas Python\n",
    "arr1 = list(range(1000000))\n",
    "arr2 = list(range(1000000, 2000000))\n",
    "\n",
    "# Arrays Numpy\n",
    "arr1_np = np.array(arr1)\n",
    "arr2_np = np.array(arr2)"
   ]
  },
  {
   "cell_type": "code",
   "execution_count": null,
   "metadata": {},
   "outputs": [],
   "source": [
    "%%time\n",
    "result = 0\n",
    "for x1, x2 in zip(arr1, arr2):\n",
    "    result += x1*x2\n",
    "result"
   ]
  },
  {
   "cell_type": "code",
   "execution_count": null,
   "metadata": {},
   "outputs": [],
   "source": [
    "%%time\n",
    "np.dot(arr1_np, arr2_np)"
   ]
  },
  {
   "cell_type": "markdown",
   "metadata": {},
   "source": [
    "Como se pode ver, usar o `np.dot` é 100 vezes mais rápido do que usar um ciclo `for`. Isto torna o Numpy especialmente útil para trabalhar com datasets muito grandes, com dezenas de milhares ou milhões de valores."
   ]
  },
  {
   "cell_type": "markdown",
   "metadata": {},
   "source": [
    "## Arrays Numpy multidimensionais\n",
    "\n",
    "Podemos agora avançar mais um passo e representar os dados climáticos para todas as regiões usando um único array Numpy de 2 dimensões."
   ]
  },
  {
   "cell_type": "code",
   "execution_count": null,
   "metadata": {},
   "outputs": [],
   "source": [
    "climate_data = np.array([[73, 67, 43],\n",
    "                         [91, 88, 64],\n",
    "                         [87, 134, 58],\n",
    "                         [102, 43, 37],\n",
    "                         [69, 96, 70]])"
   ]
  },
  {
   "cell_type": "code",
   "execution_count": null,
   "metadata": {},
   "outputs": [],
   "source": [
    "climate_data"
   ]
  },
  {
   "cell_type": "markdown",
   "metadata": {},
   "source": [
    "Se já estudou álgebra linear, poderá reconhecer a matriz bidimensional acima como uma matriz com cinco linhas e três colunas. Cada linha representa uma região e as colunas representam a temperatura, a precipitação e a humidade, respetivamente.\n",
    "\n",
    "Os arrays Numpy podem ter qualquer número de dimensões e comprimentos diferentes ao longo de cada dimensão. Podemos inspecionar o comprimento ao longo de cada dimensão usando a propriedade `.shape` de um array.\n",
    "\n",
    "<img src=\"https://raw.githubusercontent.com/davsimoes/mcde-pds/main/img/numpy_array_t.png\" width=\"420\">"
   ]
  },
  {
   "cell_type": "code",
   "execution_count": null,
   "metadata": {},
   "outputs": [],
   "source": [
    "# Array 2D (matriz)\n",
    "climate_data.shape"
   ]
  },
  {
   "cell_type": "code",
   "execution_count": null,
   "metadata": {},
   "outputs": [],
   "source": [
    "weights"
   ]
  },
  {
   "cell_type": "code",
   "execution_count": null,
   "metadata": {},
   "outputs": [],
   "source": [
    "# Array 1D (vetor)\n",
    "weights.shape"
   ]
  },
  {
   "cell_type": "code",
   "execution_count": null,
   "metadata": {},
   "outputs": [],
   "source": [
    "# Array 3D \n",
    "arr3 = np.array([\n",
    "    [[11, 12, 13], \n",
    "     [13, 14, 15]], \n",
    "    [[15, 16, 17], \n",
    "     [17, 18, 19.5]]])"
   ]
  },
  {
   "cell_type": "code",
   "execution_count": null,
   "metadata": {},
   "outputs": [],
   "source": [
    "arr3.shape"
   ]
  },
  {
   "cell_type": "markdown",
   "metadata": {},
   "source": [
    "Todos os elementos num array numpy têm o mesmo tipo de dados. Podemos verificar o tipo de dados de um array usando a propriedade `.dtype`."
   ]
  },
  {
   "cell_type": "code",
   "execution_count": null,
   "metadata": {},
   "outputs": [],
   "source": [
    "weights.dtype"
   ]
  },
  {
   "cell_type": "code",
   "execution_count": null,
   "metadata": {},
   "outputs": [],
   "source": [
    "climate_data.dtype"
   ]
  },
  {
   "cell_type": "markdown",
   "metadata": {},
   "source": [
    "\n",
    "Se um array contiver ainda que só um número decimal, todos os outros elementos são também convertidos para floats."
   ]
  },
  {
   "cell_type": "code",
   "execution_count": null,
   "metadata": {},
   "outputs": [],
   "source": [
    "arr3.dtype"
   ]
  },
  {
   "cell_type": "markdown",
   "metadata": {},
   "source": [
    "Podemos agora calcular a produção prevista de maçãs em todas as regiões utilizando uma única multiplicação matricial entre `climate_data` (uma matriz 5x3) e `weights` (um vetor de comprimento 3). Aqui está o que vamos fazer, visualmente:\n",
    "\n",
    "<img src=\"https://raw.githubusercontent.com/davsimoes/mcde-pds/main/img/matrix_multiplication.png\" width=\"240\">\n",
    "\n",
    "Pode aprender mais sobre matrizes e multiplicação de matrizes nos primeiros 2-3 vídeos desta playlist: https://www.youtube.com/watch?v=xyAuNHPsq-g&list=PLFD0EB975BA0CC1E0&index=1 .\n",
    "\n",
    "Podemos utilizar a função `np.matmul` ou o operador `@` para efetuar a multiplicação de matrizes."
   ]
  },
  {
   "cell_type": "code",
   "execution_count": null,
   "metadata": {},
   "outputs": [],
   "source": [
    "np.matmul(climate_data, weights)"
   ]
  },
  {
   "cell_type": "code",
   "execution_count": null,
   "metadata": {},
   "outputs": [],
   "source": [
    "climate_data @ weights"
   ]
  },
  {
   "cell_type": "markdown",
   "metadata": {},
   "source": [
    "## Trabalhar com ficheiros de dados CSV\n",
    "\n",
    "O Numpy também fornece funções auxiliares para ler e escrever em ficheiros. Vamos descarregar um ficheiro `climate.txt`, que contém 10.000 medições climáticas (temperatura, precipitação e humidade) no seguinte formato:\n",
    "\n",
    "\n",
    "```\n",
    "temperature,rainfall,humidity\n",
    "25.00,76.00,99.00\n",
    "39.00,65.00,70.00\n",
    "59.00,45.00,77.00\n",
    "84.00,63.00,38.00\n",
    "66.00,50.00,52.00\n",
    "41.00,94.00,77.00\n",
    "91.00,57.00,96.00\n",
    "49.00,96.00,99.00\n",
    "67.00,20.00,28.00\n",
    "...\n",
    "```\n",
    "\n",
    "Este formato de armazenamento de dados é conhecido como *comma-separated values* ou CSV. \n",
    "\n",
    "> **CSVs**: Um ficheiro de valores separados por vírgula (CSV) é um ficheiro de texto delimitado que utiliza uma vírgula para separar os valores. Cada linha do ficheiro é um registo de dados. Cada registo é composto por um ou mais campos, separados por vírgulas. Normalmente, um ficheiro CSV armazena dados tabulares (números e texto), caso em que cada linha terá o mesmo número de campos. (Wikipedia)\n",
    "\n",
    "\n",
    "Para ler este ficheiro para uma matriz numpy, podemos utilizar a função `genfromtxt`."
   ]
  },
  {
   "cell_type": "code",
   "execution_count": null,
   "metadata": {},
   "outputs": [],
   "source": [
    "import urllib.request\n",
    "\n",
    "urllib.request.urlretrieve(\n",
    "    'https://raw.githubusercontent.com/davsimoes/mcde-pds/main/res/climate.csv', \n",
    "    'climate.txt')"
   ]
  },
  {
   "cell_type": "code",
   "execution_count": null,
   "metadata": {},
   "outputs": [],
   "source": [
    "climate_data = np.genfromtxt('climate.txt', delimiter=',', skip_header=1)"
   ]
  },
  {
   "cell_type": "code",
   "execution_count": null,
   "metadata": {},
   "outputs": [],
   "source": [
    "climate_data"
   ]
  },
  {
   "cell_type": "code",
   "execution_count": null,
   "metadata": {},
   "outputs": [],
   "source": [
    "climate_data.shape"
   ]
  },
  {
   "cell_type": "markdown",
   "metadata": {},
   "source": [
    "Podemos agora realizar uma multiplicação de matrizes com o operador `@` para prever a produção de maçãs para todo o dataset, dado um conjunto de pesos."
   ]
  },
  {
   "cell_type": "code",
   "execution_count": null,
   "metadata": {},
   "outputs": [],
   "source": [
    "weights = np.array([0.3, 0.2, 0.5])"
   ]
  },
  {
   "cell_type": "code",
   "execution_count": null,
   "metadata": {},
   "outputs": [],
   "source": [
    "yields = climate_data @ weights"
   ]
  },
  {
   "cell_type": "code",
   "execution_count": null,
   "metadata": {},
   "outputs": [],
   "source": [
    "yields"
   ]
  },
  {
   "cell_type": "code",
   "execution_count": null,
   "metadata": {},
   "outputs": [],
   "source": [
    "yields.shape"
   ]
  },
  {
   "cell_type": "markdown",
   "metadata": {},
   "source": [
    "Vamos adicionar o `yields` ao `climate_data` como uma quarta coluna usando a função [`np.concatenate`](https://numpy.org/doc/stable/reference/generated/numpy.concatenate.html)."
   ]
  },
  {
   "cell_type": "code",
   "execution_count": null,
   "metadata": {},
   "outputs": [],
   "source": [
    "climate_results = np.concatenate((climate_data, yields.reshape(10000, 1)), axis=1)"
   ]
  },
  {
   "cell_type": "code",
   "execution_count": null,
   "metadata": {},
   "outputs": [],
   "source": [
    "climate_results"
   ]
  },
  {
   "cell_type": "markdown",
   "metadata": {},
   "source": [
    "Alguns pormenores:\n",
    "\n",
    "* Como desejamos adicionar uma nova coluna ao array `climate_results`, passamos o argumento `axis=1` ao `np.concatenate`. O argumento `axis` especifica a dimensão onde fazer a concatenação.\n",
    "\n",
    "* Os arrays devem ter o mesmo número de dimensões, e o mesmo comprimento em cada uma delas, exceto na dimensão utilizada para a concatenação. Utilizamos a função [`np.reshape`](https://numpy.org/doc/stable/reference/generated/numpy.reshape.html) para mudar a forma de `yields` de `(10000,)` para `(10000,1)` (vetor de coluna).\n",
    "\n",
    "Aqui está uma explicação visual de `np.concatenate` ao longo de `axis=1` (consegue adivinhar como ficava com `axis=0`?):\n",
    "\n",
    "<img src=\"https://raw.githubusercontent.com/davsimoes/mcde-pds/main/img/python-numpy-image-exercise-58.png\" width=\"300\">\n",
    "\n",
    "A melhor maneira de perceber o que é que uma função Numpy faz é experimentá-la e ler a documentação para saber os seus argumentos e valores de retorno. Use as células abaixo para experimentar o `np.concatenate` e `np.reshape`."
   ]
  },
  {
   "cell_type": "code",
   "execution_count": null,
   "metadata": {},
   "outputs": [],
   "source": []
  },
  {
   "cell_type": "code",
   "execution_count": null,
   "metadata": {},
   "outputs": [],
   "source": []
  },
  {
   "cell_type": "code",
   "execution_count": null,
   "metadata": {},
   "outputs": [],
   "source": []
  },
  {
   "cell_type": "markdown",
   "metadata": {},
   "source": [
    "Vamos pegar nos resultados finais da nossa computação acima e escrevê-los de volta para um ficheiro usando a função `np.savetxt`."
   ]
  },
  {
   "cell_type": "code",
   "execution_count": null,
   "metadata": {},
   "outputs": [],
   "source": [
    "climate_results"
   ]
  },
  {
   "cell_type": "code",
   "execution_count": null,
   "metadata": {},
   "outputs": [],
   "source": [
    "np.savetxt('climate_results.txt', \n",
    "           climate_results, \n",
    "           fmt='%.2f', \n",
    "           delimiter=',',\n",
    "           header='temperature,rainfall,humidity,yield_apples', \n",
    "           comments='')"
   ]
  },
  {
   "cell_type": "markdown",
   "metadata": {},
   "source": [
    "Os resultados são escritos de volta para o formato CSV no ficheiro `climate_results.txt`. \n",
    "\n",
    "```\n",
    "temperature,rainfall,humidity,yield_apples\n",
    "25.00,76.00,99.00,72.20\n",
    "39.00,65.00,70.00,59.70\n",
    "59.00,45.00,77.00,65.20\n",
    "84.00,63.00,38.00,56.80\n",
    "...\n",
    "```\n",
    "\n"
   ]
  },
  {
   "cell_type": "markdown",
   "metadata": {},
   "source": [
    "O Numpy oferece centenas de funções para realizar operações sobre arrays. Aqui ficam algumas das funções mais utilizadas:\n",
    "\n",
    "* Matemática: `np.sum`, `np.exp`, `np.round`, operadores aritméticos \n",
    "* Manipulação de arrays: `np.reshape`, `np.stack`, `np.concatenate`, `np.split`\n",
    "* Álgebra Linear: `np.matmul`, `np.dot`, `np.transpose`, `np.eigvals`\n",
    "* Estatística: `np.mean`, `np.median`, `np.std`, `np.max`\n",
    "\n",
    "> **Como encontrar a função que precisamos?** A forma mais fácil de encontrar a função certa para um dado caso de uso ou operação específica é fazer uma pesquisa na web. Por exemplo, procurar \"How to join numpy arrays\" leva a [este tutorial sobre concatenação de arrays](https://cmdlinetips.com/2018/04/how-to-concatenate-arrays-in-numpy/). \n",
    "\n",
    "Pode encontrar uma lista completa de funções de arrays aqui: https://numpy.org/doc/stable/reference/routines.html"
   ]
  },
  {
   "cell_type": "markdown",
   "metadata": {},
   "source": [
    "## Operações aritméticas, broadcasting e comparação\n",
    "\n",
    "Os arrays Numpy suportam operadores aritméticos como `+`, `-`, `*`, etc. Podemos realizar uma operação aritmética com um único número (também designado *escalar*) ou com outro array com as mesmas dimensões. Os operadores facilitam a escrita de expressões matemáticas com arrays multidimensionais."
   ]
  },
  {
   "cell_type": "code",
   "execution_count": null,
   "metadata": {},
   "outputs": [],
   "source": [
    "arr2 = np.array([[1, 2, 3, 4], \n",
    "                 [5, 6, 7, 8], \n",
    "                 [9, 1, 2, 3]])"
   ]
  },
  {
   "cell_type": "code",
   "execution_count": null,
   "metadata": {},
   "outputs": [],
   "source": [
    "arr3 = np.array([[11, 12, 13, 14], \n",
    "                 [15, 16, 17, 18], \n",
    "                 [19, 11, 12, 13]])"
   ]
  },
  {
   "cell_type": "code",
   "execution_count": null,
   "metadata": {},
   "outputs": [],
   "source": [
    "# Adicionar um escalar\n",
    "arr2 + 3"
   ]
  },
  {
   "cell_type": "code",
   "execution_count": null,
   "metadata": {},
   "outputs": [],
   "source": [
    "# Subtração elemento a elemento\n",
    "arr3 - arr2"
   ]
  },
  {
   "cell_type": "code",
   "execution_count": null,
   "metadata": {},
   "outputs": [],
   "source": [
    "# Divisão por escalar\n",
    "arr2 / 2"
   ]
  },
  {
   "cell_type": "code",
   "execution_count": null,
   "metadata": {},
   "outputs": [],
   "source": [
    "# Multiplicação elemento a elemento\n",
    "arr2 * arr3"
   ]
  },
  {
   "cell_type": "code",
   "execution_count": null,
   "metadata": {},
   "outputs": [],
   "source": [
    "# Resto da divisão por escalar\n",
    "arr2 % 4"
   ]
  },
  {
   "cell_type": "markdown",
   "metadata": {},
   "source": [
    "### Broadcasting de arrays\n",
    "\n",
    "Os arrays Numpy também suportam *broadcasting*, permitindo operações aritméticas entre dois arrays com diferentes dimensões mas formas compatíveis. Vamos ver como funciona com um exemplo."
   ]
  },
  {
   "cell_type": "code",
   "execution_count": null,
   "metadata": {},
   "outputs": [],
   "source": [
    "arr2 = np.array([[1, 2, 3, 4], \n",
    "                 [5, 6, 7, 8], \n",
    "                 [9, 1, 2, 3]])"
   ]
  },
  {
   "cell_type": "code",
   "execution_count": null,
   "metadata": {},
   "outputs": [],
   "source": [
    "arr2.shape"
   ]
  },
  {
   "cell_type": "code",
   "execution_count": null,
   "metadata": {},
   "outputs": [],
   "source": [
    "arr4 = np.array([4, 5, 6, 7])"
   ]
  },
  {
   "cell_type": "code",
   "execution_count": null,
   "metadata": {},
   "outputs": [],
   "source": [
    "arr4.shape"
   ]
  },
  {
   "cell_type": "code",
   "execution_count": null,
   "metadata": {},
   "outputs": [],
   "source": [
    "arr2 + arr4"
   ]
  },
  {
   "cell_type": "markdown",
   "metadata": {},
   "source": [
    "Quando a expressão `arr2 + arr4` é avaliada, o `arr4` (que tem a forma `(4,)`) é replicado três vezes para corresponder à forma `(3, 4)` do `arr2`. O Numpy executa a replicação sem criar mesmo três cópias do array mais pequeno, melhorando a performance e usando menos memória.\n",
    "\n",
    "<img src=\"https://raw.githubusercontent.com/davsimoes/mcde-pds/main/img/02.05-broadcasting.png\" width=\"360\">\n",
    "\n",
    "O broadcasting só funciona se um dos arrays puder ser replicado para coincidir com a forma do outro array."
   ]
  },
  {
   "cell_type": "code",
   "execution_count": null,
   "metadata": {},
   "outputs": [],
   "source": [
    "arr5 = np.array([7, 8])"
   ]
  },
  {
   "cell_type": "code",
   "execution_count": null,
   "metadata": {},
   "outputs": [],
   "source": [
    "arr5.shape"
   ]
  },
  {
   "cell_type": "code",
   "execution_count": null,
   "metadata": {},
   "outputs": [],
   "source": [
    "arr2 + arr5"
   ]
  },
  {
   "cell_type": "markdown",
   "metadata": {},
   "source": [
    "No exemplo acima, mesmo se replicarmos `arr5` três vezes, a sua forma não vai coincidir com a forma do `arr2`. Assim, `arr2 + arr5` não pode ser avaliado com sucesso.\n",
    "\n",
    "Pode aprender mais sobre broadcasting aqui: https://numpy.org/doc/stable/user/basics.broadcasting.html ."
   ]
  },
  {
   "cell_type": "markdown",
   "metadata": {},
   "source": [
    "### Comparação de arrays\n",
    "\n",
    "Os arrays Numpy também suportam operadores de comparação como `==`, `!=`, `>` etc. O resultado é um array de booleanos."
   ]
  },
  {
   "cell_type": "code",
   "execution_count": null,
   "metadata": {},
   "outputs": [],
   "source": [
    "arr1 = np.array([[1, 2, 3], [3, 4, 5]])\n",
    "arr2 = np.array([[2, 2, 3], [1, 2, 5]])"
   ]
  },
  {
   "cell_type": "code",
   "execution_count": null,
   "metadata": {},
   "outputs": [],
   "source": [
    "arr1 == arr2"
   ]
  },
  {
   "cell_type": "code",
   "execution_count": null,
   "metadata": {},
   "outputs": [],
   "source": [
    "arr1 != arr2"
   ]
  },
  {
   "cell_type": "code",
   "execution_count": null,
   "metadata": {},
   "outputs": [],
   "source": [
    "arr1 >= arr2"
   ]
  },
  {
   "cell_type": "code",
   "execution_count": null,
   "metadata": {},
   "outputs": [],
   "source": [
    "arr1 < arr2"
   ]
  },
  {
   "cell_type": "markdown",
   "metadata": {},
   "source": [
    "A comparação de arrays frequentemente utilizada para contar o número de elementos iguais em dois arrays usando o método `sum`. Lembre-se que `True` avalia para `1` e `False` avalia para `0` quando usamos booleanos em operações aritméticas."
   ]
  },
  {
   "cell_type": "code",
   "execution_count": null,
   "metadata": {},
   "outputs": [],
   "source": [
    "(arr1 == arr2).sum()"
   ]
  },
  {
   "cell_type": "markdown",
   "metadata": {},
   "source": [
    "## Indexação e slicing de arrays\n",
    "\n",
    "O Numpy estende a notação de indexação das listas Python `[]` para múltiplas dimensões de forma intuitiva. Podemos fornecer uma lista de índices ou ranges separada por vírgulas para selecionar um elemento específico ou um subarray (também conhecido por slice) de um array Numpy."
   ]
  },
  {
   "cell_type": "code",
   "execution_count": null,
   "metadata": {},
   "outputs": [],
   "source": [
    "arr3 = np.array([\n",
    "    [[11, 12, 13, 14], \n",
    "     [13, 14, 15, 19]], \n",
    "    \n",
    "    [[15, 16, 17, 21], \n",
    "     [63, 92, 36, 18]], \n",
    "    \n",
    "    [[98, 32, 81, 23],      \n",
    "     [17, 18, 19.5, 43]]])"
   ]
  },
  {
   "cell_type": "code",
   "execution_count": null,
   "metadata": {},
   "outputs": [],
   "source": [
    "arr3.shape"
   ]
  },
  {
   "cell_type": "code",
   "execution_count": null,
   "metadata": {},
   "outputs": [],
   "source": [
    "# Elemento único\n",
    "arr3[1, 1, 2]"
   ]
  },
  {
   "cell_type": "code",
   "execution_count": null,
   "metadata": {},
   "outputs": [],
   "source": [
    "# Subarray com ranges\n",
    "arr3[1:, 0:1, :2]"
   ]
  },
  {
   "cell_type": "code",
   "execution_count": null,
   "metadata": {},
   "outputs": [],
   "source": [
    "# Misturar índices e ranges\n",
    "arr3[1:, 1, 3]"
   ]
  },
  {
   "cell_type": "code",
   "execution_count": null,
   "metadata": {},
   "outputs": [],
   "source": [
    "# Misturar índices e ranges\n",
    "arr3[1:, 1, :3]"
   ]
  },
  {
   "cell_type": "code",
   "execution_count": null,
   "metadata": {},
   "outputs": [],
   "source": [
    "# Usar menos índices\n",
    "arr3[1]"
   ]
  },
  {
   "cell_type": "code",
   "execution_count": null,
   "metadata": {},
   "outputs": [],
   "source": [
    "# Usar menos índices\n",
    "arr3[:2, 1]"
   ]
  },
  {
   "cell_type": "code",
   "execution_count": null,
   "metadata": {},
   "outputs": [],
   "source": [
    "# Usar demasiados índices\n",
    "arr3[1,3,2,1]"
   ]
  },
  {
   "cell_type": "markdown",
   "metadata": {},
   "source": [
    "A notação e os seus resultados podem parecer confusos inicialmente, por isso tome o seu tempo para experimentar e a familiarizar-se com ela. Utilize as células abaixo para experimentar alguns exemplos de indexação e slicing de arrays, com diferentes combinações de índices e ranges. Aqui ficam mais alguns exemplos demonstrados visualmente:\n",
    "\n",
    "<img src=\"https://raw.githubusercontent.com/davsimoes/mcde-pds/main/img/numpy_indexing.png\" width=\"360\">"
   ]
  },
  {
   "cell_type": "code",
   "execution_count": null,
   "metadata": {},
   "outputs": [],
   "source": []
  },
  {
   "cell_type": "code",
   "execution_count": null,
   "metadata": {},
   "outputs": [],
   "source": []
  },
  {
   "cell_type": "code",
   "execution_count": null,
   "metadata": {},
   "outputs": [],
   "source": []
  },
  {
   "cell_type": "code",
   "execution_count": null,
   "metadata": {},
   "outputs": [],
   "source": []
  },
  {
   "cell_type": "markdown",
   "metadata": {},
   "source": [
    "## Outras formas de criar arrays Numpy\n",
    "\n",
    "O Numpy também fornece algumas funções úteis para criar arrays de formas desejadas com valores fixos ou aleatórios. Consulte a [documentação oficial](https://numpy.org/doc/stable/reference/routines.array-creation.html) ou use a função `help` para saber mais."
   ]
  },
  {
   "cell_type": "code",
   "execution_count": null,
   "metadata": {},
   "outputs": [],
   "source": [
    "# Tudo a zero\n",
    "np.zeros((3, 2))"
   ]
  },
  {
   "cell_type": "code",
   "execution_count": null,
   "metadata": {},
   "outputs": [],
   "source": [
    "# Tudo a um\n",
    "np.ones([2, 2, 3])"
   ]
  },
  {
   "cell_type": "code",
   "execution_count": null,
   "metadata": {},
   "outputs": [],
   "source": [
    "# Matriz identidade\n",
    "np.eye(3)"
   ]
  },
  {
   "cell_type": "code",
   "execution_count": null,
   "metadata": {},
   "outputs": [],
   "source": [
    "# Vetor aleatório\n",
    "np.random.rand(5)"
   ]
  },
  {
   "cell_type": "code",
   "execution_count": null,
   "metadata": {},
   "outputs": [],
   "source": [
    "# Matriz aleatória\n",
    "np.random.randn(2, 3) # rand vs. randn - qual a diferença?"
   ]
  },
  {
   "cell_type": "code",
   "execution_count": null,
   "metadata": {},
   "outputs": [],
   "source": [
    "# Valor fixo\n",
    "np.full([2, 3], 42)"
   ]
  },
  {
   "cell_type": "code",
   "execution_count": null,
   "metadata": {},
   "outputs": [],
   "source": [
    "# Range com início, fim e salto\n",
    "np.arange(10, 90, 3)"
   ]
  },
  {
   "cell_type": "code",
   "execution_count": null,
   "metadata": {},
   "outputs": [],
   "source": [
    "# Números igualmente espaçados numa range\n",
    "np.linspace(3, 27, 9)"
   ]
  },
  {
   "cell_type": "markdown",
   "metadata": {},
   "source": [
    "### Guardar o seu notebook\n",
    "\n",
    "É muito importante guardar o seu trabalho com frequência. Pode continuar a trabalhar mais tarde num notebook que gravou anteriormente ou pode partilhá-lo com outras pessoas e permitir que executem o seu código."
   ]
  },
  {
   "cell_type": "markdown",
   "metadata": {},
   "source": [
    "## Sumário e Leitura Complementar\n",
    "\n",
    "Com isto, completamos a nossa discussão sobre computação numérica com Numpy. Cobrimos os seguintes tópicos nesta aula:\n",
    "\n",
    "- Passar de listas Python a arrays Numpy\n",
    "- Trabalhar com arrays Numpy\n",
    "- Benefícios de usar arrays Numpy em vez de listas\n",
    "- Arrays Numpy multidimensionais\n",
    "- Trabalhar com ficheiros de dados CSV\n",
    "- Operações aritméticas e broadcasting\n",
    "- Indexação e slicing de arrays\n",
    "- Outras formas de criar arrays Numpy\n",
    "\n",
    "\n",
    "Consulte os seguintes recursos para aprender mais sobre Numpy:\n",
    "\n",
    "- Tutorial oficial: https://numpy.org/devdocs/user/quickstart.html\n",
    "- Tutorial Numpy do W3Schools: https://www.w3schools.com/python/numpy_intro.asp\n",
    "- Numpy avançado (explorando o funcionamento interno): http://scipy-lectures.org/advanced/advanced_numpy/index.html"
   ]
  },
  {
   "cell_type": "markdown",
   "metadata": {},
   "source": [
    "## Questões para Revisão\n",
    "\n",
    "Tente responder às seguintes questões para testar a sua compreensão sobre os tópicos cobertos neste notebook:\n",
    "\n",
    "1. O que é um vetor?\n",
    "2. Como é que podemos representar um vetor usando uma lista Python? Dê um exemplo.\n",
    "3. O que é o produto escalar de dois vectores?\n",
    "4. Escreva uma função para calcular o produto escalar de dois vectores.\n",
    "5. O que é o Numpy?\n",
    "6. Como é que se instala o Numpy?\n",
    "7. Como é que se importa o módulo `numpy`?\n",
    "8. O que significa importar um módulo com um alias? Dê um exemplo.\n",
    "9. Qual é o alias normalmente usado para o `numpy`?\n",
    "10. O que é um array Numpy?\n",
    "11. Como é que se cria um array Numpy? Dê um exemplo.\n",
    "12. Qual é o tipo de um array Numpy?\n",
    "13. Como é que se acede aos elementos de um array Numpy?\n",
    "14. Como é que se calcula o produto escalar de dois vectores utilizando o Numpy?\n",
    "15. O que é que acontece se tentarmos calcular o produto escalar de dois vectores de tamanhos diferentes?\n",
    "16. Como é que se calcula o produto de dois arrays Numpy elemento a elemento?\n",
    "17. Como é que se calcula a soma de todos os elementos de um array Numpy?\n",
    "18. Quais são as vantagens de usar arrays Numpy em vez de listas Python para trabalhar sobre dados numéricos?\n",
    "19. Por que é que as operações com arrays Numpy têm melhor desempenho em comparação com funções e ciclos Python?\n",
    "20. Ilustre a diferença de desempenho entre as operações com arrays Numpy e os ciclos Python usando um exemplo.\n",
    "21. O que são arrays Numpy multidimensionais? \n",
    "22. Ilustre a criação de arrays Numpy com 2, 3 e 4 dimensões.\n",
    "23. Como é que se inspeciona o número de dimensões e o comprimento ao longo de cada dimensão num array Numpy?\n",
    "24. Os elementos de um array Numpy podem ter tipos de dados diferentes?\n",
    "25. Como é que se verifica o tipo de dados dos elementos de um array Numpy?\n",
    "26. Qual é o tipo de dados de um array Numpy?\n",
    "27. Qual é a diferença entre uma matriz e um array Numpy 2D?\n",
    "28. Como se faz a multiplicação de matrizes usando o Numpy?\n",
    "29. Para que serve o operador `@` no Numpy?\n",
    "30. O que é o formato de ficheiro CSV?\n",
    "31. Como podemos ler dados de um ficheiro CSV usando o Numpy?\n",
    "32. Como é que podemos concatenar dois arrays Numpy?\n",
    "33. Qual é o objetivo do argumento `axis` do `np.concatenate`?\n",
    "34. Quando é que dois arrays Numpy são compatíveis para concatenação?\n",
    "35. Dê um exemplo de dois arrays Numpy que podem ser concatenados.\n",
    "36. Dê um exemplo de dois arrays Numpy que não podem ser concatenados.\n",
    "37. Qual é o objetivo da função `np.reshape`?\n",
    "38. O que significa fazer \"reshape\" de um array Numpy?\n",
    "39. Como escrever um array numpy num ficheiro CSV?\n",
    "40. Dê alguns exemplos de funções Numpy para efetuar operações matemáticas.\n",
    "41. Dê alguns exemplos de funções Numpy para efetuar manipulação de arrays.\n",
    "42. Dê alguns exemplos de funções Numpy para efetuar operações de álgebra linear.\n",
    "43. Dê alguns exemplos de funções Numpy para efetuar operações estatísticas.\n",
    "44. Como podemos encontrar a função Numpy correcta para uma determinada operação ou caso de uso?\n",
    "45. Onde é que podemos ver uma lista de todas as funções e operações sobre arrays do Numpy?\n",
    "46. Quais são os operadores aritméticos suportados pelos arrays Numpy? Ilustre com exemplos.\n",
    "47. O que é o broadcasting de arrays? Qual é a sua utilidade? Ilustre com um exemplo.\n",
    "48. Dê alguns exemplos de arrays que são compatíveis com o broadcasting?\n",
    "49. Dê alguns exemplos de arrays que não são compatíveis com o broadcasting?\n",
    "50. Quais são os operadores de comparação suportados pelos arrays Numpy? Ilustre com exemplos.\n",
    "51. Como é que se acede a um subarray ou a uma slice específica de um array Numpy?\n",
    "52. Ilustre a indexação e o slicing de matrizes Numpy multidimensionais com alguns exemplos.\n",
    "53. Como é que se cria um array Numpy com uma determinada forma preenchido a zero?\n",
    "54. Como é que se cria um array Numpy com uma determinada forma preenchido a um?\n",
    "55. Como se cria uma matriz identidade de uma dada forma?\n",
    "56. Como se cria um vetor aleatório com um determinado comprimento?\n",
    "57. Como é que se cria um array Numpy com uma dada forma e um valor fixo para cada elemento?\n",
    "58. Como é que se cria um array Numpy com uma dada forma contendo elementos inicializados aleatoriamente?\n",
    "59. Qual é a diferença entre `np.random.rand` e `np.random.randn`? Ilustre com exemplos.\n",
    "60. Qual é a diferença entre `np.arange` e `np.linspace`? Ilustre com exemplos."
   ]
  },
  {
   "cell_type": "markdown",
   "metadata": {},
   "source": [
    "## Referências\n",
    "\n",
    "Este notebook é uma adaptação traduzida do curso *<u>Data Analysis with Python: Zero to Pandas</u>* de AaKash N S / [Jovian.ai](https://jovian.ai)\n",
    "\n",
    "Outras referências:\n",
    "* McKinney, W., Python for Data Analysis, 3rd. Ed. O'Reilly. Versão online em https://wesmckinney.com/book/ \n",
    "* Documentação oficial do Python: https://docs.python.org/3/tutorial/index.html\n",
    "* Tutorial Python do W3Schools: https://www.w3schools.com/python/\n",
    "* Practical Python Programming: https://dabeaz-course.github.io/practical-python/Notes/Contents.html\n",
    "* Jupyter Notebooks: https://docs.jupyter.org\n",
    "* Markdown Reference: https://www.markdownguide.org\n"
   ]
  }
 ],
 "metadata": {
  "kernelspec": {
   "display_name": "Python 3",
   "language": "python",
   "name": "python3"
  },
  "language_info": {
   "codemirror_mode": {
    "name": "ipython",
    "version": 3
   },
   "file_extension": ".py",
   "mimetype": "text/x-python",
   "name": "python",
   "nbconvert_exporter": "python",
   "pygments_lexer": "ipython3",
   "version": "3.10.13"
  }
 },
 "nbformat": 4,
 "nbformat_minor": 4
}
