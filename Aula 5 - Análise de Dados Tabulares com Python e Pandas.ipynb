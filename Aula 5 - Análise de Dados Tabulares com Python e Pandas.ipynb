{
 "cells": [
  {
   "cell_type": "markdown",
   "metadata": {},
   "source": [
    "![](https://raw.githubusercontent.com/davsimoes/mcde-pds/main/img/pcd-aula5.png)"
   ]
  },
  {
   "cell_type": "markdown",
   "metadata": {},
   "source": [
    "# Análise de Dados Tabulares com Python e Pandas\n",
    "\n",
    "![](https://raw.githubusercontent.com/davsimoes/mcde-pds/main/img/pandas.png)"
   ]
  },
  {
   "cell_type": "markdown",
   "metadata": {},
   "source": [
    "Esta aula cobre os seguintes tópicos:\n",
    "\n",
    "- Ler um ficheiro CSV para um data frame Pandas\n",
    "- Obter dados de data frames Pandas\n",
    "- Consulta, ordenação e análise de dados\n",
    "- Fusão, agrupamento, e agregação de dados\n",
    "- Extrair informação útil de datas\n",
    "- Gráficos básicos com gráficos de linhas e de barras\n",
    "- Escrever data frames para ficheiros CSV"
   ]
  },
  {
   "cell_type": "markdown",
   "metadata": {},
   "source": [
    "### Como executar o código\n",
    "\n",
    "Esta aula é um [Jupyter notebook](https://jupyter.org) executável. Pode _correr_ esta aula e experimentar os exemplos de código de diferentes formas: *localmente no seu computador*, ou *utilizando um serviço online gratuito*.\n",
    "\n",
    "#### Opção 1: Correr localmente no seu computador\n",
    "\n",
    "Para correr localmente o código no seu computador, faça download do notebook e abra o ficheiro com uma aplicação ou ambiente de desenvolvimento suportado, por exemplo:\n",
    "* Visual Studio Code: https://code.visualstudio.com/download\n",
    "* Anaconda: https://www.anaconda.com/download\n",
    "* Miniconda: https://docs.conda.io/projects/miniconda/en/latest/\n",
    "\n",
    "Em qualquer das opções, as aplicações terão de suportar (nativamente ou através de extensões) o [Python](https://www.python.org) e os [Jupyter notebooks](https://jupyter.org), de forma a disponibilizar um ambiente de visualização e execução local com um kernel que execute o código Python contido no notebook.\n",
    "\n",
    "#### Opção 2: Correr num serviço online gratuito\n",
    "\n",
    "Para executar o notebook online, faça upload do notebook para o serviço da sua preferência, por exemplo:\n",
    "* Google Colab: https://colab.google/\n",
    "* Binder (com repositório GitHub): https://mybinder.org/\n",
    "* Kaggle: https://www.kaggle.com/\n",
    "\n",
    "\n",
    ">  **Jupyter Notebooks**: Esta aula é um [Jupyter notebook](https://jupyter.org) - um documento feito de _células_. Cada célula pode conter código escrito em Python ou explicações em português. Pode executar células de código e visualizar os resultados, e.g., números, mensagens, gráficos, tabelas, ficheiros, etc., instantaneamente no notebook. O Jupyter é uma plataforma poderosa para experimentação e análise. Não tenha medo de mexer no código ou estragar alguma coisa - aprenderá muito ao encontrar e corrigir erros. Pode utilizar a opção de menu \"Kernel > Restart & Clear Output\" (Kernel > Reiniciar e Limpar Saída) para limpar todas as saídas e recomeçar do início."
   ]
  },
  {
   "cell_type": "markdown",
   "metadata": {},
   "source": [
    "## Ler um ficheiro CSV com o Pandas\n",
    "\n",
    "O [Pandas](https://pandas.pydata.org/) é uma biblioteca popular de Python usada para trabalhar com dados tabulares (dados tipicamente armazenados em folhas de cálculo). O Pandas oferece funções auxiliares para ler dados de diferentes formatos como CSV, folhas de cálculo Excel, tabelas HTML, JSON, SQL, e outros.\n",
    "\n",
    "Vamos fazer o download de um ficheiro `italy-covid-daywise.txt` que contém dados diários de Covid-19 para a Itália no seguinte formato:\n",
    "\n",
    "```\n",
    "date,new_cases,new_deaths,new_tests\n",
    "2020-04-21,2256.0,454.0,28095.0\n",
    "2020-04-22,2729.0,534.0,44248.0\n",
    "2020-04-23,3370.0,437.0,37083.0\n",
    "2020-04-24,2646.0,464.0,95273.0\n",
    "2020-04-25,3021.0,420.0,38676.0\n",
    "2020-04-26,2357.0,415.0,24113.0\n",
    "2020-04-27,2324.0,260.0,26678.0\n",
    "2020-04-28,1739.0,333.0,37554.0\n",
    "...\n",
    "```\n",
    "\n",
    "Este formato de armazenamento de dados é conhecido como *comma-separated values* ou CSV. \n",
    "\n",
    "> **CSVs**: Um ficheiro de valores separados por vírgula (CSV) é um ficheiro de texto delimitado que utiliza uma vírgula para separar os valores. Cada linha do ficheiro é um registo de dados. Cada registo é composto por um ou mais campos, separados por vírgulas. Normalmente, um ficheiro CSV armazena dados tabulares (números e texto), caso em que cada linha terá o mesmo número de campos. (Wikipedia)\n",
    "\n",
    "\n",
    "Vamos descarregar este ficheiro usando a função `urlretrieve` do módulo `urllib.request`."
   ]
  },
  {
   "cell_type": "code",
   "execution_count": null,
   "metadata": {},
   "outputs": [],
   "source": [
    "from urllib.request import urlretrieve"
   ]
  },
  {
   "cell_type": "code",
   "execution_count": null,
   "metadata": {},
   "outputs": [],
   "source": [
    "italy_covid_url = 'https://raw.githubusercontent.com/davsimoes/mcde-pds/main/res/italy-covid-daywise.csv'\n",
    "\n",
    "urlretrieve(italy_covid_url, 'italy-covid-daywise.csv')"
   ]
  },
  {
   "cell_type": "markdown",
   "metadata": {},
   "source": [
    "Para ler o ficheiro, podemos usar o método `read_csv` do Pandas. Primeiro, vamos instalar a biblioteca Pandas."
   ]
  },
  {
   "cell_type": "code",
   "execution_count": null,
   "metadata": {},
   "outputs": [],
   "source": [
    "%pip install pandas --upgrade --quiet"
   ]
  },
  {
   "cell_type": "markdown",
   "metadata": {},
   "source": [
    "We can now import the `pandas` module. As a convention, it is imported with the alias `pd`."
   ]
  },
  {
   "cell_type": "code",
   "execution_count": null,
   "metadata": {},
   "outputs": [],
   "source": [
    "import pandas as pd"
   ]
  },
  {
   "cell_type": "code",
   "execution_count": null,
   "metadata": {},
   "outputs": [],
   "source": [
    "covid_df = pd.read_csv('italy-covid-daywise.csv')"
   ]
  },
  {
   "cell_type": "markdown",
   "metadata": {},
   "source": [
    "Os dados do ficheiros são lidos e armazenados num objeto `DataFrame` - uma das estruturas de dados essenciais no Pandas para armazenar e trabalhar como dados tabulares. Tipicamente usamos o sufixo `_df` nos nomes das variáveis para os dataframes."
   ]
  },
  {
   "cell_type": "code",
   "execution_count": null,
   "metadata": {},
   "outputs": [],
   "source": [
    "type(covid_df)"
   ]
  },
  {
   "cell_type": "code",
   "execution_count": null,
   "metadata": {},
   "outputs": [],
   "source": [
    "covid_df"
   ]
  },
  {
   "cell_type": "markdown",
   "metadata": {},
   "source": [
    "Vejamos o que podemos dizer olhando para o dataframe:\n",
    "\n",
    "- O ficheiro fornece quatro contagens diárias para a COVID-19 em Itália\n",
    "- As métricas reportadas são novos casos, mortes, e testes\n",
    "- São fornecidos dados para 248 dias: de 12 de dezembro de 2019 a 3 de setembro de 2020\n",
    "\n",
    "Lembre-se que estes são números oficialmente reportados. O número real de casos e mortes pode ser maior, dado que nem todos os casos são diagnosticados.\n",
    "\n",
    "Podemos ver alguma informação básica sobre o dataframe usando o método `.info`."
   ]
  },
  {
   "cell_type": "code",
   "execution_count": null,
   "metadata": {},
   "outputs": [],
   "source": [
    "covid_df.info()"
   ]
  },
  {
   "cell_type": "markdown",
   "metadata": {},
   "source": [
    "Parece que cada coluna contém valores de um tipo de dados específico. Podemos ver informação estatística para colunas numéricas (média, desvio padrão, valores mínimos/máximos, e o número de valores não vazios) usando o método `.describe`."
   ]
  },
  {
   "cell_type": "code",
   "execution_count": null,
   "metadata": {},
   "outputs": [],
   "source": [
    "covid_df.describe()"
   ]
  },
  {
   "cell_type": "markdown",
   "metadata": {},
   "source": [
    "A propriedade `columns` contém a lista de colunas do dataframe."
   ]
  },
  {
   "cell_type": "code",
   "execution_count": null,
   "metadata": {},
   "outputs": [],
   "source": [
    "covid_df.columns"
   ]
  },
  {
   "cell_type": "markdown",
   "metadata": {},
   "source": [
    "Podemos também obter o número de linhas e colunas no dataframe com a propriedade `.shape`"
   ]
  },
  {
   "cell_type": "code",
   "execution_count": null,
   "metadata": {},
   "outputs": [],
   "source": [
    "covid_df.shape"
   ]
  },
  {
   "cell_type": "markdown",
   "metadata": {},
   "source": [
    "Aqui está um sumário das funções e métodos que vimos até agora:\n",
    "\n",
    "* `pd.read_csv` - Ler dados de um ficheiro CSV para um objeto `DataFrame` do Pandas\n",
    "* `.info()` - Visualizar informação básica sobre linhas, colunas e tipos de dados\n",
    "* `.describe()` - Visualizar informação estatística sobre colunas numéricas\n",
    "* `.columns` - Obter a lista de nomes de colunas\n",
    "* `.shape` - Obter o número de linhas e colunas na forma de um tuplo\n"
   ]
  },
  {
   "cell_type": "markdown",
   "metadata": {},
   "source": [
    "## Obter dados de um dataframe\n",
    "\n",
    "A primeira coisa que podemos querer fazer é obter dados deste dataframe, e.g., as contagens de um dia específico ou a lista de valores de uma coluna em particular. Para fazer isto, talvez seja útil perceber a representação interna dos dados num dataframe. Conceptualmente, podemos pensar num dataframe como um dicionário de listas: as chaves são nomes de colunas, e os valores são listas/arrays contendo dados para as colunas respetivas."
   ]
  },
  {
   "cell_type": "code",
   "execution_count": null,
   "metadata": {},
   "outputs": [],
   "source": [
    "# O formato do Pandas é similar a isto\n",
    "covid_data_dict = {\n",
    "    'date':       ['2020-08-30', '2020-08-31', '2020-09-01', '2020-09-02', '2020-09-03'],\n",
    "    'new_cases':  [1444, 1365, 996, 975, 1326],\n",
    "    'new_deaths': [1, 4, 6, 8, 6],\n",
    "    'new_tests': [53541, 42583, 54395, None, None]\n",
    "}"
   ]
  },
  {
   "cell_type": "markdown",
   "metadata": {},
   "source": [
    "Representar os dados no formato acima tem alguns benefícios:\n",
    "\n",
    "* Todos os valores numa coluna têm tipicamente o mesmo tipo de valor, por isso é mais eficiente armazená-los num array único.\n",
    "* Para obter os valores de uma linha em particular basta simplesmente extrair os elementos num dado índice de cada array de coluna.\n",
    "* A representação é mais compacta (os nomes de colunas são armazenados apenas uma vez) comparado com outros formatos que usem um dicionário para cada linha de dados (ver o exemplo abaixo)."
   ]
  },
  {
   "cell_type": "code",
   "execution_count": null,
   "metadata": {},
   "outputs": [],
   "source": [
    "#  O formato do Pandas não é similar a isto\n",
    "covid_data_list = [\n",
    "    {'date': '2020-08-30', 'new_cases': 1444, 'new_deaths': 1, 'new_tests': 53541},\n",
    "    {'date': '2020-08-31', 'new_cases': 1365, 'new_deaths': 4, 'new_tests': 42583},\n",
    "    {'date': '2020-09-01', 'new_cases': 996, 'new_deaths': 6, 'new_tests': 54395},\n",
    "    {'date': '2020-09-02', 'new_cases': 975, 'new_deaths': 8 },\n",
    "    {'date': '2020-09-03', 'new_cases': 1326, 'new_deaths': 6},\n",
    "]"
   ]
  },
  {
   "cell_type": "markdown",
   "metadata": {},
   "source": [
    "Com a analogia do dicionário de listas em mente, podemos adivinhar como obter dados de um dataframe. Por exemplo, podemos obter uma lista de valores de uma coluna específica usando a notação de indexação `[]`."
   ]
  },
  {
   "cell_type": "code",
   "execution_count": null,
   "metadata": {},
   "outputs": [],
   "source": [
    "covid_data_dict['new_cases']"
   ]
  },
  {
   "cell_type": "code",
   "execution_count": null,
   "metadata": {},
   "outputs": [],
   "source": [
    "covid_df['new_cases']"
   ]
  },
  {
   "cell_type": "markdown",
   "metadata": {},
   "source": [
    "Cada coluna é representada usando uma estrutura de dados chamada `Series`, que é essencialmente um array numpy com mais uns métodos e propriedades extra."
   ]
  },
  {
   "cell_type": "code",
   "execution_count": null,
   "metadata": {},
   "outputs": [],
   "source": [
    "type(covid_df['new_cases'])"
   ]
  },
  {
   "cell_type": "markdown",
   "metadata": {},
   "source": [
    "Tal como nos arrays, podemos obter um valor específico de uma série usando a notação de indexação `[]`."
   ]
  },
  {
   "cell_type": "code",
   "execution_count": null,
   "metadata": {},
   "outputs": [],
   "source": [
    "covid_df['new_cases'][246]"
   ]
  },
  {
   "cell_type": "code",
   "execution_count": null,
   "metadata": {},
   "outputs": [],
   "source": [
    "covid_df['new_tests'][240]"
   ]
  },
  {
   "cell_type": "markdown",
   "metadata": {},
   "source": [
    "O Pandas também oferece o método `.at` para obter diretamente o elemento numa linha e coluna específicas."
   ]
  },
  {
   "cell_type": "code",
   "execution_count": null,
   "metadata": {},
   "outputs": [],
   "source": [
    "covid_df.at[246, 'new_cases']"
   ]
  },
  {
   "cell_type": "code",
   "execution_count": null,
   "metadata": {},
   "outputs": [],
   "source": [
    "covid_df.at[240, 'new_tests']"
   ]
  },
  {
   "cell_type": "markdown",
   "metadata": {},
   "source": [
    "Em vez de usar a notação de indexação `[]`, o Pandas também permite aceder às colunas como propriedades do dataframe com a notação `.`. Contudo, este método só funciona para colunas cujos nomes não contenham espaços ou caracteres especiais."
   ]
  },
  {
   "cell_type": "code",
   "execution_count": null,
   "metadata": {},
   "outputs": [],
   "source": [
    "covid_df.new_cases"
   ]
  },
  {
   "cell_type": "markdown",
   "metadata": {},
   "source": [
    "Além disso, também podemos passar uma lista de colunas na notação de indexação `[]` para aceder a um subconjunto do dataframe com apenas as colunas indicadas."
   ]
  },
  {
   "cell_type": "code",
   "execution_count": null,
   "metadata": {},
   "outputs": [],
   "source": [
    "cases_df = covid_df[['date', 'new_cases']]\n",
    "cases_df"
   ]
  },
  {
   "cell_type": "markdown",
   "metadata": {},
   "source": [
    "O novo dataframe `cases_df` é simplesmente uma \"view\" do dataframe original `covid_df`. Ambos apontam para os mesmos dados na memória do computador. Alterar quaisquer valores num deles vai também alterar os valores respetivos no outro. A partilha de dados entre dataframes torna a manipulação de dados com o Pandas extremamente rápida. Não necessitamos de nos preocupar com a sobrecarga de copiar milhares ou milhões de linhas cada vez que queremos criar um dataframe a partir de outro.\n",
    "\n",
    "Por vezes podemos querer fazer uma cópia completa do dataframe, caso em que poderemos usar o método `copy`."
   ]
  },
  {
   "cell_type": "code",
   "execution_count": null,
   "metadata": {},
   "outputs": [],
   "source": [
    "covid_df_copy = covid_df.copy()"
   ]
  },
  {
   "cell_type": "markdown",
   "metadata": {},
   "source": [
    "Os dados em `covid_df_copy` são completamente independentes de `covid_df`, e alterar valores dentro de um deles não irá afetar o outro."
   ]
  },
  {
   "cell_type": "markdown",
   "metadata": {},
   "source": [
    "Para aceder a uma linha de dados específica, o Pandas fornece o método `.loc`."
   ]
  },
  {
   "cell_type": "code",
   "execution_count": null,
   "metadata": {},
   "outputs": [],
   "source": [
    "covid_df"
   ]
  },
  {
   "cell_type": "code",
   "execution_count": null,
   "metadata": {},
   "outputs": [],
   "source": [
    "covid_df.loc[243]"
   ]
  },
  {
   "cell_type": "markdown",
   "metadata": {},
   "source": [
    "Cada linha obtida é também um objeto `Series`."
   ]
  },
  {
   "cell_type": "code",
   "execution_count": null,
   "metadata": {},
   "outputs": [],
   "source": [
    "type(covid_df.loc[243])"
   ]
  },
  {
   "cell_type": "markdown",
   "metadata": {},
   "source": [
    "Podemos usar os métodos `.head` e `.tail` para visualizar as primeiras ou últimas linhas de dados."
   ]
  },
  {
   "cell_type": "code",
   "execution_count": null,
   "metadata": {},
   "outputs": [],
   "source": [
    "covid_df.head(5)"
   ]
  },
  {
   "cell_type": "code",
   "execution_count": null,
   "metadata": {},
   "outputs": [],
   "source": [
    "covid_df.tail(4)"
   ]
  },
  {
   "cell_type": "markdown",
   "metadata": {},
   "source": [
    "Repare acima que enquanto os primeiros valores das colunas `new_cases` e `new_deaths` são `0`, os valores correspondentes na coluna `new_tests` são `NaN`. Isto acontece porque o ficheiro CSV não contem quaisquer dados para a coluna `new_tests` para as datas específicas (podemos verificar isto olhando para o ficheiro). Estes valores podem estar em falta ou ser desconhecidos."
   ]
  },
  {
   "cell_type": "code",
   "execution_count": null,
   "metadata": {},
   "outputs": [],
   "source": [
    "covid_df.at[0, 'new_tests']"
   ]
  },
  {
   "cell_type": "code",
   "execution_count": null,
   "metadata": {},
   "outputs": [],
   "source": [
    "type(covid_df.at[0, 'new_tests'])"
   ]
  },
  {
   "cell_type": "markdown",
   "metadata": {},
   "source": [
    "A distinção entre `0` e `NaN` é subtil mas importante. Neste dataset, representa que os números de testes diários não foram reportados nas datas específicas. A Itália começou a reportar testes diários a 19 de abril de 2020. Já tinham sido feitos 935.310 testes antes de 19 de abril. \n",
    "\n",
    "Podemos encontrar o primeiro índice que não contém um valor `NaN` utilizando o método `first_valid_index` de uma coluna."
   ]
  },
  {
   "cell_type": "code",
   "execution_count": null,
   "metadata": {},
   "outputs": [],
   "source": [
    "covid_df.new_tests.first_valid_index()"
   ]
  },
  {
   "cell_type": "markdown",
   "metadata": {},
   "source": [
    "Vamos olhar para algumas linhas antes e depois deste índice para verificar que os valores se alteram de `NaN` para números válidos. Podemos fazer isto passando uma range ao método `loc`."
   ]
  },
  {
   "cell_type": "code",
   "execution_count": null,
   "metadata": {},
   "outputs": [],
   "source": [
    "covid_df.loc[108:113]"
   ]
  },
  {
   "cell_type": "markdown",
   "metadata": {},
   "source": [
    "Podemos usar o método `.sample` para obter uma amostra aleatória de linhas do dataframe."
   ]
  },
  {
   "cell_type": "code",
   "execution_count": null,
   "metadata": {},
   "outputs": [],
   "source": [
    "covid_df.sample(10)"
   ]
  },
  {
   "cell_type": "markdown",
   "metadata": {},
   "source": [
    "Repare que, ainda que tenhamos retirado uma amostra aleatória, o índice original de cada linha é preservado - isto é uma propriedade útil dos dataframes."
   ]
  },
  {
   "cell_type": "markdown",
   "metadata": {},
   "source": [
    "Aqui fica um sumário das funções e métodos que vimos nesta secção:\n",
    "\n",
    "- `covid_df['new_cases']` - Obter colunas como uma `Series` usando o nome da coluna\n",
    "- `new_cases[243]` - Obter valores de uma `Series` usando um índice\n",
    "- `covid_df.at[243, 'new_cases']` - Obter um valor único de um dataframe\n",
    "- `covid_df.copy()` - Criar uma cópia independente de um dataframe\n",
    "- `covid_df.loc[243]` - Obter uma linha ou um conjunto de linhas de um dataframe\n",
    "- `head`, `tail`, e `sample` - Obter múltiplas linhas de dados do dataframe\n",
    "- `covid_df.new_tests.first_valid_index` - Encontrar o primeiro índice não vazio numa série\n",
    "\n"
   ]
  },
  {
   "cell_type": "markdown",
   "metadata": {},
   "source": [
    "## Analisar dados de um dataframe\n",
    "\n",
    "Vamos tentar responder a algumas questões sobre os nossos dados.\n",
    "\n",
    "**P: Qual é o número total de casos e mortes reportadas relacionados com a Covid-19 em Itália?**\n",
    "\n",
    "Similarmente aos arrays Numpy, uma série Pandas suporta o método `sum` para responder a estas questões."
   ]
  },
  {
   "cell_type": "code",
   "execution_count": null,
   "metadata": {},
   "outputs": [],
   "source": [
    "total_cases = covid_df.new_cases.sum()\n",
    "total_deaths = covid_df.new_deaths.sum()"
   ]
  },
  {
   "cell_type": "code",
   "execution_count": null,
   "metadata": {},
   "outputs": [],
   "source": [
    "print('O número de casos reportados é {} e o número de mortes reportadas é {}.'.format(int(total_cases), int(total_deaths)))"
   ]
  },
  {
   "cell_type": "markdown",
   "metadata": {},
   "source": [
    "**P: Qual é a taxa global de mortalidade (rácio entre as mortes reportadas e os casos reportados)?**"
   ]
  },
  {
   "cell_type": "code",
   "execution_count": null,
   "metadata": {},
   "outputs": [],
   "source": [
    "death_rate = covid_df.new_deaths.sum() / covid_df.new_cases.sum()"
   ]
  },
  {
   "cell_type": "code",
   "execution_count": null,
   "metadata": {},
   "outputs": [],
   "source": [
    "print(\"A taxa global de mortalidade reportada em Itália é {:.2f} %.\".format(death_rate*100))"
   ]
  },
  {
   "cell_type": "markdown",
   "metadata": {},
   "source": [
    "**P: Qual é o número global de testes efetuados? Foi efetuado um total de 935.310 testes antes de serem comunicados os números dos testes diários.**\n"
   ]
  },
  {
   "cell_type": "code",
   "execution_count": null,
   "metadata": {},
   "outputs": [],
   "source": [
    "initial_tests = 935310\n",
    "total_tests = initial_tests + covid_df.new_tests.sum()"
   ]
  },
  {
   "cell_type": "code",
   "execution_count": null,
   "metadata": {},
   "outputs": [],
   "source": [
    "total_tests"
   ]
  },
  {
   "cell_type": "markdown",
   "metadata": {},
   "source": [
    "**P: Qual a proporção de testes que retornaram um resultado positivo?**"
   ]
  },
  {
   "cell_type": "code",
   "execution_count": null,
   "metadata": {},
   "outputs": [],
   "source": [
    "positive_rate = total_cases / total_tests"
   ]
  },
  {
   "cell_type": "code",
   "execution_count": null,
   "metadata": {},
   "outputs": [],
   "source": [
    "print('{:.2f}% dos testes em Itália resultaram num diagnóstico positivo.'.format(positive_rate*100))"
   ]
  },
  {
   "cell_type": "markdown",
   "metadata": {},
   "source": [
    "Tente perguntar e responder a mais algumas questões sobre os dados usando as células vazias abaixo."
   ]
  },
  {
   "cell_type": "code",
   "execution_count": null,
   "metadata": {},
   "outputs": [],
   "source": []
  },
  {
   "cell_type": "code",
   "execution_count": null,
   "metadata": {},
   "outputs": [],
   "source": []
  },
  {
   "cell_type": "markdown",
   "metadata": {},
   "source": [
    "## Consultar e ordenar linhas\n",
    "\n",
    "Suponhamos que queremos apenas ver os dias que tiveram mais de 1000 casos reportados. Podemos usar uma expressão booleana para verificar quais as linhas que satisfazem este critério."
   ]
  },
  {
   "cell_type": "code",
   "execution_count": null,
   "metadata": {},
   "outputs": [],
   "source": [
    "high_new_cases = covid_df.new_cases > 1000"
   ]
  },
  {
   "cell_type": "code",
   "execution_count": null,
   "metadata": {},
   "outputs": [],
   "source": [
    "high_new_cases"
   ]
  },
  {
   "cell_type": "markdown",
   "metadata": {},
   "source": [
    "A expressão booleana retorna uma série contendo valores booleanos `True` e `False`. Podemos usar esta série para selecionar um subconjunto de linhas do dataframe original, correspondendo aos valores `True` na série."
   ]
  },
  {
   "cell_type": "code",
   "execution_count": null,
   "metadata": {},
   "outputs": [],
   "source": [
    "covid_df[high_new_cases]"
   ]
  },
  {
   "cell_type": "markdown",
   "metadata": {},
   "source": [
    "Podemos escrever isto de forma sucinta numa única linha passando a expressão booleana como um índice para o dataframe."
   ]
  },
  {
   "cell_type": "code",
   "execution_count": null,
   "metadata": {},
   "outputs": [],
   "source": [
    "high_cases_df = covid_df[covid_df.new_cases > 1000]"
   ]
  },
  {
   "cell_type": "code",
   "execution_count": null,
   "metadata": {},
   "outputs": [],
   "source": [
    "high_cases_df"
   ]
  },
  {
   "cell_type": "markdown",
   "metadata": {},
   "source": [
    "O dataframe contém 72 linhas, mas por omissão são exibidas com o Jupyter apenas as primeiras e últimas cinco linhas, para brevidade. Podemos alterar algumas opções de visualização para ver todas as linhas."
   ]
  },
  {
   "cell_type": "code",
   "execution_count": null,
   "metadata": {
    "scrolled": true
   },
   "outputs": [],
   "source": [
    "from IPython.display import display\n",
    "with pd.option_context('display.max_rows', 100):\n",
    "    display(covid_df[covid_df.new_cases > 1000])"
   ]
  },
  {
   "cell_type": "markdown",
   "metadata": {},
   "source": [
    "Podemos também formular queries mais complexas envolvendo múltiplas colunas. Como exemplo, vamos tentar determinar os dias em que o rácio entre os casos reportados e os testes efetuados foi superior à taxa positiva global (`positive_rate`)."
   ]
  },
  {
   "cell_type": "code",
   "execution_count": null,
   "metadata": {},
   "outputs": [],
   "source": [
    "positive_rate"
   ]
  },
  {
   "cell_type": "code",
   "execution_count": null,
   "metadata": {},
   "outputs": [],
   "source": [
    "high_ratio_df = covid_df[covid_df.new_cases / covid_df.new_tests > positive_rate]"
   ]
  },
  {
   "cell_type": "code",
   "execution_count": null,
   "metadata": {},
   "outputs": [],
   "source": [
    "high_ratio_df"
   ]
  },
  {
   "cell_type": "markdown",
   "metadata": {},
   "source": [
    "O resultado de efetuar uma operação sobre duas colunas é uma nova série."
   ]
  },
  {
   "cell_type": "code",
   "execution_count": null,
   "metadata": {},
   "outputs": [],
   "source": [
    "covid_df.new_cases / covid_df.new_tests"
   ]
  },
  {
   "cell_type": "markdown",
   "metadata": {},
   "source": [
    "Podemos usar esta série para adicionar uma nova coluna ao dataframe."
   ]
  },
  {
   "cell_type": "code",
   "execution_count": null,
   "metadata": {},
   "outputs": [],
   "source": [
    "covid_df['positive_rate'] = covid_df.new_cases / covid_df.new_tests"
   ]
  },
  {
   "cell_type": "code",
   "execution_count": null,
   "metadata": {},
   "outputs": [],
   "source": [
    "covid_df"
   ]
  },
  {
   "cell_type": "markdown",
   "metadata": {},
   "source": [
    "Lembre-se contudo que às vezes demora alguns dias a obter os resultados de um teste, por isso não podemos comparar o número de novos casos com o número de testes efetuados no mesmo dia. Qualquer inferência baseada nesa coluna `positive_rate` será provavelmente incorreta. É fundamental estar atento a estas relações subtis que frequentemente não são transmitidas no ficheiro CSV e requerem algum contexto adicional externo. É sempre boa ideia analisar a documentação fornecida com o dataset ou pedir informação adicional.\n",
    "\n",
    "Para já, vamos remover a coluna `positive_rate` com o método `drop`."
   ]
  },
  {
   "cell_type": "code",
   "execution_count": null,
   "metadata": {},
   "outputs": [],
   "source": [
    "covid_df.drop(columns=['positive_rate'], inplace=True)"
   ]
  },
  {
   "cell_type": "markdown",
   "metadata": {},
   "source": [
    "Consegue perceber o propósito do argumento `inplace`?"
   ]
  },
  {
   "cell_type": "markdown",
   "metadata": {},
   "source": [
    "### Ordenar linhas usando valores de colunas\n",
    "\n",
    "As linhas também podem ser ordenadas por uma coluna específica usando `.sort_values`. Vamos fazer uma ordenação para identificar os dias com os maiores números de casos, e depois ligar ao método `head` para listar apenas os primeiros 10 resultados."
   ]
  },
  {
   "cell_type": "code",
   "execution_count": null,
   "metadata": {},
   "outputs": [],
   "source": [
    "covid_df.sort_values('new_cases', ascending=False).head(10)"
   ]
  },
  {
   "cell_type": "markdown",
   "metadata": {},
   "source": [
    "Parece que as duas últimas semanas de março tiveram os números mais altos de casos diários. Vamos comparar este resultado com os dias onde foram registados os maiores números de mortes."
   ]
  },
  {
   "cell_type": "code",
   "execution_count": null,
   "metadata": {},
   "outputs": [],
   "source": [
    "covid_df.sort_values('new_deaths', ascending=False).head(10)"
   ]
  },
  {
   "cell_type": "markdown",
   "metadata": {},
   "source": [
    "Parece que as mortes diárias atingiram um pico cerca de uma semana depois do pico nos novos casos diários.\n",
    "\n",
    "Vamos ver também os dias com menos casos. Poderemos esperar ver os primeiros dias do ano nesta lista."
   ]
  },
  {
   "cell_type": "code",
   "execution_count": null,
   "metadata": {},
   "outputs": [],
   "source": [
    "covid_df.sort_values('new_cases').head(10)"
   ]
  },
  {
   "cell_type": "markdown",
   "metadata": {},
   "source": [
    "Parece que a contagem de novos casos em 20 de junho de 2020 foi `-148`, um número negativo! Não era algo que estivéssemos à espera, mas é esta a natureza dos dados reais. Pode tratar-se de um erro de introdução de dados, ou o governo pode ter emitido uma correção para compensar uma contagem incorreta no passado. Poderá pesquisar notícias e artigos online para tentar perceber porque é que o número foi negativo.\n",
    "\n",
    "Vamos olhar para alguns dias antes e depois de 20 de junho de 2020."
   ]
  },
  {
   "cell_type": "code",
   "execution_count": null,
   "metadata": {},
   "outputs": [],
   "source": [
    "covid_df.loc[169:175]"
   ]
  },
  {
   "cell_type": "markdown",
   "metadata": {},
   "source": [
    "Para já, vamos assumir que se tratou de facto de um erro de introdução de dados. Podemos usar uma das seguintes abordagens para lidar com o valor em falta ou incorreto:\n",
    "1. Substituí-lo por `0`.\n",
    "2. Substituí-lo pela média dos valores da coluna\n",
    "3. Substituí-lo com a média entre os valores na data anterior e posterior\n",
    "4. Descartar a linha por inteiro\n",
    "\n",
    "A abordagem a tomar requer algum contexto sobre os dados e o problema. Neste caso, dado que estamos a lidar com dados ordenados por data, podemos avançar com a terceira abordagem.\n",
    "\n",
    "Podemos usar o método `.at` para modificar um valor específico no dataframe."
   ]
  },
  {
   "cell_type": "code",
   "execution_count": null,
   "metadata": {},
   "outputs": [],
   "source": [
    "covid_df.at[172, 'new_cases'] = (covid_df.at[171, 'new_cases'] + covid_df.at[173, 'new_cases'])/2"
   ]
  },
  {
   "cell_type": "markdown",
   "metadata": {},
   "source": [
    "Aqui fica um sumário das funções e métodos que vimos nesta secção:\n",
    "\n",
    "- `covid_df.new_cases.sum()` - Calcular a soma dos valores numa coluna ou série\n",
    "- `covid_df[covid_df.new_cases > 1000]` - Fazer uma query sobre um subconjunto de linhas satisfazendo um dado critério com expressões booleanas\n",
    "- `df['pos_rate'] = df.new_cases/df.new_tests` - Adicionar novas colunas combinando dados de colunas existentes\n",
    "- `covid_df.drop('positive_rate')` - Remover uma ou mais colunas do dataframe\n",
    "- `sort_values` - Ordenar as linhas de um dataframe usando valores de colunas\n",
    "- `covid_df.at[172, 'new_cases'] = ...` - Substituir um valor num dataframe"
   ]
  },
  {
   "cell_type": "markdown",
   "metadata": {},
   "source": [
    "## Trabalhar com datas\n",
    "\n",
    "Embora já tenhamos olhado para os números globais para os casos, testes, taxa de positivos, etc., também poderá ser útil estudar estes números numa perspetiva mensal. A coluna `date` poderá ser útil aqui, dado que o Pandas oferece várias formas de trabalhar com datas."
   ]
  },
  {
   "cell_type": "code",
   "execution_count": null,
   "metadata": {},
   "outputs": [],
   "source": [
    "covid_df.date"
   ]
  },
  {
   "cell_type": "markdown",
   "metadata": {},
   "source": [
    "O tipo de dados da data é neste momento `object`, por isso o Pandas não sabe que esta coluna é uma data. Podemos convertê-la para uma coluna `datetime` usando o método `pd.to_datetime`."
   ]
  },
  {
   "cell_type": "code",
   "execution_count": null,
   "metadata": {},
   "outputs": [],
   "source": [
    "covid_df['date'] = pd.to_datetime(covid_df.date)"
   ]
  },
  {
   "cell_type": "code",
   "execution_count": null,
   "metadata": {},
   "outputs": [],
   "source": [
    "covid_df['date']"
   ]
  },
  {
   "cell_type": "markdown",
   "metadata": {},
   "source": [
    "Podemos ver que a coluna tem agora o tipo de dados `datetime64`. Podemos extrair diferentes partes dos dados em colunas separadas, usando a classe `DatetimeIndex` ([ver docs](https://pandas.pydata.org/pandas-docs/version/0.23.4/generated/pandas.DatetimeIndex.html))."
   ]
  },
  {
   "cell_type": "code",
   "execution_count": null,
   "metadata": {},
   "outputs": [],
   "source": [
    "covid_df['year'] = pd.DatetimeIndex(covid_df.date).year\n",
    "covid_df['month'] = pd.DatetimeIndex(covid_df.date).month\n",
    "covid_df['day'] = pd.DatetimeIndex(covid_df.date).day\n",
    "covid_df['weekday'] = pd.DatetimeIndex(covid_df.date).weekday"
   ]
  },
  {
   "cell_type": "code",
   "execution_count": null,
   "metadata": {},
   "outputs": [],
   "source": [
    "covid_df"
   ]
  },
  {
   "cell_type": "markdown",
   "metadata": {},
   "source": [
    "Vamos verificar as métricas globais para maio. Podemos fazer uma query às linhas para maio, escolher um subconjunto de colunas, e usar o método `sum` para agregar os valores de cada coluna."
   ]
  },
  {
   "cell_type": "code",
   "execution_count": null,
   "metadata": {},
   "outputs": [],
   "source": [
    "# Filtrar as linhas para maio\n",
    "covid_df_may = covid_df[covid_df.month == 5]\n",
    "\n",
    "# Extrair o subconjunto das colunas a serem agregadas\n",
    "covid_df_may_metrics = covid_df_may[['new_cases', 'new_deaths', 'new_tests']]\n",
    "\n",
    "# Obter a soma de cada coluna\n",
    "covid_may_totals = covid_df_may_metrics.sum()"
   ]
  },
  {
   "cell_type": "code",
   "execution_count": null,
   "metadata": {},
   "outputs": [],
   "source": [
    "covid_may_totals"
   ]
  },
  {
   "cell_type": "code",
   "execution_count": null,
   "metadata": {},
   "outputs": [],
   "source": [
    "type(covid_may_totals)"
   ]
  },
  {
   "cell_type": "markdown",
   "metadata": {},
   "source": [
    "Podemos também combinar as operações acima numa instrução única."
   ]
  },
  {
   "cell_type": "code",
   "execution_count": null,
   "metadata": {},
   "outputs": [],
   "source": [
    "covid_df[covid_df.month == 5][['new_cases', 'new_deaths', 'new_tests']].sum()"
   ]
  },
  {
   "cell_type": "markdown",
   "metadata": {},
   "source": [
    "Como exemplo adicional, vamos verificar se o número de casos reportados ao domingo é superior ao número médio de casos reportados diariamente. Desta vez, talvez queiramos agregar as colunas com o método `.mean`."
   ]
  },
  {
   "cell_type": "code",
   "execution_count": null,
   "metadata": {},
   "outputs": [],
   "source": [
    "# Média global\n",
    "covid_df.new_cases.mean()"
   ]
  },
  {
   "cell_type": "code",
   "execution_count": null,
   "metadata": {},
   "outputs": [],
   "source": [
    "# Média para os domingos\n",
    "covid_df[covid_df.weekday == 6].new_cases.mean()"
   ]
  },
  {
   "cell_type": "markdown",
   "metadata": {},
   "source": [
    "Parece que foram reportados mais casos ao domingo do que nos outros dias.\n",
    "\n",
    "Tente perguntar e responder a outras questões relacionadas com datas usando as células abaixo."
   ]
  },
  {
   "cell_type": "code",
   "execution_count": null,
   "metadata": {},
   "outputs": [],
   "source": []
  },
  {
   "cell_type": "code",
   "execution_count": null,
   "metadata": {},
   "outputs": [],
   "source": []
  },
  {
   "cell_type": "code",
   "execution_count": null,
   "metadata": {},
   "outputs": [],
   "source": []
  },
  {
   "cell_type": "code",
   "execution_count": null,
   "metadata": {},
   "outputs": [],
   "source": []
  },
  {
   "cell_type": "markdown",
   "metadata": {},
   "source": [
    "## Agrupamento e agregação\n",
    "\n",
    "Como próximo passo, podemos querer sumarizar os dados diários e criar um novo dataframe com dados mensais. Podemos usar a função `groupby` para criar um grupo para cada mês, selecionar as colunas a agregar, e agregá-las com o método `sum`. "
   ]
  },
  {
   "cell_type": "code",
   "execution_count": null,
   "metadata": {},
   "outputs": [],
   "source": [
    "covid_month_df = covid_df.groupby('month')[['new_cases', 'new_deaths', 'new_tests']].sum()"
   ]
  },
  {
   "cell_type": "code",
   "execution_count": null,
   "metadata": {},
   "outputs": [],
   "source": [
    "covid_month_df"
   ]
  },
  {
   "cell_type": "markdown",
   "metadata": {},
   "source": [
    "O resultado é um novo dataframe que usa os valores da coluna passada ao `groupby` como índice. O agrupamento e a agregação são um método poderoso para sumarizar progressivamente os dados em dataframes mais pequenos.\n",
    "\n",
    "Em vez de agregar por soma, podemos também agregar por outras operações como a média. Vamos calcular o número médio de novos casos diários, mortes, e testes para cada mês."
   ]
  },
  {
   "cell_type": "code",
   "execution_count": null,
   "metadata": {},
   "outputs": [],
   "source": [
    "covid_month_mean_df = covid_df.groupby('month')[['new_cases', 'new_deaths', 'new_tests']].mean()"
   ]
  },
  {
   "cell_type": "code",
   "execution_count": null,
   "metadata": {},
   "outputs": [],
   "source": [
    "covid_month_mean_df"
   ]
  },
  {
   "cell_type": "markdown",
   "metadata": {},
   "source": [
    "Para além do agrupamento, outra forma de agregação é a soma contínua ou acumulada de casos, testes, ou mortes até à data de cada linha. Podemos usar o método `cumsum` para calcular a soma cumulativa como uma nova série. Vamos adicionar três novas colunas: `total_cases`, `total_deaths`, e `total_tests`."
   ]
  },
  {
   "cell_type": "code",
   "execution_count": null,
   "metadata": {},
   "outputs": [],
   "source": [
    "covid_df['total_cases'] = covid_df.new_cases.cumsum()"
   ]
  },
  {
   "cell_type": "code",
   "execution_count": null,
   "metadata": {},
   "outputs": [],
   "source": [
    "covid_df['total_deaths'] = covid_df.new_deaths.cumsum()"
   ]
  },
  {
   "cell_type": "code",
   "execution_count": null,
   "metadata": {},
   "outputs": [],
   "source": [
    "covid_df['total_tests'] = covid_df.new_tests.cumsum() + initial_tests"
   ]
  },
  {
   "cell_type": "markdown",
   "metadata": {},
   "source": [
    "Incluímos também a contagem de testes inicial em `total_test` para levar em conta os testes efetuados antes de se ter iniciado a comunicação diária."
   ]
  },
  {
   "cell_type": "code",
   "execution_count": null,
   "metadata": {},
   "outputs": [],
   "source": [
    "covid_df"
   ]
  },
  {
   "cell_type": "markdown",
   "metadata": {},
   "source": [
    "Repare como os valores `NaN` em `total_tests` permanecem inafetados."
   ]
  },
  {
   "cell_type": "markdown",
   "metadata": {},
   "source": [
    "## Juntando dados de várias fontes\n",
    "\n",
    "Para determinarmos outras métricas como testes por milhão, casos por milhão, etc., necessitamos de mais informação do país relativa à sua população. Vamos fazer o download de outro ficheiro `locations.csv` que contém informções de saúde para diversos países, incluindo a Itália."
   ]
  },
  {
   "cell_type": "code",
   "execution_count": null,
   "metadata": {},
   "outputs": [],
   "source": [
    "urlretrieve('https://raw.githubusercontent.com/davsimoes/mcde-pds/main/res/locations.csv', \n",
    "            'locations.csv')"
   ]
  },
  {
   "cell_type": "code",
   "execution_count": null,
   "metadata": {},
   "outputs": [],
   "source": [
    "locations_df = pd.read_csv('locations.csv')"
   ]
  },
  {
   "cell_type": "code",
   "execution_count": null,
   "metadata": {},
   "outputs": [],
   "source": [
    "locations_df"
   ]
  },
  {
   "cell_type": "code",
   "execution_count": null,
   "metadata": {},
   "outputs": [],
   "source": [
    "locations_df[locations_df.location == \"Italy\"]"
   ]
  },
  {
   "cell_type": "markdown",
   "metadata": {},
   "source": [
    "Podemos fundir ou fazer o *merge* destes dados no nosso dataframe existente adicionando mais colunas. Contudo, para fazer o *merge* de dois data frames, necessitamos de pelo menos uma coluna em comum. Vamos inserir uma coluna `location` no dataframe `covid_df` com todos os valores iguais a `\"Italy\"`."
   ]
  },
  {
   "cell_type": "code",
   "execution_count": null,
   "metadata": {},
   "outputs": [],
   "source": [
    "covid_df['location'] = \"Italy\""
   ]
  },
  {
   "cell_type": "code",
   "execution_count": null,
   "metadata": {},
   "outputs": [],
   "source": [
    "covid_df"
   ]
  },
  {
   "cell_type": "markdown",
   "metadata": {},
   "source": [
    "Podemos agora adicionar as colunas de `locations_df` em `covid_df` usando o método `.merge`."
   ]
  },
  {
   "cell_type": "code",
   "execution_count": null,
   "metadata": {},
   "outputs": [],
   "source": [
    "merged_df = covid_df.merge(locations_df, on=\"location\")"
   ]
  },
  {
   "cell_type": "code",
   "execution_count": null,
   "metadata": {},
   "outputs": [],
   "source": [
    "merged_df"
   ]
  },
  {
   "cell_type": "markdown",
   "metadata": {},
   "source": [
    "Os dados de localização para Itália são acrescentados a cada linha em `covid_df`. Se o dataframe `covid_df` contivesse dados de múltiplas localizações, os dados de localização do país respetivo seriam acrescentados para cada linha.\n",
    "\n",
    "Podemos agora calcular métricas como casos por milhão, mortes por milhão, e testes por milhão."
   ]
  },
  {
   "cell_type": "code",
   "execution_count": null,
   "metadata": {},
   "outputs": [],
   "source": [
    "merged_df['cases_per_million'] = merged_df.total_cases * 1e6 / merged_df.population"
   ]
  },
  {
   "cell_type": "code",
   "execution_count": null,
   "metadata": {},
   "outputs": [],
   "source": [
    "merged_df['deaths_per_million'] = merged_df.total_deaths * 1e6 / merged_df.population"
   ]
  },
  {
   "cell_type": "code",
   "execution_count": null,
   "metadata": {},
   "outputs": [],
   "source": [
    "merged_df['tests_per_million'] = merged_df.total_tests * 1e6 / merged_df.population"
   ]
  },
  {
   "cell_type": "code",
   "execution_count": null,
   "metadata": {
    "scrolled": false
   },
   "outputs": [],
   "source": [
    "merged_df"
   ]
  },
  {
   "cell_type": "markdown",
   "metadata": {},
   "source": [
    "## Escrever dados de volta para ficheiros\n",
    "\n",
    "Depois de completarmos a nossa análise e adicionarmos novas colunas, faz sentido escrever os resultados de volta para um ficheiro. De outra forma, os dados serão perdidos quando o notebook Jupyter for desativado.\n",
    "Antes de escrever para um ficheiro, vamos criar primeiro um dataframe contendo apenas as colunas que queremos gravar."
   ]
  },
  {
   "cell_type": "code",
   "execution_count": null,
   "metadata": {},
   "outputs": [],
   "source": [
    "result_df = merged_df[['date',\n",
    "                       'new_cases', \n",
    "                       'total_cases', \n",
    "                       'new_deaths', \n",
    "                       'total_deaths', \n",
    "                       'new_tests', \n",
    "                       'total_tests', \n",
    "                       'cases_per_million', \n",
    "                       'deaths_per_million', \n",
    "                       'tests_per_million']]"
   ]
  },
  {
   "cell_type": "code",
   "execution_count": null,
   "metadata": {
    "scrolled": false
   },
   "outputs": [],
   "source": [
    "result_df"
   ]
  },
  {
   "cell_type": "markdown",
   "metadata": {},
   "source": [
    "Para escrever os dados do dataframe para um ficheiro, podemos usar a função `to_csv`. "
   ]
  },
  {
   "cell_type": "code",
   "execution_count": null,
   "metadata": {},
   "outputs": [],
   "source": [
    "result_df.to_csv('results.csv', index=None)"
   ]
  },
  {
   "cell_type": "markdown",
   "metadata": {},
   "source": [
    "Por omissão, a função `to_csv` inclui também uma coluna adicional para armazenar o índice do dataframe. Passamos `index=None` para desligar este comportamento. Podemos verificar que o ficheiro `results.csv` foi criado e contém os dados do dataframe no formato CSV:\n",
    "\n",
    "```\n",
    "date,new_cases,total_cases,new_deaths,total_deaths,new_tests,total_tests,cases_per_million,deaths_per_million,tests_per_million\n",
    "2020-02-27,78.0,400.0,1.0,12.0,,,6.61574439992122,0.1984723319976366,\n",
    "2020-02-28,250.0,650.0,5.0,17.0,,,10.750584649871982,0.28116913699665186,\n",
    "2020-02-29,238.0,888.0,4.0,21.0,,,14.686952567825108,0.34732658099586405,\n",
    "2020-03-01,240.0,1128.0,8.0,29.0,,,18.656399207777838,0.47964146899428844,\n",
    "2020-03-02,561.0,1689.0,6.0,35.0,,,27.93498072866735,0.5788776349931067,\n",
    "2020-03-03,347.0,2036.0,17.0,52.0,,,33.67413899559901,0.8600467719897585,\n",
    "...\n",
    "```"
   ]
  },
  {
   "cell_type": "markdown",
   "metadata": {},
   "source": [
    "## Bónus: Gráficos básicos com Pandas\n",
    "\n",
    "Normalmente usamos uma biblioteca como `matplotlib` ou `seaborn` para desenhar gráficos num notebook Jupyter. Contudo, Os dataframes e séries Pandas oferecem um método útil `.plot` para o desenho rápido e fácil de gráficos.\n",
    "\n",
    "Vamos desenhar um gráfico de linhas mostrando o número de casos diários ao longo do tempo."
   ]
  },
  {
   "cell_type": "code",
   "execution_count": null,
   "metadata": {},
   "outputs": [],
   "source": [
    "result_df.new_cases.plot();"
   ]
  },
  {
   "cell_type": "markdown",
   "metadata": {},
   "source": [
    "**Nota:** Dependendo do ambiente de execução, poderá ter de fazer `%pip install matplotlib` antes de usar o método `.plot`"
   ]
  },
  {
   "cell_type": "markdown",
   "metadata": {},
   "source": [
    "Ainda que este gráfico mostre a tendência global, é difícil perceber onde é que ocorreu o pico, dado que não são há datas no eixo dos X. Podemos usar a coluna `date` como índice do dataframe para corrigir este problema."
   ]
  },
  {
   "cell_type": "code",
   "execution_count": null,
   "metadata": {},
   "outputs": [],
   "source": [
    "result_df.set_index('date', inplace=True)"
   ]
  },
  {
   "cell_type": "code",
   "execution_count": null,
   "metadata": {},
   "outputs": [],
   "source": [
    "result_df"
   ]
  },
  {
   "cell_type": "markdown",
   "metadata": {},
   "source": [
    "Repare que o índice de um dataframe não tem de ser numérico. Usar a data como índice também nos permite obter os dados de uma data específica usando o `.loc`."
   ]
  },
  {
   "cell_type": "code",
   "execution_count": null,
   "metadata": {},
   "outputs": [],
   "source": [
    "result_df.loc['2020-09-01']"
   ]
  },
  {
   "cell_type": "markdown",
   "metadata": {},
   "source": [
    "Vamos traçar os novos casos e novas mortes por dia em gráficos de linhas."
   ]
  },
  {
   "cell_type": "code",
   "execution_count": null,
   "metadata": {},
   "outputs": [],
   "source": [
    "result_df.new_cases.plot()\n",
    "result_df.new_deaths.plot();"
   ]
  },
  {
   "cell_type": "markdown",
   "metadata": {},
   "source": [
    "Podemos também comparar o número total de casos vs. total de mortes."
   ]
  },
  {
   "cell_type": "code",
   "execution_count": null,
   "metadata": {},
   "outputs": [],
   "source": [
    "result_df.total_cases.plot()\n",
    "result_df.total_deaths.plot();"
   ]
  },
  {
   "cell_type": "markdown",
   "metadata": {},
   "source": [
    "Vamos ver como é que a taxa de mortalidade e as taxas de testes positivos variam ao longo do tempo."
   ]
  },
  {
   "cell_type": "code",
   "execution_count": null,
   "metadata": {},
   "outputs": [],
   "source": [
    "death_rate = result_df.total_deaths / result_df.total_cases"
   ]
  },
  {
   "cell_type": "code",
   "execution_count": null,
   "metadata": {},
   "outputs": [],
   "source": [
    "death_rate.plot(title='Taxa de Mortalidade');"
   ]
  },
  {
   "cell_type": "code",
   "execution_count": null,
   "metadata": {},
   "outputs": [],
   "source": [
    "positive_rates = result_df.total_cases / result_df.total_tests\n",
    "positive_rates.plot(title='Taxa de Positivos');"
   ]
  },
  {
   "cell_type": "markdown",
   "metadata": {},
   "source": [
    "Finalmente, vamos apresentar alguns dados mensais usando um gráfico de barras para visualizar a tendência a um nível mais elevado"
   ]
  },
  {
   "cell_type": "code",
   "execution_count": null,
   "metadata": {},
   "outputs": [],
   "source": [
    "covid_month_df.new_cases.plot(kind='bar');"
   ]
  },
  {
   "cell_type": "code",
   "execution_count": null,
   "metadata": {},
   "outputs": [],
   "source": [
    "covid_month_df.new_tests.plot(kind='bar')"
   ]
  },
  {
   "cell_type": "markdown",
   "metadata": {},
   "source": [
    "## Sumário e Leitura Complementar\n",
    "\n",
    "\n",
    "Cobrimos os seguintes tópicos nesta aula:\n",
    "\n",
    "- Ler um ficheiro CSV para um dataframe Pandas\n",
    "- Obter dados de dataframes Pandas\n",
    "- Fazer queries, ordenar, e analisar dados\n",
    "- Fazer merging, agrupamento, e agregação de dados\n",
    "- Extrair informação útil de datas\n",
    "- Gráficos simples com gráficos de linhas e gráficos de barras\n",
    "- Escrever dataframes para ficheiros CSV\n",
    "\n",
    "\n",
    "Consulte os seguintes recursos para aprender mais sobre o Pandas:\n",
    "\n",
    "* User guide para o Pandas: https://pandas.pydata.org/docs/user_guide/index.html\n",
    "* Python for Data Analysis (livro de Wes McKinney - criador do Pandas): https://www.oreilly.com/library/view/python-for-data/9781491957653/\n",
    "* Exercícios adicionais sobre Pandas: https://github.com/guipsamora/pandas_exercises\n",
    "* Datasets Kaggle: https://www.kaggle.com/datasets"
   ]
  },
  {
   "cell_type": "markdown",
   "metadata": {},
   "source": [
    "## Questões para Revisão\n",
    "\n",
    "Tente responder às seguintes questões para testar a sua compreensão sobre os tópicos cobertos neste notebook:\n",
    "\n",
    "1. O que é o Pandas? O que é que o torna útil?\n",
    "2. Como é que se instala a biblioteca Pandas?\n",
    "3. Como é que se importa o módulo `pandas`?\n",
    "4. Qual é o alias normalmente utilizado durante a importação do módulo `pandas`?\n",
    "5. Como é que se lê um ficheiro CSV utilizando o Pandas? Dê um exemplo.\n",
    "6. Dê exemplos de outros formatos de ficheiros que podem ser lidos com o Pandas.\n",
    "7. O que são dataframes Pandas? \n",
    "8. Em que é que os dataframes do Pandas são diferentes dos arrays do Numpy?\n",
    "9. Como é que podemos saber o número de linhas e colunas de um dataframe?\n",
    "10. Como é que podemos obter a lista de colunas de um dataframe?\n",
    "11. Qual é o objetivo do método `describe` de um dataframe?\n",
    "12. Qual a diferença entre os métodos `info` e `describe` de um dataframe?\n",
    "13. Um dataframe do Pandas é conceptualmente semelhante a uma lista de dicionários ou a um dicionário de listas? Explique com um exemplo.\n",
    "14. O que é uma série (`Series`) do Pandas? Qual a diferença em relação a um array Numpy?\n",
    "15. Como é que se acede a uma coluna de um dataframe?\n",
    "16. Como é que se acede a uma linha de um dataframe?\n",
    "17. Como é que se acede a um elemento numa linha e coluna específicas de um dataframe?\n",
    "18. Como é que podemos criar um subconjunto de um dataframe com um conjunto específico de colunas?\n",
    "19. Como é que podemos criar um subconjunto de um dataframe com um intervalo específico de linhas?\n",
    "20. A alteração de um valor num dataframe afecta outros dataframes criados utilizando um subconjunto de linhas ou colunas? Porque é que isso acontece?\n",
    "21. Como é que se cria uma cópia de um dataframe?\n",
    "22. Porque é que devemos evitar criar demasiadas cópias de um dataframe?\n",
    "23. Como é que se visualizam as primeiras linhas de um dataframe?\n",
    "24. Como é que se visualizam as últimas linhas de um dataframe?\n",
    "25. Como é que se vê uma seleção aleatória de linhas de um dataframe?\n",
    "26. O que é o \"índice\" num dataframe? Qual é a sua utilidade?\n",
    "27. O que representa um valor `NaN` num dataframe Pandas?\n",
    "28. Qual a diferença entre `Nan` e `0`?\n",
    "29. Como identificar a primeira linha não vazia de uma série ou coluna Pandas?\n",
    "30. Qual é a diferença entre `df.loc` e `df.at`?\n",
    "31. Onde é que podemos encontrar uma lista completa dos métodos suportados pelos objectos `DataFrame` e `Series` do Pandas?\n",
    "32. Como é que podemos calcular a soma dos números numa coluna de um dataframe?\n",
    "33. Como é que podemos calcular a média dos números numa coluna de um dataframe?\n",
    "34. Como é que podemos saber quantos números não vazios existem numa coluna de um dataframe?\n",
    "35. Qual é o resultado obtido pela utilização de uma coluna Pandas numa expressão booleana? Ilustre com um exemplo.\n",
    "36. Como é que se seleciona um subconjunto de linhas em que o valor de uma coluna específica satisfaz uma determinada condição? Ilustre com um exemplo.\n",
    "37. Qual é o resultado da expressão `df[df.new_cases > 100]` ?\n",
    "38. Como é que podemos exibir todas as linhas de um dataframe Pandas numa célula de um notebook Jupyter?\n",
    "39. Qual é o resultado obtido quando efetuamos uma operação aritmética entre duas colunas de um dataframe? Ilustre com um exemplo.\n",
    "40. Como é que se adiciona uma nova coluna a um dataframe combinando valores de duas colunas existentes? Ilustre com um exemplo.\n",
    "41. Como é que se remove uma coluna de um dataframe? Ilustre com um exemplo.\n",
    "42. Qual a finalidade do argumento `inplace` nos métodos de dataframe?\n",
    "43. Como é que podemos ordenar as linhas de um dataframe com base nos valores de uma dada coluna?\n",
    "44. Como é que podemos ordenar um dataframe usando valores de múltiplas colunas?\n",
    "45. Como é que se especifica se queremos ordenar por ordem ascendente ou descendente ao ordenar um dataframe Pandas?\n",
    "46. Como é que se altera um valor específico num dataframe?\n",
    "47. Como é que se converte uma coluna de dataframe para o tipo de dados `datetime`?\n",
    "48. Quais são os benefícios de se utilizar o tipo de dados `datetime` ao invés de `object`?\n",
    "49. Como é que podemos extrair diferentes partes de uma coluna de datas como o mês, ano, mês, dia da semana, etc., em colunas separadas? Ilustre com um exemplo.\n",
    "50. Como é que se agregam múltiplas colunas de um dataframe?\n",
    "51. Qual é a finalidade do método `groupby` de um dataframe? Ilustre com um exemplo.\n",
    "52. Quais são as diferentes formas de agregar os grupos criados por `groupby`?\n",
    "53. O que é que quer dizer uma soma acumulada ou em execução? \n",
    "54. Como é que podemos criar uma nova coluna contendo a soma acumulada ou em execução de outra coluna?\n",
    "55. Quais são as outras medidas cumulativas suportadas pelos dataframes Pandas?\n",
    "56. O que significa fazer o merge de dois dataframes? Dê um exemplo.\n",
    "57. Como é que especifica as colunas que devem ser utilizadas para fazer o merge de dois dataframes?\n",
    "58. Como é que podemos escrever os dados de um dataframe Pandas num ficheiro CSV? Dê um exemplo.\n",
    "59. Dê exemplos de alguns dos outros formatos de ficheiro para os quais podemos escrever a partir de um dataframe Pandas.\n",
    "60. Como é que se cria um gráfico de linhas que mostra os valores de uma coluna de um dataframe?\n",
    "61. Como é que se converte uma coluna de um dataframe no seu índice?\n",
    "62. O índice de um dataframe pode ser não numérico?\n",
    "63. Quais são as vantagens de utilizar um dataframe não numérico? Ilustre com um exemplo.\n",
    "64. Como se cria um gráfico de barras que mostra os valores de uma coluna de um dataframe?\n",
    "65. Quais são alguns dos outros tipos de gráficos suportados pelos dataframes e séries Pandas?"
   ]
  },
  {
   "cell_type": "markdown",
   "metadata": {},
   "source": [
    "## Referências\n",
    "\n",
    "Este notebook é uma adaptação traduzida do curso *<u>Data Analysis with Python: Zero to Pandas</u>* de AaKash N S / [Jovian.ai](https://jovian.ai)\n",
    "\n",
    "Outras referências:\n",
    "* McKinney, W., Python for Data Analysis, 3rd. Ed. O'Reilly. Versão online em https://wesmckinney.com/book/ \n",
    "* Documentação oficial do Python: https://docs.python.org/3/tutorial/index.html\n",
    "* Tutorial Python do W3Schools: https://www.w3schools.com/python/\n",
    "* Practical Python Programming: https://dabeaz-course.github.io/practical-python/Notes/Contents.html\n",
    "* Jupyter Notebooks: https://docs.jupyter.org\n",
    "* Markdown Reference: https://www.markdownguide.org\n"
   ]
  }
 ],
 "metadata": {
  "kernelspec": {
   "display_name": "Python 3",
   "language": "python",
   "name": "python3"
  },
  "language_info": {
   "codemirror_mode": {
    "name": "ipython",
    "version": 3
   },
   "file_extension": ".py",
   "mimetype": "text/x-python",
   "name": "python",
   "nbconvert_exporter": "python",
   "pygments_lexer": "ipython3",
   "version": "3.11.5"
  }
 },
 "nbformat": 4,
 "nbformat_minor": 4
}
