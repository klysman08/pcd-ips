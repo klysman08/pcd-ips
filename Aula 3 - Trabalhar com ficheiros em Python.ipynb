{
 "cells": [
  {
   "cell_type": "markdown",
   "metadata": {},
   "source": [
    "# Ler e Escrever em Ficheiros utilizando o Python\n",
    "\n",
    "![](https://raw.githubusercontent.com/davsimoes/mcde-pds/main/img/ficheiros_em_python.png)"
   ]
  },
  {
   "cell_type": "markdown",
   "metadata": {},
   "source": [
    "Esta aula cobre os seguintes tópicos:\n",
    "\n",
    "- Interagir com o sistema de ficheiros usando o módulo `os`\n",
    "- Descarregar ficheiros da internet usando o módulo `urllib`\n",
    "- Ler e processar dados de ficheiros de texto\n",
    "- Carregar dados de ficheiros CSV para dicionários e listas\n",
    "- Escrever dados formatados de volta para ficheiros de texto"
   ]
  },
  {
   "cell_type": "markdown",
   "metadata": {},
   "source": [
    "### Como executar o código\n",
    "\n",
    "Esta aula é um [Jupyter notebook](https://jupyter.org) executável. Pode _correr_ esta aula e experimentar os exemplos de código de diferentes formas: *localmente no seu computador*, ou *utilizando um serviço online gratuito*.\n",
    "\n",
    "#### Opção 1: Correr localmente no seu computador\n",
    "\n",
    "Para correr localmente o código no seu computador, faça download do notebook e abra o ficheiro com uma aplicação ou ambiente de desenvolvimento suportado, por exemplo:\n",
    "* Visual Studio Code: https://code.visualstudio.com/download\n",
    "* Anaconda: https://www.anaconda.com/download\n",
    "* Miniconda: https://docs.conda.io/projects/miniconda/en/latest/\n",
    "\n",
    "Em qualquer das opções, as aplicações terão de suportar (nativamente ou através de extensões) o [Python](https://www.python.org) e os [Jupyter notebooks](https://jupyter.org), de forma a disponibilizar um ambiente de visualização e execução local com um kernel que execute o código Python contido no notebook.\n",
    "\n",
    "#### Opção 2: Correr num serviço online gratuito\n",
    "\n",
    "Para executar o notebook online, faça upload do notebook para o serviço da sua preferência, por exemplo:\n",
    "* Google Colab: https://colab.google/\n",
    "* Binder (com repositório GitHub): https://mybinder.org/\n",
    "* Kaggle: https://www.kaggle.com/\n",
    "\n",
    "\n",
    ">  **Jupyter Notebooks**: Esta aula é um [Jupyter notebook](https://jupyter.org) - um documento feito de _células_. Cada célula pode conter código escrito em Python ou explicações em português. Pode executar células de código e visualizar os resultados, e.g., números, mensagens, gráficos, tabelas, ficheiros, etc., instantaneamente no notebook. O Jupyter é uma plataforma poderosa para experimentação e análise. Não tenha medo de mexer no código ou estragar alguma coisa - aprenderá muito ao encontrar e corrigir erros. Pode utilizar a opção de menu \"Kernel > Restart & Clear Output\" (Kernel > Reiniciar e Limpar Saída) para limpar todas as saídas e recomeçar do início."
   ]
  },
  {
   "cell_type": "markdown",
   "metadata": {},
   "source": [
    "## Interagir com o Sistema Operativo e sistema de ficheiros\n",
    "\n",
    "O módulo `os` em Python oferece diversas funções para interagir com o Sistema Operativo (SO, ou *OS* em inglês) e o sistema de ficheiros. Vamos importá-lo e experimentar alguns exemplos."
   ]
  },
  {
   "cell_type": "code",
   "execution_count": 2,
   "metadata": {},
   "outputs": [],
   "source": [
    "import os"
   ]
  },
  {
   "cell_type": "markdown",
   "metadata": {},
   "source": [
    "Podemos verificar a diretoria ou pasta de trabalho atual com a função `os.getcwd`."
   ]
  },
  {
   "cell_type": "code",
   "execution_count": 3,
   "metadata": {},
   "outputs": [
    {
     "data": {
      "text/plain": [
       "'g:\\\\My Drive\\\\IPS\\\\Mestrado\\\\UCs\\\\Ciência de Dados'"
      ]
     },
     "execution_count": 3,
     "metadata": {},
     "output_type": "execute_result"
    }
   ],
   "source": [
    "os.getcwd()"
   ]
  },
  {
   "cell_type": "markdown",
   "metadata": {},
   "source": [
    "Para obter a lista de ficheiros numa diretoria, usamos `os.listdir`. Passamos como argumento à função um caminho absoluto ou relativo para uma diretoria."
   ]
  },
  {
   "cell_type": "code",
   "execution_count": 4,
   "metadata": {},
   "outputs": [
    {
     "name": "stdout",
     "output_type": "stream",
     "text": [
      "Help on built-in function listdir in module nt:\n",
      "\n",
      "listdir(path=None)\n",
      "    Return a list containing the names of the files in the directory.\n",
      "    \n",
      "    path can be specified as either str, bytes, or a path-like object.  If path is bytes,\n",
      "      the filenames returned will also be bytes; in all other circumstances\n",
      "      the filenames returned will be str.\n",
      "    If path is None, uses the path='.'.\n",
      "    On some platforms, path may also be specified as an open file descriptor;\\\n",
      "      the file descriptor must refer to a directory.\n",
      "      If this functionality is unavailable, using it raises NotImplementedError.\n",
      "    \n",
      "    The list is in arbitrary order.  It does not include the special\n",
      "    entries '.' and '..' even if they are present in the directory.\n",
      "\n"
     ]
    }
   ],
   "source": [
    "help(os.listdir)"
   ]
  },
  {
   "cell_type": "code",
   "execution_count": 5,
   "metadata": {},
   "outputs": [
    {
     "data": {
      "text/plain": [
       "['.git',\n",
       " 'Aula 2-1 - Decisões e ciclos em Python.ipynb',\n",
       " 'Aula 2-2 - Escrever código reutilizável utilizando funções em Python.ipynb',\n",
       " 'Aula 1-1 - Primeiros passos com Python.ipynb',\n",
       " 'Aula 1-2 - Variáveis e Tipos de Dados em Python.ipynb',\n",
       " 'Aula 3 - Trabalhar com ficheiros em Python.ipynb',\n",
       " 'data2',\n",
       " 'data',\n",
       " 'movies2.csv',\n",
       " 'movies3.csv']"
      ]
     },
     "execution_count": 5,
     "metadata": {},
     "output_type": "execute_result"
    }
   ],
   "source": [
    "os.listdir('.') # caminho relativo"
   ]
  },
  {
   "cell_type": "code",
   "execution_count": 6,
   "metadata": {},
   "outputs": [
    {
     "data": {
      "text/plain": [
       "['.file-revisions-by-id',\n",
       " '.shortcut-targets-by-id',\n",
       " 'Other computers',\n",
       " 'My Drive',\n",
       " '$RECYCLE.BIN']"
      ]
     },
     "execution_count": 6,
     "metadata": {},
     "output_type": "execute_result"
    }
   ],
   "source": [
    "os.listdir('/') # caminho absoluto"
   ]
  },
  {
   "cell_type": "markdown",
   "metadata": {},
   "source": [
    "Podemos criar uma nova diretoria com `os.makedirs`. Vamos criar uma diretoria com o nome `data`, onde guardaremos mais tarde alguns downloads de ficheiros."
   ]
  },
  {
   "cell_type": "code",
   "execution_count": 7,
   "metadata": {},
   "outputs": [],
   "source": [
    "os.makedirs('./data', exist_ok=True)"
   ]
  },
  {
   "cell_type": "code",
   "execution_count": 8,
   "metadata": {},
   "outputs": [
    {
     "name": "stdout",
     "output_type": "stream",
     "text": [
      "Help on function makedirs in module os:\n",
      "\n",
      "makedirs(name, mode=511, exist_ok=False)\n",
      "    makedirs(name [, mode=0o777][, exist_ok=False])\n",
      "    \n",
      "    Super-mkdir; create a leaf directory and all intermediate ones.  Works like\n",
      "    mkdir, except that any intermediate path segment (not just the rightmost)\n",
      "    will be created if it does not exist. If the target directory already\n",
      "    exists, raise an OSError if exist_ok is False. Otherwise no exception is\n",
      "    raised.  This is recursive.\n",
      "\n"
     ]
    }
   ],
   "source": [
    "help(os.makedirs)"
   ]
  },
  {
   "cell_type": "markdown",
   "metadata": {},
   "source": [
    "Consegue descobrir o que faz o argumento `exist_ok`? Experimente usar a função `help` ou [ler a documentação](https://docs.python.org/3/library/os.html#os.makedirs).\n",
    "\n",
    "Vamos verificar que a diretoria foi criada e está atualmente vazia."
   ]
  },
  {
   "cell_type": "code",
   "execution_count": 9,
   "metadata": {},
   "outputs": [
    {
     "data": {
      "text/plain": [
       "True"
      ]
     },
     "execution_count": 9,
     "metadata": {},
     "output_type": "execute_result"
    }
   ],
   "source": [
    "'data' in os.listdir('.')"
   ]
  },
  {
   "cell_type": "code",
   "execution_count": 10,
   "metadata": {},
   "outputs": [
    {
     "data": {
      "text/plain": [
       "['emprestimos1.txt',\n",
       " 'emprestimos2.txt',\n",
       " 'emprestimos3.txt',\n",
       " 'pmis2.txt',\n",
       " 'pmis3.txt',\n",
       " 'pmis1.txt',\n",
       " 'movies.csv']"
      ]
     },
     "execution_count": 10,
     "metadata": {},
     "output_type": "execute_result"
    }
   ],
   "source": [
    "os.listdir('./data')"
   ]
  },
  {
   "cell_type": "markdown",
   "metadata": {},
   "source": [
    "Vamos agora fazer o download de alguns ficheiros para a diretoria `data` usando o módulo `urllib`."
   ]
  },
  {
   "cell_type": "code",
   "execution_count": 13,
   "metadata": {},
   "outputs": [],
   "source": [
    "url1 = 'https://raw.githubusercontent.com/davsimoes/mcde-pds/main/res/emprestimos1.txt'\n",
    "url2 = 'https://raw.githubusercontent.com/davsimoes/mcde-pds/main/res/emprestimos2.txt'\n",
    "url3 = 'https://raw.githubusercontent.com/davsimoes/mcde-pds/main/res/emprestimos3.txt'"
   ]
  },
  {
   "cell_type": "code",
   "execution_count": 65,
   "metadata": {},
   "outputs": [],
   "source": [
    "from urllib.request import urlretrieve"
   ]
  },
  {
   "cell_type": "code",
   "execution_count": 15,
   "metadata": {},
   "outputs": [
    {
     "data": {
      "text/plain": [
       "('./data/emprestimos1.txt', <http.client.HTTPMessage at 0x27e8e035bd0>)"
      ]
     },
     "execution_count": 15,
     "metadata": {},
     "output_type": "execute_result"
    }
   ],
   "source": [
    "urlretrieve(url1, './data/emprestimos1.txt')"
   ]
  },
  {
   "cell_type": "code",
   "execution_count": 16,
   "metadata": {},
   "outputs": [
    {
     "data": {
      "text/plain": [
       "('./data/emprestimos2.txt', <http.client.HTTPMessage at 0x27e8e0355d0>)"
      ]
     },
     "execution_count": 16,
     "metadata": {},
     "output_type": "execute_result"
    }
   ],
   "source": [
    "urlretrieve(url2, './data/emprestimos2.txt')"
   ]
  },
  {
   "cell_type": "code",
   "execution_count": 17,
   "metadata": {},
   "outputs": [
    {
     "data": {
      "text/plain": [
       "('./data/emprestimos3.txt', <http.client.HTTPMessage at 0x27e8e035900>)"
      ]
     },
     "execution_count": 17,
     "metadata": {},
     "output_type": "execute_result"
    }
   ],
   "source": [
    "urlretrieve(url3, './data/emprestimos3.txt')"
   ]
  },
  {
   "cell_type": "markdown",
   "metadata": {},
   "source": [
    "Vamos verificar que os ficheiros foram descarregados."
   ]
  },
  {
   "cell_type": "code",
   "execution_count": 11,
   "metadata": {},
   "outputs": [
    {
     "data": {
      "text/plain": [
       "['emprestimos1.txt',\n",
       " 'emprestimos2.txt',\n",
       " 'emprestimos3.txt',\n",
       " 'pmis2.txt',\n",
       " 'pmis3.txt',\n",
       " 'pmis1.txt',\n",
       " 'movies.csv']"
      ]
     },
     "execution_count": 11,
     "metadata": {},
     "output_type": "execute_result"
    }
   ],
   "source": [
    "os.listdir('./data')"
   ]
  },
  {
   "cell_type": "markdown",
   "metadata": {},
   "source": [
    "Podemos também usar a biblioteca [`requests`](https://docs.python-requests.org/en/master/) para fazer o download de URLs, embora seja necessário [escrever algum código adicional](https://stackoverflow.com/questions/44699682/how-to-save-a-file-downloaded-from-requests-to-another-directory) para guardar o conteúdo da página num ficheiro."
   ]
  },
  {
   "cell_type": "markdown",
   "metadata": {},
   "source": [
    "## Ler de um ficheiro \n",
    "\n",
    "Para ler o conteúdo de um ficheiro, primeiro temos de abrir o ficheiro usando a função `open`. A função `open` retorna um objeto do tipo ficheiro e oferece vários métodos para interagir com o conteúdo do ficheiro."
   ]
  },
  {
   "cell_type": "code",
   "execution_count": 12,
   "metadata": {},
   "outputs": [],
   "source": [
    "ficheiro1 = open('./data/emprestimos1.txt', mode='r')"
   ]
  },
  {
   "cell_type": "markdown",
   "metadata": {},
   "source": [
    "A função `open` aceita também um argumento `mode` para especificar como é que podemos interagir com o ficheiro. São suportadas as seguintes opções: \n",
    "\n",
    "```\n",
    "    ========= ==================================================================\n",
    "    Caracter  Significado\n",
    "    --------- ------------------------------------------------------------------\n",
    "    'r'       abrir para leitura (default)\n",
    "    'w'       abrir para escrita, truncando primeiro o ficheiro\n",
    "    'x'       criar um novo ficheiro e abri-lo para escrita (erro se já existir)\n",
    "    'a'       abrir para escrita, acrescentando ao final do ficheiro, se existir\n",
    "    'b'       modo binário\n",
    "    't'       modo texto (default)\n",
    "    '+'       abrir ficheiro para atualização (leitura e escrita) ex: r+, w+, a+\n",
    "    ========= ==================================================================\n",
    "```\n",
    "\n",
    "Para visualizar o conteúdo do ficheiro, podemos usar o método `read` do objeto ficheiro."
   ]
  },
  {
   "cell_type": "code",
   "execution_count": 13,
   "metadata": {},
   "outputs": [],
   "source": [
    "ficheiro1_conteudo = ficheiro1.read()"
   ]
  },
  {
   "cell_type": "code",
   "execution_count": 14,
   "metadata": {},
   "outputs": [
    {
     "name": "stdout",
     "output_type": "stream",
     "text": [
      "montante,duracao,taxa,entrada\n",
      "100000,36,0.08,20000\n",
      "200000,12,0.1,\n",
      "628400,120,0.12,100000\n",
      "4637400,240,0.06,\n",
      "42900,90,0.07,8900\n",
      "916000,16,0.13,\n",
      "45230,48,0.08,4300\n",
      "991360,99,0.08,\n",
      "423000,27,0.09,47200\n"
     ]
    }
   ],
   "source": [
    "print(ficheiro1_conteudo)"
   ]
  },
  {
   "cell_type": "markdown",
   "metadata": {},
   "source": [
    "O ficheiro contém informação sobre empréstimos, e está organizado num conjunto de valores separados por vírgulas *(comma-separated values, CSV)*. \n",
    "\n",
    "> **CSVs**: Um ficheiro de valores separados por vírgula (CSV) é um ficheiro de texto delimitado que utiliza uma vírgula para separar os valores. Cada linha do ficheiro é um registo de dados. Cada registo é composto por um ou mais campos, separados por vírgulas. Normalmente, um ficheiro CSV armazena dados tabulares (números e texto), caso em que cada linha terá o mesmo número de campos. (Wikipedia)\n",
    "\n",
    "A primeira linha do ficheiro é o cabeçalho, indicando o que é que representam os números nas restantes linhas. Cada uma das restantes linhas fornecem informação sobre um empréstimo. \n",
    "\n",
    "Assim, a segunda linha `100000,36,0.08,20000` representa um empréstimo com:\n",
    "\n",
    "* um *montante* de `100000€`, \n",
    "* uma *duração* of `36` meses, \n",
    "* uma *taxa de juro* de `8%` ao ano, e \n",
    "* uma *entrada* de `20000€`\n",
    "\n",
    "O CSV é um formato de ficheiro standard usado para partilhar dados para análise e visualização. Ao longo desta aula, vamos ler dados destes ficheiros CSV, processar esses dados, e escrever os resultados de volta para ficheiros.\n",
    "\n",
    "Antes de continuarmos, vamos fechar o ficheiro usando o método `close` (de outra forma, o Python continuará a manter todo o conteúdo do ficheiro em memória RAM)"
   ]
  },
  {
   "cell_type": "code",
   "execution_count": 15,
   "metadata": {},
   "outputs": [],
   "source": [
    "ficheiro1.close()"
   ]
  },
  {
   "cell_type": "markdown",
   "metadata": {},
   "source": [
    "Uma vez fechado, já não podemos ler do ficheiro."
   ]
  },
  {
   "cell_type": "code",
   "execution_count": 16,
   "metadata": {},
   "outputs": [
    {
     "ename": "ValueError",
     "evalue": "I/O operation on closed file.",
     "output_type": "error",
     "traceback": [
      "\u001b[1;31m---------------------------------------------------------------------------\u001b[0m",
      "\u001b[1;31mValueError\u001b[0m                                Traceback (most recent call last)",
      "Cell \u001b[1;32mIn[16], line 1\u001b[0m\n\u001b[1;32m----> 1\u001b[0m \u001b[43mficheiro1\u001b[49m\u001b[38;5;241;43m.\u001b[39;49m\u001b[43mread\u001b[49m\u001b[43m(\u001b[49m\u001b[43m)\u001b[49m\n",
      "\u001b[1;31mValueError\u001b[0m: I/O operation on closed file."
     ]
    }
   ],
   "source": [
    "ficheiro1.read()"
   ]
  },
  {
   "cell_type": "markdown",
   "metadata": {},
   "source": [
    "## Fechar ficheiros automaticamente usando o `with`\n",
    "\n",
    "Para fechar um ficheiro automaticamente depois de processado, podemos abrir o ficheiro usando a instrução `with`."
   ]
  },
  {
   "cell_type": "code",
   "execution_count": 17,
   "metadata": {},
   "outputs": [
    {
     "name": "stdout",
     "output_type": "stream",
     "text": [
      "montante,duracao,taxa,entrada\n",
      "828400,120,0.11,100000\n",
      "4633400,240,0.06,\n",
      "42900,90,0.08,8900\n",
      "983000,16,0.14,\n",
      "15230,48,0.07,4300\n"
     ]
    }
   ],
   "source": [
    "with open('./data/emprestimos2.txt') as ficheiro2:\n",
    "    ficheiro2_conteudo = ficheiro2.read()\n",
    "    print(ficheiro2_conteudo)"
   ]
  },
  {
   "cell_type": "markdown",
   "metadata": {},
   "source": [
    "Uma vez executado o bloco de instruções dentro do `with`, é invocado automaticamente o método `.close` no `ficheiro2`. Vamos verificar se isto é verdade tentando ler novamente do objeto ficheiro."
   ]
  },
  {
   "cell_type": "code",
   "execution_count": 18,
   "metadata": {},
   "outputs": [
    {
     "ename": "ValueError",
     "evalue": "I/O operation on closed file.",
     "output_type": "error",
     "traceback": [
      "\u001b[1;31m---------------------------------------------------------------------------\u001b[0m",
      "\u001b[1;31mValueError\u001b[0m                                Traceback (most recent call last)",
      "Cell \u001b[1;32mIn[18], line 1\u001b[0m\n\u001b[1;32m----> 1\u001b[0m \u001b[43mficheiro2\u001b[49m\u001b[38;5;241;43m.\u001b[39;49m\u001b[43mread\u001b[49m\u001b[43m(\u001b[49m\u001b[43m)\u001b[49m\n",
      "\u001b[1;31mValueError\u001b[0m: I/O operation on closed file."
     ]
    }
   ],
   "source": [
    "ficheiro2.read()"
   ]
  },
  {
   "cell_type": "markdown",
   "metadata": {},
   "source": [
    "## Ler um ficheiro linha a linha\n",
    "\n",
    "Os objetos ficheiro oferecem um método `readlines` para ler um ficheiro linha a linha. "
   ]
  },
  {
   "cell_type": "code",
   "execution_count": 19,
   "metadata": {},
   "outputs": [],
   "source": [
    "with open('./data/emprestimos3.txt', 'r') as ficheiro3:\n",
    "    ficheiro3_linhas = ficheiro3.readlines()"
   ]
  },
  {
   "cell_type": "code",
   "execution_count": 20,
   "metadata": {},
   "outputs": [
    {
     "data": {
      "text/plain": [
       "['montante,duracao,taxa,entrada\\n',\n",
       " '45230,48,0.07,4300\\n',\n",
       " '883000,16,0.14,\\n',\n",
       " '100000,12,0.1,\\n',\n",
       " '728400,120,0.12,100000\\n',\n",
       " '3637400,240,0.06,\\n',\n",
       " '82900,90,0.07,8900\\n',\n",
       " '316000,16,0.13,\\n',\n",
       " '15230,48,0.08,4300\\n',\n",
       " '991360,99,0.08,\\n',\n",
       " '323000,27,0.09,\\n',\n",
       " '4720010000,36,0.08,20000\\n',\n",
       " '528400,120,0.11,100000\\n',\n",
       " '8633400,240,0.06,\\n',\n",
       " '12900,90,0.08,8900\\n']"
      ]
     },
     "execution_count": 20,
     "metadata": {},
     "output_type": "execute_result"
    }
   ],
   "source": [
    "ficheiro3_linhas"
   ]
  },
  {
   "cell_type": "markdown",
   "metadata": {},
   "source": [
    "## Processar dados de ficheiros\n",
    "\n",
    "Antes de efetuarmos quaisquer operações nos dados armazenados num ficheiros, temos de converter o conteúdo do ficheiro (uma única grande string) para os tipos de dados do Python. Para o ficheiro `emprestimos1.txt` contendo informação sobre empréstimos num formato CSV, podemos fazer o seguinte:\n",
    "\n",
    "* Ler o ficheiro linha a linha\n",
    "* Processar a primeira linha para obter um lista de headers ou nomes de coluna\n",
    "* Separar cada linha restante e converter cada valor num float\n",
    "* Criar um dicionário para cada empréstimo usando os headers como chaves\n",
    "* Criar uma lista de dicionários para manter o registo de todos os empréstimos\n",
    "\n",
    "Dado que vamos efetuar as mesmas operações sobre múltiplos ficheiros, pode ser útil definir a função `ler_csv`. Vamos também definir algumas funções de suporte para construir a funcionalidade passo a passo. \n",
    "\n",
    "Vamos começar por definir uma função `processar_headers` que recebe uma linha como input e devolve uma lista de headers de coluna."
   ]
  },
  {
   "cell_type": "code",
   "execution_count": 21,
   "metadata": {},
   "outputs": [],
   "source": [
    "def processar_headers(linha_de_header):\n",
    "    return linha_de_header.strip().split(',')"
   ]
  },
  {
   "cell_type": "markdown",
   "metadata": {},
   "source": [
    "O método `strip` remove eventuais espaços extra e o caracter de nova linha `\\n`. O método `split` parte a string para uma lista usando um dado separador (`,` neste caso)."
   ]
  },
  {
   "cell_type": "code",
   "execution_count": 22,
   "metadata": {},
   "outputs": [
    {
     "data": {
      "text/plain": [
       "'montante,duracao,taxa,entrada\\n'"
      ]
     },
     "execution_count": 22,
     "metadata": {},
     "output_type": "execute_result"
    }
   ],
   "source": [
    "ficheiro3_linhas[0]"
   ]
  },
  {
   "cell_type": "code",
   "execution_count": 23,
   "metadata": {},
   "outputs": [],
   "source": [
    "headers = processar_headers(ficheiro3_linhas[0])"
   ]
  },
  {
   "cell_type": "code",
   "execution_count": 24,
   "metadata": {},
   "outputs": [
    {
     "data": {
      "text/plain": [
       "['montante', 'duracao', 'taxa', 'entrada']"
      ]
     },
     "execution_count": 24,
     "metadata": {},
     "output_type": "execute_result"
    }
   ],
   "source": [
    "headers"
   ]
  },
  {
   "cell_type": "markdown",
   "metadata": {},
   "source": [
    "A seguir, vamos definir uma função `processar_valores` que recebe uma linha com dados e retorna uma lista de números float."
   ]
  },
  {
   "cell_type": "code",
   "execution_count": 25,
   "metadata": {},
   "outputs": [],
   "source": [
    "def processar_valores(linha_de_dados):\n",
    "    valores = []\n",
    "    for item in linha_de_dados.strip().split(','):\n",
    "        valores.append(float(item))\n",
    "    return valores"
   ]
  },
  {
   "cell_type": "code",
   "execution_count": 26,
   "metadata": {},
   "outputs": [
    {
     "data": {
      "text/plain": [
       "'45230,48,0.07,4300\\n'"
      ]
     },
     "execution_count": 26,
     "metadata": {},
     "output_type": "execute_result"
    }
   ],
   "source": [
    "ficheiro3_linhas[1]"
   ]
  },
  {
   "cell_type": "code",
   "execution_count": 27,
   "metadata": {},
   "outputs": [
    {
     "data": {
      "text/plain": [
       "[45230.0, 48.0, 0.07, 4300.0]"
      ]
     },
     "execution_count": 27,
     "metadata": {},
     "output_type": "execute_result"
    }
   ],
   "source": [
    "processar_valores(ficheiro3_linhas[1])"
   ]
  },
  {
   "cell_type": "markdown",
   "metadata": {},
   "source": [
    "Os valores foram processados e convertidos em floats, conforme esperado. Vamos tentar o mesmo para outra linha do ficheiro, que não contém um valor para a entrada."
   ]
  },
  {
   "cell_type": "code",
   "execution_count": 28,
   "metadata": {},
   "outputs": [
    {
     "data": {
      "text/plain": [
       "'883000,16,0.14,\\n'"
      ]
     },
     "execution_count": 28,
     "metadata": {},
     "output_type": "execute_result"
    }
   ],
   "source": [
    "ficheiro3_linhas[2]"
   ]
  },
  {
   "cell_type": "code",
   "execution_count": 29,
   "metadata": {},
   "outputs": [
    {
     "ename": "ValueError",
     "evalue": "could not convert string to float: ''",
     "output_type": "error",
     "traceback": [
      "\u001b[1;31m---------------------------------------------------------------------------\u001b[0m",
      "\u001b[1;31mValueError\u001b[0m                                Traceback (most recent call last)",
      "Cell \u001b[1;32mIn[29], line 1\u001b[0m\n\u001b[1;32m----> 1\u001b[0m \u001b[43mprocessar_valores\u001b[49m\u001b[43m(\u001b[49m\u001b[43mficheiro3_linhas\u001b[49m\u001b[43m[\u001b[49m\u001b[38;5;241;43m2\u001b[39;49m\u001b[43m]\u001b[49m\u001b[43m)\u001b[49m\n",
      "Cell \u001b[1;32mIn[25], line 4\u001b[0m, in \u001b[0;36mprocessar_valores\u001b[1;34m(linha_de_dados)\u001b[0m\n\u001b[0;32m      2\u001b[0m valores \u001b[38;5;241m=\u001b[39m []\n\u001b[0;32m      3\u001b[0m \u001b[38;5;28;01mfor\u001b[39;00m item \u001b[38;5;129;01min\u001b[39;00m linha_de_dados\u001b[38;5;241m.\u001b[39mstrip()\u001b[38;5;241m.\u001b[39msplit(\u001b[38;5;124m'\u001b[39m\u001b[38;5;124m,\u001b[39m\u001b[38;5;124m'\u001b[39m):\n\u001b[1;32m----> 4\u001b[0m     valores\u001b[38;5;241m.\u001b[39mappend(\u001b[38;5;28;43mfloat\u001b[39;49m\u001b[43m(\u001b[49m\u001b[43mitem\u001b[49m\u001b[43m)\u001b[49m)\n\u001b[0;32m      5\u001b[0m \u001b[38;5;28;01mreturn\u001b[39;00m valores\n",
      "\u001b[1;31mValueError\u001b[0m: could not convert string to float: ''"
     ]
    }
   ],
   "source": [
    "processar_valores(ficheiro3_linhas[2])"
   ]
  },
  {
   "cell_type": "markdown",
   "metadata": {},
   "source": [
    "O código acima gera um `ValueError` porque a string vazia `''` não pode ser convertida para um float. Podemos melhorar a função `processar_valores` para lidar com este *caso fronteira*. Podemos também tratar o caso em que o valor não é um float."
   ]
  },
  {
   "cell_type": "code",
   "execution_count": 32,
   "metadata": {},
   "outputs": [],
   "source": [
    "def processar_valores(linha_de_dados):\n",
    "    valores = []\n",
    "    for item in linha_de_dados.strip().split(','):\n",
    "        if item == '':\n",
    "            valores.append(0.0)\n",
    "        else:\n",
    "            try:\n",
    "                valores.append(float(item))\n",
    "            except ValueError:\n",
    "                valores.append(item)\n",
    "    return valores"
   ]
  },
  {
   "cell_type": "code",
   "execution_count": 33,
   "metadata": {},
   "outputs": [
    {
     "data": {
      "text/plain": [
       "'883000,16,0.14,\\n'"
      ]
     },
     "execution_count": 33,
     "metadata": {},
     "output_type": "execute_result"
    }
   ],
   "source": [
    "ficheiro3_linhas[2]"
   ]
  },
  {
   "cell_type": "code",
   "execution_count": 34,
   "metadata": {},
   "outputs": [
    {
     "data": {
      "text/plain": [
       "[883000.0, 16.0, 0.14, 0.0]"
      ]
     },
     "execution_count": 34,
     "metadata": {},
     "output_type": "execute_result"
    }
   ],
   "source": [
    "processar_valores(ficheiro3_linhas[2])"
   ]
  },
  {
   "cell_type": "markdown",
   "metadata": {},
   "source": [
    "A seguir, vamos definir a função `criar_item_dic` que recebe como inputs uma lista de valores e uma lista de headers e retorna um dicionário com os valores associados aos seus respetivos headers como chaves.\n"
   ]
  },
  {
   "cell_type": "code",
   "execution_count": 35,
   "metadata": {},
   "outputs": [],
   "source": [
    "def criar_item_dic(valores, headers):\n",
    "    resultado = {}\n",
    "    for valor, header in zip(valores, headers):\n",
    "        resultado[header] = valor\n",
    "    return resultado"
   ]
  },
  {
   "cell_type": "markdown",
   "metadata": {},
   "source": [
    "Consegue descobrir o que faz a função incorporada do Python `zip`? Experimente um exemplo, ou [leia a documentação](https://docs.python.org/3.3/library/functions.html#zip)."
   ]
  },
  {
   "cell_type": "code",
   "execution_count": 36,
   "metadata": {},
   "outputs": [
    {
     "name": "stdout",
     "output_type": "stream",
     "text": [
      "(1, 'a')\n",
      "(2, 'b')\n",
      "(3, 'c')\n"
     ]
    }
   ],
   "source": [
    "for item in zip([1,2,3], ['a', 'b', 'c']):\n",
    "    print(item)"
   ]
  },
  {
   "cell_type": "markdown",
   "metadata": {},
   "source": [
    "Vamos experimentar o `criar_item_dic` com um ou dois exemplos."
   ]
  },
  {
   "cell_type": "code",
   "execution_count": 37,
   "metadata": {},
   "outputs": [
    {
     "data": {
      "text/plain": [
       "'45230,48,0.07,4300\\n'"
      ]
     },
     "execution_count": 37,
     "metadata": {},
     "output_type": "execute_result"
    }
   ],
   "source": [
    "ficheiro3_linhas[1]"
   ]
  },
  {
   "cell_type": "code",
   "execution_count": 38,
   "metadata": {},
   "outputs": [
    {
     "data": {
      "text/plain": [
       "{'montante': 45230.0, 'duracao': 48.0, 'taxa': 0.07, 'entrada': 4300.0}"
      ]
     },
     "execution_count": 38,
     "metadata": {},
     "output_type": "execute_result"
    }
   ],
   "source": [
    "valores1 = processar_valores(ficheiro3_linhas[1])\n",
    "criar_item_dic(valores1, headers)"
   ]
  },
  {
   "cell_type": "code",
   "execution_count": 39,
   "metadata": {},
   "outputs": [
    {
     "data": {
      "text/plain": [
       "'883000,16,0.14,\\n'"
      ]
     },
     "execution_count": 39,
     "metadata": {},
     "output_type": "execute_result"
    }
   ],
   "source": [
    "ficheiro3_linhas[2]"
   ]
  },
  {
   "cell_type": "code",
   "execution_count": 45,
   "metadata": {},
   "outputs": [
    {
     "data": {
      "text/plain": [
       "{'montante': 883000.0, 'duracao': 16.0, 'taxa': 0.14, 'entrada': 0.0}"
      ]
     },
     "execution_count": 45,
     "metadata": {},
     "output_type": "execute_result"
    }
   ],
   "source": [
    "valores2 = processar_valores(ficheiro3_linhas[2])\n",
    "criar_item_dic(valores2, headers)"
   ]
  },
  {
   "cell_type": "markdown",
   "metadata": {},
   "source": [
    "Tal como esperado, os valores e headers foram combinados de forma a criar um dicionário com os pares chave-valor apropriados.\n",
    "\n",
    "Estamos agora prontos para juntar tudo e definir a função `ler_csv`."
   ]
  },
  {
   "cell_type": "code",
   "execution_count": 40,
   "metadata": {},
   "outputs": [],
   "source": [
    "def ler_csv(caminho):\n",
    "    resultado = []\n",
    "    # Abrir o ficheiro em modo leitura\n",
    "    with open(caminho, 'r') as f:\n",
    "        # Obter uma lista de linhas\n",
    "        linhas = f.readlines()\n",
    "        # Processar o header\n",
    "        headers = processar_headers(linhas[0])\n",
    "        # Iterar sobre as restantes linhas\n",
    "        for linha_de_dados in linhas[1:]:\n",
    "            # Processar os valores\n",
    "            valores = processar_valores(linha_de_dados)\n",
    "            # Criar um dicionário usando valores & headers\n",
    "            item_dic = criar_item_dic(valores, headers)\n",
    "            # Adicionar o dicionário aos resultados\n",
    "            resultado.append(item_dic)\n",
    "    return resultado"
   ]
  },
  {
   "cell_type": "markdown",
   "metadata": {},
   "source": [
    "Vamos experimentar!"
   ]
  },
  {
   "cell_type": "code",
   "execution_count": 41,
   "metadata": {},
   "outputs": [
    {
     "name": "stdout",
     "output_type": "stream",
     "text": [
      "montante,duracao,taxa,entrada\n",
      "828400,120,0.11,100000\n",
      "4633400,240,0.06,\n",
      "42900,90,0.08,8900\n",
      "983000,16,0.14,\n",
      "15230,48,0.07,4300\n"
     ]
    }
   ],
   "source": [
    "with open('./data/emprestimos2.txt') as ficheiro2:\n",
    "    print(ficheiro2.read())"
   ]
  },
  {
   "cell_type": "code",
   "execution_count": 42,
   "metadata": {},
   "outputs": [
    {
     "data": {
      "text/plain": [
       "[{'montante': 828400.0, 'duracao': 120.0, 'taxa': 0.11, 'entrada': 100000.0},\n",
       " {'montante': 4633400.0, 'duracao': 240.0, 'taxa': 0.06, 'entrada': 0.0},\n",
       " {'montante': 42900.0, 'duracao': 90.0, 'taxa': 0.08, 'entrada': 8900.0},\n",
       " {'montante': 983000.0, 'duracao': 16.0, 'taxa': 0.14, 'entrada': 0.0},\n",
       " {'montante': 15230.0, 'duracao': 48.0, 'taxa': 0.07, 'entrada': 4300.0}]"
      ]
     },
     "execution_count": 42,
     "metadata": {},
     "output_type": "execute_result"
    }
   ],
   "source": [
    "ler_csv('./data/emprestimos2.txt')"
   ]
  },
  {
   "cell_type": "markdown",
   "metadata": {},
   "source": [
    "O ficheiro foi lido e convertido numa lista de dicionários, como esperado. A função `ler_csv` é suficientemente genérica para ser capaz de processar qualquer ficheiro no formato CSV, com qualquer número de linhas ou colunas. Aqui fica o código completo do `ler_csv` juntamente com as funções de suporte:"
   ]
  },
  {
   "cell_type": "code",
   "execution_count": 43,
   "metadata": {},
   "outputs": [],
   "source": [
    "def processar_headers(linha_de_header):\n",
    "    return linha_de_header.strip().split(',')\n",
    "\n",
    "def processar_valores(linha_de_dados):\n",
    "    valores = []\n",
    "    for item in linha_de_dados.strip().split(','):\n",
    "        if item == '':\n",
    "            valores.append(0.0)\n",
    "        else:\n",
    "            try:\n",
    "                valores.append(float(item))\n",
    "            except ValueError:\n",
    "                valores.append(item)\n",
    "    return valores\n",
    "\n",
    "def criar_item_dic(valores, headers):\n",
    "    resultado = {}\n",
    "    for valor, header in zip(valores, headers):\n",
    "        resultado[header] = valor\n",
    "    return resultado\n",
    "\n",
    "def ler_csv(caminho):\n",
    "    resultado = []\n",
    "    # Abrir o ficheiro em modo leitura\n",
    "    with open(caminho, 'r') as f:\n",
    "        # Obter uma lista de linhas\n",
    "        linhas = f.readlines()\n",
    "        # Processar o header\n",
    "        headers = processar_headers(linhas[0])\n",
    "        # Iterar sobre as restantes linhas\n",
    "        for linha_de_dados in linhas[1:]:\n",
    "            # Processar os valores\n",
    "            valores = processar_valores(linha_de_dados)\n",
    "            # Criar um dicionário usando valores & headers\n",
    "            item_dic = criar_item_dic(valores, headers)\n",
    "            # Adicionar o dicionário aos resultados\n",
    "            resultado.append(item_dic)\n",
    "    return resultado"
   ]
  },
  {
   "cell_type": "markdown",
   "metadata": {},
   "source": [
    "Sempre que possível, devemos tentar criar funções que sejam pequenas, genéricas e reutilizáveis. Dessa forma, elas serão provavelmente úteis para além do problema atual e no futuro poderão poupar-nos um esforço significativo.\n",
    "\n",
    "Na aula anterior definimos uma função para calcular as prestações mensais de um empréstimo:"
   ]
  },
  {
   "cell_type": "code",
   "execution_count": 44,
   "metadata": {},
   "outputs": [],
   "source": [
    "import math\n",
    "\n",
    "def emprestimo_pmi(montante, duracao, taxa, entrada=0):\n",
    "    \"\"\"Calcula a prestação mensal igual (PMI) para um empréstimo.\n",
    "    \n",
    "    Argumentos:\n",
    "        montante - Montante total a aplicar (empréstimo + entrada)\n",
    "        duracao - Duração do empréstimo (em meses)\n",
    "        taxa - Taxa de juro (mensal)\n",
    "        entrada (opcional) - Entrada opcional (deduzida do montante)\n",
    "    \"\"\"\n",
    "    montante_emprestimo = montante - entrada\n",
    "    try:\n",
    "        pmi = montante_emprestimo * taxa * ((1+taxa)**duracao) / (((1+taxa)**duracao)-1)\n",
    "    except ZeroDivisionError:\n",
    "        pmi = montante_emprestimo / duracao\n",
    "    pmi = math.ceil(pmi)\n",
    "    return pmi"
   ]
  },
  {
   "cell_type": "markdown",
   "metadata": {},
   "source": [
    "Podemos usar esta função para calcular os PMIs para todos os empréstimos num ficheiro."
   ]
  },
  {
   "cell_type": "code",
   "execution_count": 45,
   "metadata": {},
   "outputs": [],
   "source": [
    "emprestimos2 = ler_csv('./data/emprestimos2.txt')"
   ]
  },
  {
   "cell_type": "code",
   "execution_count": 46,
   "metadata": {},
   "outputs": [
    {
     "data": {
      "text/plain": [
       "[{'montante': 828400.0, 'duracao': 120.0, 'taxa': 0.11, 'entrada': 100000.0},\n",
       " {'montante': 4633400.0, 'duracao': 240.0, 'taxa': 0.06, 'entrada': 0.0},\n",
       " {'montante': 42900.0, 'duracao': 90.0, 'taxa': 0.08, 'entrada': 8900.0},\n",
       " {'montante': 983000.0, 'duracao': 16.0, 'taxa': 0.14, 'entrada': 0.0},\n",
       " {'montante': 15230.0, 'duracao': 48.0, 'taxa': 0.07, 'entrada': 4300.0}]"
      ]
     },
     "execution_count": 46,
     "metadata": {},
     "output_type": "execute_result"
    }
   ],
   "source": [
    "emprestimos2"
   ]
  },
  {
   "cell_type": "code",
   "execution_count": 47,
   "metadata": {},
   "outputs": [],
   "source": [
    "for emprestimo in emprestimos2:\n",
    "    emprestimo['pmi'] = emprestimo_pmi(emprestimo['montante'], \n",
    "                           emprestimo['duracao'], \n",
    "                           emprestimo['taxa']/12, # o CSV contém taxas anuais\n",
    "                           emprestimo['entrada'])"
   ]
  },
  {
   "cell_type": "code",
   "execution_count": 48,
   "metadata": {},
   "outputs": [
    {
     "data": {
      "text/plain": [
       "[{'montante': 828400.0,\n",
       "  'duracao': 120.0,\n",
       "  'taxa': 0.11,\n",
       "  'entrada': 100000.0,\n",
       "  'pmi': 10034},\n",
       " {'montante': 4633400.0,\n",
       "  'duracao': 240.0,\n",
       "  'taxa': 0.06,\n",
       "  'entrada': 0.0,\n",
       "  'pmi': 33196},\n",
       " {'montante': 42900.0,\n",
       "  'duracao': 90.0,\n",
       "  'taxa': 0.08,\n",
       "  'entrada': 8900.0,\n",
       "  'pmi': 504},\n",
       " {'montante': 983000.0,\n",
       "  'duracao': 16.0,\n",
       "  'taxa': 0.14,\n",
       "  'entrada': 0.0,\n",
       "  'pmi': 67707},\n",
       " {'montante': 15230.0,\n",
       "  'duracao': 48.0,\n",
       "  'taxa': 0.07,\n",
       "  'entrada': 4300.0,\n",
       "  'pmi': 262}]"
      ]
     },
     "execution_count": 48,
     "metadata": {},
     "output_type": "execute_result"
    }
   ],
   "source": [
    "emprestimos2"
   ]
  },
  {
   "cell_type": "markdown",
   "metadata": {},
   "source": [
    "Podemos ver que cada empréstimo tem agora uma nova chave `pmi`, que fornece o PMI para o empréstimo. Podemos extrair esta lógica para uma função para a podermos usar com outros ficheiros."
   ]
  },
  {
   "cell_type": "code",
   "execution_count": 49,
   "metadata": {},
   "outputs": [],
   "source": [
    "def calcular_pmis(emprestimos):\n",
    "    for emprestimo in emprestimos:\n",
    "        emprestimo['pmi'] = emprestimo_pmi(\n",
    "            emprestimo['montante'], \n",
    "            emprestimo['duracao'], \n",
    "            emprestimo['taxa']/12, # o CSV contém taxas anuais\n",
    "            emprestimo['entrada'])"
   ]
  },
  {
   "cell_type": "markdown",
   "metadata": {},
   "source": [
    "## Escrever em ficheiros\n",
    "\n",
    "Agora que fizemos algum processamento sobre os dados, seria interessante escrever os resultados de volta para um ficheiro CSV. Podemos criar/abrir um ficheiro em modo `w` utilizando o `open` e escrever para o ficheiro usando o método `.write`. O método `format` para formatação de strings vai-nos ser útil nessa parte."
   ]
  },
  {
   "cell_type": "code",
   "execution_count": 50,
   "metadata": {},
   "outputs": [],
   "source": [
    "emprestimos2 = ler_csv('./data/emprestimos2.txt')"
   ]
  },
  {
   "cell_type": "code",
   "execution_count": 51,
   "metadata": {},
   "outputs": [],
   "source": [
    "calcular_pmis(emprestimos2)"
   ]
  },
  {
   "cell_type": "code",
   "execution_count": 52,
   "metadata": {},
   "outputs": [
    {
     "data": {
      "text/plain": [
       "[{'montante': 828400.0,\n",
       "  'duracao': 120.0,\n",
       "  'taxa': 0.11,\n",
       "  'entrada': 100000.0,\n",
       "  'pmi': 10034},\n",
       " {'montante': 4633400.0,\n",
       "  'duracao': 240.0,\n",
       "  'taxa': 0.06,\n",
       "  'entrada': 0.0,\n",
       "  'pmi': 33196},\n",
       " {'montante': 42900.0,\n",
       "  'duracao': 90.0,\n",
       "  'taxa': 0.08,\n",
       "  'entrada': 8900.0,\n",
       "  'pmi': 504},\n",
       " {'montante': 983000.0,\n",
       "  'duracao': 16.0,\n",
       "  'taxa': 0.14,\n",
       "  'entrada': 0.0,\n",
       "  'pmi': 67707},\n",
       " {'montante': 15230.0,\n",
       "  'duracao': 48.0,\n",
       "  'taxa': 0.07,\n",
       "  'entrada': 4300.0,\n",
       "  'pmi': 262}]"
      ]
     },
     "execution_count": 52,
     "metadata": {},
     "output_type": "execute_result"
    }
   ],
   "source": [
    "emprestimos2"
   ]
  },
  {
   "cell_type": "code",
   "execution_count": 53,
   "metadata": {},
   "outputs": [],
   "source": [
    "with open('./data/pmis2.txt', 'w') as f:\n",
    "    for emprestimo in emprestimos2:\n",
    "        f.write('{},{},{},{},{}\\n'.format(\n",
    "            emprestimo['montante'], \n",
    "            emprestimo['duracao'], \n",
    "            emprestimo['taxa'], \n",
    "            emprestimo['entrada'], \n",
    "            emprestimo['pmi']))"
   ]
  },
  {
   "cell_type": "markdown",
   "metadata": {},
   "source": [
    "Vamos verificar que o ficheiro foi criado e preenchido como esperado."
   ]
  },
  {
   "cell_type": "code",
   "execution_count": 54,
   "metadata": {},
   "outputs": [
    {
     "data": {
      "text/plain": [
       "['emprestimos1.txt',\n",
       " 'emprestimos2.txt',\n",
       " 'emprestimos3.txt',\n",
       " 'pmis2.txt',\n",
       " 'pmis3.txt',\n",
       " 'pmis1.txt',\n",
       " 'movies.csv']"
      ]
     },
     "execution_count": 54,
     "metadata": {},
     "output_type": "execute_result"
    }
   ],
   "source": [
    "os.listdir('data')"
   ]
  },
  {
   "cell_type": "code",
   "execution_count": 55,
   "metadata": {},
   "outputs": [
    {
     "name": "stdout",
     "output_type": "stream",
     "text": [
      "828400.0,120.0,0.11,100000.0,10034\n",
      "4633400.0,240.0,0.06,0.0,33196\n",
      "42900.0,90.0,0.08,8900.0,504\n",
      "983000.0,16.0,0.14,0.0,67707\n",
      "15230.0,48.0,0.07,4300.0,262\n",
      "\n"
     ]
    }
   ],
   "source": [
    "with open('./data/pmis2.txt', 'r') as f:\n",
    "    print(f.read())"
   ]
  },
  {
   "cell_type": "markdown",
   "metadata": {},
   "source": [
    "Excelente, parece que os detalhes dos empréstimos (juntamente com os PMIs calculados) foram escritos no ficheiro.\n",
    "\n",
    "Vamos então agora definir uma função genérica `escrever_csv` que recebe uma lista de dicionários e escreve-a para um ficheiro em formato CSV. Vamos também incluir os headers de coluna na primeira linha."
   ]
  },
  {
   "cell_type": "code",
   "execution_count": 56,
   "metadata": {},
   "outputs": [],
   "source": [
    "def escrever_csv(itens, caminho):\n",
    "    # Abrir o ficheiro em modo escrita\n",
    "    with open(caminho, 'w') as f:\n",
    "        # Retornar se não houver nada para escrever\n",
    "        if len(itens) == 0:\n",
    "            return\n",
    "        \n",
    "        # Escrever os headers na primeira linha\n",
    "        headers = list(itens[0].keys())\n",
    "        f.write(','.join(headers) + '\\n')\n",
    "        \n",
    "        \n",
    "        # Escrever um item por linha\n",
    "        for item in itens:\n",
    "            valores = []\n",
    "            for header in headers:\n",
    "                valores.append(str(item.get(header, \"\")))\n",
    "            f.write(','.join(valores) + \"\\n\")"
   ]
  },
  {
   "cell_type": "markdown",
   "metadata": {},
   "source": [
    "Consegue entender como é que a função funciona? Se não, experimente executar cada instrução linha a linha em células separadas para perceber como funciona.\n",
    "\n",
    "Vamos experimentar a função!"
   ]
  },
  {
   "cell_type": "code",
   "execution_count": 57,
   "metadata": {},
   "outputs": [],
   "source": [
    "emprestimos3 = ler_csv('./data/emprestimos3.txt')"
   ]
  },
  {
   "cell_type": "code",
   "execution_count": 58,
   "metadata": {},
   "outputs": [],
   "source": [
    "calcular_pmis(emprestimos3)"
   ]
  },
  {
   "cell_type": "code",
   "execution_count": 59,
   "metadata": {},
   "outputs": [],
   "source": [
    "escrever_csv(emprestimos3, './data/pmis3.txt')"
   ]
  },
  {
   "cell_type": "code",
   "execution_count": 60,
   "metadata": {},
   "outputs": [
    {
     "name": "stdout",
     "output_type": "stream",
     "text": [
      "montante,duracao,taxa,entrada,pmi\n",
      "45230.0,48.0,0.07,4300.0,981\n",
      "883000.0,16.0,0.14,0.0,60819\n",
      "100000.0,12.0,0.1,0.0,8792\n",
      "728400.0,120.0,0.12,100000.0,9016\n",
      "3637400.0,240.0,0.06,0.0,26060\n",
      "82900.0,90.0,0.07,8900.0,1060\n",
      "316000.0,16.0,0.13,0.0,21618\n",
      "15230.0,48.0,0.08,4300.0,267\n",
      "991360.0,99.0,0.08,0.0,13712\n",
      "323000.0,27.0,0.09,0.0,13260\n",
      "4720010000.0,36.0,0.08,20000.0,147907332\n",
      "528400.0,120.0,0.11,100000.0,5902\n",
      "8633400.0,240.0,0.06,0.0,61853\n",
      "12900.0,90.0,0.08,8900.0,60\n",
      "\n"
     ]
    }
   ],
   "source": [
    "with open('./data/pmis3.txt', 'r') as f:\n",
    "    print(f.read())"
   ]
  },
  {
   "cell_type": "markdown",
   "metadata": {},
   "source": [
    "Com apenas quatro linhas de código, podemos agora ler cada ficheiro descarregado, calcular os PMIs, e escrever os resultados de volta para novos ficheiros:"
   ]
  },
  {
   "cell_type": "code",
   "execution_count": 61,
   "metadata": {},
   "outputs": [],
   "source": [
    "for i in range(1,4):\n",
    "    emprestimos = ler_csv('./data/emprestimos{}.txt'.format(i))\n",
    "    calcular_pmis(emprestimos)\n",
    "    escrever_csv(emprestimos, './data/pmis{}.txt'.format(i))"
   ]
  },
  {
   "cell_type": "code",
   "execution_count": 62,
   "metadata": {},
   "outputs": [
    {
     "data": {
      "text/plain": [
       "['emprestimos1.txt',\n",
       " 'emprestimos2.txt',\n",
       " 'emprestimos3.txt',\n",
       " 'pmis2.txt',\n",
       " 'pmis3.txt',\n",
       " 'pmis1.txt',\n",
       " 'movies.csv']"
      ]
     },
     "execution_count": 62,
     "metadata": {},
     "output_type": "execute_result"
    }
   ],
   "source": [
    "os.listdir('./data')"
   ]
  },
  {
   "cell_type": "markdown",
   "metadata": {},
   "source": [
    "Não é fantástico? Uma vez definidas todas as funções, podemos calcular os PMIs para milhares ou mesmo milhões de empréstimos em vários ficheiros em segundos, com apenas algumas linhas de código. Estamos a começar a perceber o verdadeiro poder da utilização de uma linguagem de programação como o Python para processar dados!"
   ]
  },
  {
   "cell_type": "markdown",
   "metadata": {},
   "source": [
    "## Usar o Pandas para Ler e Escrever CSVs\n",
    "\n",
    "As funções `ler_csv` e `escrever_csv` que definimos acima têm algumas limitações:\n",
    "\n",
    "* A função `ler_csv` não consegue criar corretamente um dicionário se algum dos valores nos ficheiros CSV contiver vírgulas\n",
    "* A função  `escrever_csv` não consegue criar corretamente um CSV se algum dos valores a escrever contiver vírgulas\n",
    "\n",
    "De forma a lidar com a possível existência de vírgulas nos dados, quando um valor num ficheiro CSV contém uma vírgula (`,`), o valor é normalmente colocado entre aspas. As aspas (`\"`) em valores são convertidas em duas aspas (`\"\"`). \n",
    "Aqui fica um exemplo:\n",
    "\n",
    "```\n",
    "title,description\n",
    "Fast & Furious,\"A movie, a race, a franchise\"\n",
    "The Dark Knight,\"Gotham, the \"\"Batman\"\", and the Joker\"\n",
    "Memento,A guy forgets everything every 15 minutes\n",
    "```\n",
    "\n",
    "Vamos experimentar."
   ]
  },
  {
   "cell_type": "code",
   "execution_count": 63,
   "metadata": {},
   "outputs": [],
   "source": [
    "movies_url = \"https://raw.githubusercontent.com/davsimoes/mcde-pds/main/res/movies.csv\""
   ]
  },
  {
   "cell_type": "code",
   "execution_count": 66,
   "metadata": {},
   "outputs": [
    {
     "data": {
      "text/plain": [
       "('data/movies.csv', <http.client.HTTPMessage at 0x17d9673fa00>)"
      ]
     },
     "execution_count": 66,
     "metadata": {},
     "output_type": "execute_result"
    }
   ],
   "source": [
    "urlretrieve(movies_url, 'data/movies.csv')"
   ]
  },
  {
   "cell_type": "code",
   "execution_count": 67,
   "metadata": {},
   "outputs": [],
   "source": [
    "movies = ler_csv('data/movies.csv')"
   ]
  },
  {
   "cell_type": "code",
   "execution_count": 68,
   "metadata": {},
   "outputs": [
    {
     "data": {
      "text/plain": [
       "[{'title': 'Fast & Furious', 'description': '\"A movie'},\n",
       " {'title': 'The Dark Knight', 'description': '\"Gotham'},\n",
       " {'title': 'Memento',\n",
       "  'description': 'A guy forgets everything every 15 minutes'}]"
      ]
     },
     "execution_count": 68,
     "metadata": {},
     "output_type": "execute_result"
    }
   ],
   "source": [
    "movies"
   ]
  },
  {
   "cell_type": "markdown",
   "metadata": {},
   "source": [
    "Como podemos ver acima, as descrições dos filmes não foram processadas corretamente.\n",
    "\n",
    "Para ler corretamente este CSV, podemos usar a biblioteca `pandas`."
   ]
  },
  {
   "cell_type": "code",
   "execution_count": 69,
   "metadata": {},
   "outputs": [
    {
     "name": "stdout",
     "output_type": "stream",
     "text": [
      "Note: you may need to restart the kernel to use updated packages.\n"
     ]
    }
   ],
   "source": [
    "%pip install pandas --upgrade --quiet"
   ]
  },
  {
   "cell_type": "code",
   "execution_count": 70,
   "metadata": {},
   "outputs": [
    {
     "name": "stderr",
     "output_type": "stream",
     "text": [
      "C:\\Users\\klysm\\AppData\\Local\\Temp\\ipykernel_45496\\4080736814.py:1: DeprecationWarning: \n",
      "Pyarrow will become a required dependency of pandas in the next major release of pandas (pandas 3.0),\n",
      "(to allow more performant data types, such as the Arrow string type, and better interoperability with other libraries)\n",
      "but was not found to be installed on your system.\n",
      "If this would cause problems for you,\n",
      "please provide us feedback at https://github.com/pandas-dev/pandas/issues/54466\n",
      "        \n",
      "  import pandas as pd\n"
     ]
    }
   ],
   "source": [
    "import pandas as pd"
   ]
  },
  {
   "cell_type": "markdown",
   "metadata": {},
   "source": [
    "A função `pd.read_csv` pode ser usada para ler o ficheiro CSV para um data frame: um objeto da biblioteca pandas semelhante a uma folha de cálculo para analisar e processar dados. Vamos aprender mais sobre data frames numa das próximas aulas."
   ]
  },
  {
   "cell_type": "code",
   "execution_count": 71,
   "metadata": {},
   "outputs": [],
   "source": [
    "movies_dataframe = pd.read_csv('data/movies.csv')"
   ]
  },
  {
   "cell_type": "code",
   "execution_count": 72,
   "metadata": {},
   "outputs": [
    {
     "data": {
      "text/html": [
       "<div>\n",
       "<style scoped>\n",
       "    .dataframe tbody tr th:only-of-type {\n",
       "        vertical-align: middle;\n",
       "    }\n",
       "\n",
       "    .dataframe tbody tr th {\n",
       "        vertical-align: top;\n",
       "    }\n",
       "\n",
       "    .dataframe thead th {\n",
       "        text-align: right;\n",
       "    }\n",
       "</style>\n",
       "<table border=\"1\" class=\"dataframe\">\n",
       "  <thead>\n",
       "    <tr style=\"text-align: right;\">\n",
       "      <th></th>\n",
       "      <th>title</th>\n",
       "      <th>description</th>\n",
       "    </tr>\n",
       "  </thead>\n",
       "  <tbody>\n",
       "    <tr>\n",
       "      <th>0</th>\n",
       "      <td>Fast &amp; Furious</td>\n",
       "      <td>A movie, a race, a franchise</td>\n",
       "    </tr>\n",
       "    <tr>\n",
       "      <th>1</th>\n",
       "      <td>The Dark Knight</td>\n",
       "      <td>Gotham, the \"Batman\", and the Joker</td>\n",
       "    </tr>\n",
       "    <tr>\n",
       "      <th>2</th>\n",
       "      <td>Memento</td>\n",
       "      <td>A guy forgets everything every 15 minutes</td>\n",
       "    </tr>\n",
       "  </tbody>\n",
       "</table>\n",
       "</div>"
      ],
      "text/plain": [
       "             title                                description\n",
       "0   Fast & Furious               A movie, a race, a franchise\n",
       "1  The Dark Knight        Gotham, the \"Batman\", and the Joker\n",
       "2          Memento  A guy forgets everything every 15 minutes"
      ]
     },
     "execution_count": 72,
     "metadata": {},
     "output_type": "execute_result"
    }
   ],
   "source": [
    "movies_dataframe"
   ]
  },
  {
   "cell_type": "markdown",
   "metadata": {},
   "source": [
    "Podemos converter um dataframe numa lista de dicionários com o método `to_dict`."
   ]
  },
  {
   "cell_type": "code",
   "execution_count": 73,
   "metadata": {},
   "outputs": [],
   "source": [
    "movies = movies_dataframe.to_dict('records')"
   ]
  },
  {
   "cell_type": "code",
   "execution_count": 74,
   "metadata": {},
   "outputs": [
    {
     "data": {
      "text/plain": [
       "[{'title': 'Fast & Furious', 'description': 'A movie, a race, a franchise'},\n",
       " {'title': 'The Dark Knight',\n",
       "  'description': 'Gotham, the \"Batman\", and the Joker'},\n",
       " {'title': 'Memento',\n",
       "  'description': 'A guy forgets everything every 15 minutes'}]"
      ]
     },
     "execution_count": 74,
     "metadata": {},
     "output_type": "execute_result"
    }
   ],
   "source": [
    "movies"
   ]
  },
  {
   "cell_type": "markdown",
   "metadata": {},
   "source": [
    "Se não passarmos o argumento `records`, passamos a obter um dicionário de listas."
   ]
  },
  {
   "cell_type": "code",
   "execution_count": 75,
   "metadata": {},
   "outputs": [],
   "source": [
    "movies_dict = movies_dataframe.to_dict()"
   ]
  },
  {
   "cell_type": "code",
   "execution_count": 76,
   "metadata": {},
   "outputs": [
    {
     "data": {
      "text/plain": [
       "{'title': {0: 'Fast & Furious', 1: 'The Dark Knight', 2: 'Memento'},\n",
       " 'description': {0: 'A movie, a race, a franchise',\n",
       "  1: 'Gotham, the \"Batman\", and the Joker',\n",
       "  2: 'A guy forgets everything every 15 minutes'}}"
      ]
     },
     "execution_count": 76,
     "metadata": {},
     "output_type": "execute_result"
    }
   ],
   "source": [
    "movies_dict"
   ]
  },
  {
   "cell_type": "markdown",
   "metadata": {},
   "source": [
    "Vamos agora tentar usar a função `escrever_csv` para escrever os dados em `movies` de volta para um ficheiro CSV."
   ]
  },
  {
   "cell_type": "code",
   "execution_count": 77,
   "metadata": {},
   "outputs": [],
   "source": [
    "escrever_csv(movies, 'movies2.csv')"
   ]
  },
  {
   "cell_type": "code",
   "execution_count": 78,
   "metadata": {},
   "outputs": [
    {
     "name": "stderr",
     "output_type": "stream",
     "text": [
      "'head' is not recognized as an internal or external command,\n",
      "operable program or batch file.\n"
     ]
    }
   ],
   "source": [
    "!head movies2.csv"
   ]
  },
  {
   "cell_type": "markdown",
   "metadata": {},
   "source": [
    "Como podemos ver acima, o ficheiro CSV não está formatado corretamente. Podemos confirmar tentando ler o ficheiro com `pd.read_csv`."
   ]
  },
  {
   "cell_type": "code",
   "execution_count": 79,
   "metadata": {},
   "outputs": [
    {
     "data": {
      "text/html": [
       "<div>\n",
       "<style scoped>\n",
       "    .dataframe tbody tr th:only-of-type {\n",
       "        vertical-align: middle;\n",
       "    }\n",
       "\n",
       "    .dataframe tbody tr th {\n",
       "        vertical-align: top;\n",
       "    }\n",
       "\n",
       "    .dataframe thead th {\n",
       "        text-align: right;\n",
       "    }\n",
       "</style>\n",
       "<table border=\"1\" class=\"dataframe\">\n",
       "  <thead>\n",
       "    <tr style=\"text-align: right;\">\n",
       "      <th></th>\n",
       "      <th></th>\n",
       "      <th>title</th>\n",
       "      <th>description</th>\n",
       "    </tr>\n",
       "  </thead>\n",
       "  <tbody>\n",
       "    <tr>\n",
       "      <th>Fast &amp; Furious</th>\n",
       "      <th>A movie</th>\n",
       "      <td>a race</td>\n",
       "      <td>a franchise</td>\n",
       "    </tr>\n",
       "    <tr>\n",
       "      <th>The Dark Knight</th>\n",
       "      <th>Gotham</th>\n",
       "      <td>the \"Batman\"</td>\n",
       "      <td>and the Joker</td>\n",
       "    </tr>\n",
       "    <tr>\n",
       "      <th>Memento</th>\n",
       "      <th>A guy forgets everything every 15 minutes</th>\n",
       "      <td>NaN</td>\n",
       "      <td>NaN</td>\n",
       "    </tr>\n",
       "  </tbody>\n",
       "</table>\n",
       "</div>"
      ],
      "text/plain": [
       "                                                                   title  \\\n",
       "Fast & Furious  A movie                                           a race   \n",
       "The Dark Knight Gotham                                      the \"Batman\"   \n",
       "Memento         A guy forgets everything every 15 minutes            NaN   \n",
       "\n",
       "                                                              description  \n",
       "Fast & Furious  A movie                                       a franchise  \n",
       "The Dark Knight Gotham                                      and the Joker  \n",
       "Memento         A guy forgets everything every 15 minutes             NaN  "
      ]
     },
     "execution_count": 79,
     "metadata": {},
     "output_type": "execute_result"
    }
   ],
   "source": [
    "pd.read_csv('movies2.csv')"
   ]
  },
  {
   "cell_type": "markdown",
   "metadata": {},
   "source": [
    "Para converter uma lista de dicionários num dataframe, podemos usar o construtor `pd.DataFrame`."
   ]
  },
  {
   "cell_type": "code",
   "execution_count": 80,
   "metadata": {},
   "outputs": [],
   "source": [
    "df2 = pd.DataFrame(movies)"
   ]
  },
  {
   "cell_type": "code",
   "execution_count": 81,
   "metadata": {},
   "outputs": [
    {
     "data": {
      "text/html": [
       "<div>\n",
       "<style scoped>\n",
       "    .dataframe tbody tr th:only-of-type {\n",
       "        vertical-align: middle;\n",
       "    }\n",
       "\n",
       "    .dataframe tbody tr th {\n",
       "        vertical-align: top;\n",
       "    }\n",
       "\n",
       "    .dataframe thead th {\n",
       "        text-align: right;\n",
       "    }\n",
       "</style>\n",
       "<table border=\"1\" class=\"dataframe\">\n",
       "  <thead>\n",
       "    <tr style=\"text-align: right;\">\n",
       "      <th></th>\n",
       "      <th>title</th>\n",
       "      <th>description</th>\n",
       "    </tr>\n",
       "  </thead>\n",
       "  <tbody>\n",
       "    <tr>\n",
       "      <th>0</th>\n",
       "      <td>Fast &amp; Furious</td>\n",
       "      <td>A movie, a race, a franchise</td>\n",
       "    </tr>\n",
       "    <tr>\n",
       "      <th>1</th>\n",
       "      <td>The Dark Knight</td>\n",
       "      <td>Gotham, the \"Batman\", and the Joker</td>\n",
       "    </tr>\n",
       "    <tr>\n",
       "      <th>2</th>\n",
       "      <td>Memento</td>\n",
       "      <td>A guy forgets everything every 15 minutes</td>\n",
       "    </tr>\n",
       "  </tbody>\n",
       "</table>\n",
       "</div>"
      ],
      "text/plain": [
       "             title                                description\n",
       "0   Fast & Furious               A movie, a race, a franchise\n",
       "1  The Dark Knight        Gotham, the \"Batman\", and the Joker\n",
       "2          Memento  A guy forgets everything every 15 minutes"
      ]
     },
     "execution_count": 81,
     "metadata": {},
     "output_type": "execute_result"
    }
   ],
   "source": [
    "df2"
   ]
  },
  {
   "cell_type": "markdown",
   "metadata": {},
   "source": [
    "O dataframe pode agora ser escrito para um ficheiro CSV com o método `.to_csv` do dataframe."
   ]
  },
  {
   "cell_type": "code",
   "execution_count": 82,
   "metadata": {},
   "outputs": [],
   "source": [
    "df2.to_csv('movies3.csv', index=None)"
   ]
  },
  {
   "cell_type": "markdown",
   "metadata": {},
   "source": [
    "Consegue adivinhar o que faz o argumento `index=None`? Experimente retirá-lo e observe a diferença no output."
   ]
  },
  {
   "cell_type": "code",
   "execution_count": 87,
   "metadata": {},
   "outputs": [
    {
     "name": "stderr",
     "output_type": "stream",
     "text": [
      "'head' is not recognized as an internal or external command,\n",
      "operable program or batch file.\n"
     ]
    }
   ],
   "source": [
    "!head movies3.csv"
   ]
  },
  {
   "cell_type": "markdown",
   "metadata": {},
   "source": [
    "O ficheiro CSV está formatado corretamente. Podemos confirmar tentando lê-lo de volta."
   ]
  },
  {
   "cell_type": "code",
   "execution_count": 83,
   "metadata": {},
   "outputs": [
    {
     "data": {
      "text/html": [
       "<div>\n",
       "<style scoped>\n",
       "    .dataframe tbody tr th:only-of-type {\n",
       "        vertical-align: middle;\n",
       "    }\n",
       "\n",
       "    .dataframe tbody tr th {\n",
       "        vertical-align: top;\n",
       "    }\n",
       "\n",
       "    .dataframe thead th {\n",
       "        text-align: right;\n",
       "    }\n",
       "</style>\n",
       "<table border=\"1\" class=\"dataframe\">\n",
       "  <thead>\n",
       "    <tr style=\"text-align: right;\">\n",
       "      <th></th>\n",
       "      <th>title</th>\n",
       "      <th>description</th>\n",
       "    </tr>\n",
       "  </thead>\n",
       "  <tbody>\n",
       "    <tr>\n",
       "      <th>0</th>\n",
       "      <td>Fast &amp; Furious</td>\n",
       "      <td>A movie, a race, a franchise</td>\n",
       "    </tr>\n",
       "    <tr>\n",
       "      <th>1</th>\n",
       "      <td>The Dark Knight</td>\n",
       "      <td>Gotham, the \"Batman\", and the Joker</td>\n",
       "    </tr>\n",
       "    <tr>\n",
       "      <th>2</th>\n",
       "      <td>Memento</td>\n",
       "      <td>A guy forgets everything every 15 minutes</td>\n",
       "    </tr>\n",
       "  </tbody>\n",
       "</table>\n",
       "</div>"
      ],
      "text/plain": [
       "             title                                description\n",
       "0   Fast & Furious               A movie, a race, a franchise\n",
       "1  The Dark Knight        Gotham, the \"Batman\", and the Joker\n",
       "2          Memento  A guy forgets everything every 15 minutes"
      ]
     },
     "execution_count": 83,
     "metadata": {},
     "output_type": "execute_result"
    }
   ],
   "source": [
    "pd.read_csv('movies3.csv')"
   ]
  },
  {
   "cell_type": "markdown",
   "metadata": {},
   "source": [
    "Estamos aptos a ler e escrever corretamente o ficheiro com o `pandas`. \n",
    "\n",
    "Em geral, é sempre melhor usar bibliotecas como o Pandas para ler e escrever ficheiros CSV."
   ]
  },
  {
   "cell_type": "markdown",
   "metadata": {},
   "source": [
    "### Guardar o seu notebook\n",
    "\n",
    "É muito importante guardar o seu trabalho com frequência. Pode continuar a trabalhar mais tarde num notebook que gravou anteriormente ou pode partilhá-lo com outras pessoas e permitir que executem o seu código."
   ]
  },
  {
   "cell_type": "markdown",
   "metadata": {},
   "source": [
    "## Exercício - Processar ficheiros CSV files utilizando dicionários de listas\n",
    "\n",
    "Definimos acima as funções `ler_csv` and `escrever_csv` para converter um ficheiro CSV numa lista de dicionários e vice-versa. Neste exercício, vamos transformar os dados do CSV num dicionário de listas, com uma lista para cada coluna no ficheiro.\n",
    "\n",
    "Considere por exemplo o seguinte ficheiro CSV:\n",
    "\n",
    "```\n",
    "montante,duracao,taxa,entrada\n",
    "828400,120,0.11,100000\n",
    "4633400,240,0.06,\n",
    "42900,90,0.08,8900\n",
    "983000,16,0.14,\n",
    "15230,48,0.07,4300\n",
    "```\n",
    "\n",
    "\n",
    "Vamos convertê-lo no seguinte dicionário de listas:\n",
    "\n",
    "```\n",
    "{\n",
    "  montante: [828400, 4633400, 42900, 983000, 15230],\n",
    "  duracao: [120, 240, 90, 16, 48],\n",
    "  taxa: [0.11, 0.06, 0.08, 0.14, 0.07],\n",
    "  entrada: [100000, 0, 8900, 0, 4300]\n",
    "}\n",
    "```\n",
    "\n",
    "Complete as seguintes tarefas usando as células vazias abaixo:\n",
    "\n",
    "1. Descarregue três ficheiros CSV para a pasta `data2` usando os URLs listados na célula de código abaixo, e verifique os ficheiros descarregados.\n",
    "2. Defina uma função `ler_csv_colunas` que lê um ficheiro CSV e devolve um dicionário de listas no formato exibido acima. \n",
    "3. Defina uma função `calcular_pmis` que adiciona uma chave `pmi` ao dicionário com uma lista de PMIs calculados para cada linha de dados.\n",
    "4. Defina uma função `escrever_csv_colunas` que escreve os dados de um dicionário de listas para um ficheiro CSV corretamente formatado.\n",
    "5. Processe todos os três ficheiros descarregados e escreva os resultados criando novos ficheiros na diretoria `data2`.\n",
    "\n",
    "\n",
    "**Dica 1**: Utilize as funções do Pandas para ler e escrever em ficheiros CSV\n",
    "\n",
    "**Dica 2**: O método `fillna` de um dataframe permite substituir os valores inválidos no dataframe por um valor à sua escolha (por exemplo, 0)\n"
   ]
  },
  {
   "cell_type": "code",
   "execution_count": 84,
   "metadata": {},
   "outputs": [],
   "source": [
    "url1 = 'https://raw.githubusercontent.com/davsimoes/mcde-pds/main/res/emprestimos1.txt'\n",
    "url2 = 'https://raw.githubusercontent.com/davsimoes/mcde-pds/main/res/emprestimos2.txt'\n",
    "url3 = 'https://raw.githubusercontent.com/davsimoes/mcde-pds/main/res/emprestimos3.txt'"
   ]
  },
  {
   "cell_type": "code",
   "execution_count": 104,
   "metadata": {},
   "outputs": [
    {
     "name": "stdout",
     "output_type": "stream",
     "text": [
      "Arquivo data2\\arquivo1.csv baixado com sucesso.\n",
      "Arquivo data2\\arquivo2.csv baixado com sucesso.\n",
      "Arquivo data2\\arquivo3.csv baixado com sucesso.\n",
      "Arquivo data2\\arquivo1.csv processado e salvo em data2\\arquivo1_processado.csv.\n",
      "Arquivo data2\\arquivo2.csv processado e salvo em data2\\arquivo2_processado.csv.\n",
      "Arquivo data2\\arquivo3.csv processado e salvo em data2\\arquivo3_processado.csv.\n"
     ]
    }
   ],
   "source": [
    "import pandas as pd\n",
    "import math\n",
    "import os\n",
    "import urllib.request\n",
    "\n",
    "# URLs dos arquivos CSV\n",
    "url1 = 'https://raw.githubusercontent.com/davsimoes/mcde-pds/main/res/emprestimos1.txt'\n",
    "url2 = 'https://raw.githubusercontent.com/davsimoes/mcde-pds/main/res/emprestimos2.txt'\n",
    "url3 = 'https://raw.githubusercontent.com/davsimoes/mcde-pds/main/res/emprestimos3.txt'\n",
    "\n",
    "urls = [url1, url2, url3]\n",
    "\n",
    "# Função para baixar um arquivo CSV a partir de uma URL\n",
    "def baixar_arquivo(url, nome_arquivo):\n",
    "    urllib.request.urlretrieve(url, nome_arquivo)\n",
    "\n",
    "# Pasta para armazenar os arquivos baixados\n",
    "pasta_dados = \"data2\"\n",
    "\n",
    "# Verifica se a pasta de dados existe, caso contrário, cria-a\n",
    "if not os.path.exists(pasta_dados):\n",
    "    os.makedirs(pasta_dados)\n",
    "\n",
    "# Baixa os arquivos CSV para a pasta de dados\n",
    "for i, url in enumerate(urls):\n",
    "    nome_arquivo = os.path.join(pasta_dados, f\"arquivo{i+1}.csv\")\n",
    "    baixar_arquivo(url, nome_arquivo)\n",
    "    print(f\"Arquivo {nome_arquivo} baixado com sucesso.\")\n",
    "\n",
    "# Função para ler um arquivo CSV e retornar um dicionário de listas\n",
    "def ler_csv_colunas(nome_arquivo):\n",
    "    df = pd.read_csv(nome_arquivo)\n",
    "    df.fillna(0, inplace=True)\n",
    "    return df.to_dict(orient='list')\n",
    "\n",
    "# Função para calcular os PMIs e adicionar ao dicionário de listas     \n",
    "def emprestimo_pmi(montante, duracao, taxa, entrada=0):\n",
    "    \"\"\"Calcula a prestação mensal igual (PMI) para um empréstimo.\n",
    "    \n",
    "    Argumentos:\n",
    "        montante - Montante total a aplicar (empréstimo + entrada)\n",
    "        duracao - Duração do empréstimo (em meses)\n",
    "        taxa - Taxa de juro (mensal)\n",
    "        entrada (opcional) - Entrada opcional (deduzida do montante)\n",
    "    \"\"\"\n",
    "    montante_emprestimo = montante - entrada\n",
    "    try:\n",
    "        pmi = montante_emprestimo * taxa * ((1+taxa)**duracao) / (((1+taxa)**duracao)-1)\n",
    "    except ZeroDivisionError:\n",
    "        pmi = montante_emprestimo / duracao\n",
    "    pmi = math.ceil(pmi)\n",
    "    return pmi\n",
    "\n",
    "# Função para PMIs dicionário de listas\n",
    "def calcular_pmis(dados):\n",
    "    dados[\"pmi\"] = []\n",
    "    for i in range(len(dados[\"montante\"])):\n",
    "        montante = int(dados[\"montante\"][i])\n",
    "        duracao = int(dados[\"duracao\"][i])\n",
    "        taxa = float(dados[\"taxa\"][i])\n",
    "        entrada = int(dados[\"entrada\"][i]) if dados[\"entrada\"][i] else 0\n",
    "        pmi = emprestimo_pmi(montante, duracao, taxa, entrada)\n",
    "        dados[\"pmi\"].append(pmi)\n",
    "\n",
    "# Função para escrever os dados de um dicionário de listas em um arquivo CSV\n",
    "def escrever_csv_colunas(dados, nome_arquivo):\n",
    "    df = pd.DataFrame(dados)\n",
    "    df.to_csv(nome_arquivo, index=False)\n",
    "\n",
    "# Processa todos os arquivos baixados\n",
    "for i in range(len(urls)):\n",
    "    nome_arquivo = os.path.join(pasta_dados, f\"arquivo{i+1}.csv\")\n",
    "    dados = ler_csv_colunas(nome_arquivo)\n",
    "    calcular_pmis(dados)\n",
    "    nome_arquivo_saida = os.path.join(pasta_dados, f\"arquivo{i+1}_processado.csv\")\n",
    "    escrever_csv_colunas(dados, nome_arquivo_saida)\n",
    "    print(f\"Arquivo {nome_arquivo} processado e salvo em {nome_arquivo_saida}.\")\n"
   ]
  },
  {
   "cell_type": "markdown",
   "metadata": {},
   "source": [
    "No final, não se esqueça de gravar o seu trabalho! &#128522;"
   ]
  },
  {
   "cell_type": "markdown",
   "metadata": {},
   "source": [
    "## Sumário\n",
    "\n",
    "Com isto, completamos a nossa discussão sobre ler e escrever em ficheiros usando o Python. Cobrimos os seguintes tópicos nesta aula:\n",
    "\n",
    "* Interagir com o sistema de ficheiros usando o módulo `os`\n",
    "* Fazer o download de ficheiros de URLs usando o módulo `urllib`\n",
    "* Abrir ficheiros com a função incorporada do Python `open`\n",
    "* Ler o conteúdo de um ficheiro usando o `.read`\n",
    "* Fechar um ficheiro automaticamente usando o `with`\n",
    "* Ler um ficheiro linha a linha usando `readlines`\n",
    "* Processar dados de um ficheiro CSV definindo funções\n",
    "* Usar funções de suporte para construir funções mais complexas\n",
    "* Escrever dados para um ficheiro usando o `.write`"
   ]
  },
  {
   "cell_type": "markdown",
   "metadata": {},
   "source": [
    "## Questões para Revisão\n",
    "\n",
    "Tente responder às seguintes questões para testar a sua compreensão sobre os tópicos cobertos neste notebook:\n",
    "\n",
    "1. Para que serve o módulo `os` em Python?\n",
    "2. Como é que se identifica o diretório de trabalho atual num notebook Jupyter?\n",
    "3. Como é que podemos obter a lista de ficheiros dentro de uma diretoria usando o Python?\n",
    "4. Como é que se cria uma diretoria usando o Python?\n",
    "5. Como é que se verifica se um ficheiro ou pasta existe no sistema de ficheiros? Dica: `os.path.exists`.\n",
    "6. Onde é que podemos encontrar a lista completa de funções contidas no módulo `os`?\n",
    "7. Dê exemplos de 5 funções úteis dos módulos `os` e `os.path`.\n",
    "8. Como é que podemos fazer o download de um ficheiro a partir de um URL usando o Python?\n",
    "9. Como é que se abre um ficheiro em Python? Dê um exemplo.\n",
    "10. Quais são os diferentes modos de abrir um ficheiro em Python?\n",
    "11. É possível abrir um ficheiro em vários modos? Ilustre com um exemplo.\n",
    "12. O que é o objeto ficheiro? Qual é a sua utilidade?\n",
    "13. Como é que se lê o conteúdo de um ficheiro para uma string?\n",
    "14. O que é um ficheiro CSV? Dê um exemplo.\n",
    "15. Como se fecha um ficheiro aberto?\n",
    "16. Porque é que é fundamental fechar um ficheiro depois de o processar?\n",
    "17. Como é que podemos garantir que os ficheiros são fechados automaticamente após o seu processamento? Dê um exemplo.\n",
    "18. Qual é a utilidade da função `with` ao trabalhar com ficheiros?\n",
    "19. O que é que acontece se tentarmos ler de um ficheiro fechado?\n",
    "20. Como é que se lê o conteúdo de um ficheiro linha por linha?\n",
    "21. Escreva uma função para converter o conteúdo de um ficheiro CSV numa lista de dicionários (um dicionário para cada linha do ficheiro).\n",
    "22. Escreva uma função para converter o conteúdo de um ficheiro CSV num dicionário de listas (um dicionário por cada coluna do ficheiro).\n",
    "23. Como é que se escreve para um ficheiro usando Python?\n",
    "24. Como é que o método string `.format` pode ser usado para escrever dados num ficheiro em formato CSV?\n",
    "25. Escreva uma função para escrever dados de uma lista de dicionários para um ficheiro CSV.\n",
    "26. Escreva uma função para escrever dados de um dicionário de listas para um ficheiro CSV.\n",
    "27. Onde é que podemos aprender sobre os métodos suportados pelo objeto file em Python?\n",
    "28. Como é que se podemos ler e escrever em ficheiros CSV usando o Pandas?\n"
   ]
  },
  {
   "cell_type": "markdown",
   "metadata": {},
   "source": [
    "## Referências\n",
    "\n",
    "Este notebook é uma adaptação traduzida do curso *<u>Data Analysis with Python: Zero to Pandas</u>* de AaKash N S / [Jovian.ai](https://jovian.ai)\n",
    "\n",
    "Outras referências:\n",
    "* McKinney, W., Python for Data Analysis, 3rd. Ed. O'Reilly. Versão online em https://wesmckinney.com/book/ \n",
    "* Documentação oficial do Python: https://docs.python.org/3/tutorial/index.html\n",
    "* Tutorial Python do W3Schools: https://www.w3schools.com/python/\n",
    "* Practical Python Programming: https://dabeaz-course.github.io/practical-python/Notes/Contents.html\n",
    "* Jupyter Notebooks: https://docs.jupyter.org\n",
    "* Markdown Reference: https://www.markdownguide.org\n"
   ]
  }
 ],
 "metadata": {
  "kernelspec": {
   "display_name": "Python 3",
   "language": "python",
   "name": "python3"
  },
  "language_info": {
   "codemirror_mode": {
    "name": "ipython",
    "version": 3
   },
   "file_extension": ".py",
   "mimetype": "text/x-python",
   "name": "python",
   "nbconvert_exporter": "python",
   "pygments_lexer": "ipython3",
   "version": "3.10.13"
  }
 },
 "nbformat": 4,
 "nbformat_minor": 4
}
