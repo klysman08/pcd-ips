{
 "cells": [
  {
   "cell_type": "code",
   "execution_count": 1,
   "metadata": {},
   "outputs": [
    {
     "name": "stderr",
     "output_type": "stream",
     "text": [
      "C:\\Users\\klysm\\AppData\\Local\\Temp\\ipykernel_12984\\2454439438.py:1: DeprecationWarning: \n",
      "Pyarrow will become a required dependency of pandas in the next major release of pandas (pandas 3.0),\n",
      "(to allow more performant data types, such as the Arrow string type, and better interoperability with other libraries)\n",
      "but was not found to be installed on your system.\n",
      "If this would cause problems for you,\n",
      "please provide us feedback at https://github.com/pandas-dev/pandas/issues/54466\n",
      "        \n",
      "  import pandas as pd\n"
     ]
    }
   ],
   "source": [
    "import pandas as pd\n",
    "import math\n",
    "import os\n",
    "import urllib.request"
   ]
  },
  {
   "cell_type": "code",
   "execution_count": 3,
   "metadata": {},
   "outputs": [],
   "source": [
    "# URLs dos arquivos CSV\n",
    "url1 = 'https://raw.githubusercontent.com/davsimoes/mcde-pds/main/res/emprestimos1.txt'\n",
    "url2 = 'https://raw.githubusercontent.com/davsimoes/mcde-pds/main/res/emprestimos2.txt'\n",
    "url3 = 'https://raw.githubusercontent.com/davsimoes/mcde-pds/main/res/emprestimos3.txt'\n",
    "\n",
    "urls = [url1, url2, url3]\n",
    "# Pasta para armazenar os arquivos baixados\n",
    "pasta_dados = \"data2\""
   ]
  },
  {
   "cell_type": "code",
   "execution_count": 4,
   "metadata": {},
   "outputs": [],
   "source": [
    "# Função para baixar um arquivo CSV a partir de uma URL\n",
    "def baixar_arquivo(url, nome_arquivo):\n",
    "    urllib.request.urlretrieve(url, nome_arquivo)"
   ]
  },
  {
   "cell_type": "code",
   "execution_count": 5,
   "metadata": {},
   "outputs": [],
   "source": [
    "# Verifica se a pasta de dados existe, caso contrário, cria-a\n",
    "if not os.path.exists(pasta_dados):\n",
    "    os.makedirs(pasta_dados)"
   ]
  },
  {
   "cell_type": "code",
   "execution_count": 8,
   "metadata": {},
   "outputs": [
    {
     "name": "stdout",
     "output_type": "stream",
     "text": [
      "Arquivo data2\\file1.csv baixado com sucesso.\n",
      "Arquivo data2\\file2.csv baixado com sucesso.\n",
      "Arquivo data2\\file3.csv baixado com sucesso.\n"
     ]
    }
   ],
   "source": [
    "# Baixa os arquivos CSV para a pasta de dados\n",
    "for i, url in enumerate(urls):\n",
    "    nome_arquivo = os.path.join(pasta_dados, f\"file{i+1}.csv\")\n",
    "    baixar_arquivo(url, nome_arquivo)\n",
    "    print(f\"Arquivo {nome_arquivo} baixado com sucesso.\")"
   ]
  },
  {
   "cell_type": "code",
   "execution_count": 43,
   "metadata": {},
   "outputs": [],
   "source": [
    "# Função para ler um arquivo CSV e retornar um dicionário de listas\n",
    "def ler_csv_colunas(nome_arquivo):\n",
    "    df = pd.read_csv(nome_arquivo)\n",
    "    df.fillna(0, inplace=True)\n",
    "    return df.to_dict(orient='list')"
   ]
  },
  {
   "cell_type": "code",
   "execution_count": 44,
   "metadata": {},
   "outputs": [],
   "source": [
    "# Função para calcular os PMIs e adicionar ao dicionário de listas     \n",
    "def emprestimo_pmi(montante, duracao, taxa, entrada=0):\n",
    "    \"\"\"Calcula a prestação mensal igual (PMI) para um empréstimo.\n",
    "    \n",
    "    Argumentos:\n",
    "        montante - Montante total a aplicar (empréstimo + entrada)\n",
    "        duracao - Duração do empréstimo (em meses)\n",
    "        taxa - Taxa de juro (mensal)\n",
    "        entrada (opcional) - Entrada opcional (deduzida do montante)\n",
    "    \"\"\"\n",
    "    montante_emprestimo = montante - entrada\n",
    "    try:\n",
    "        pmi = montante_emprestimo * taxa * ((1+taxa)**duracao) / (((1+taxa)**duracao)-1)\n",
    "    except ZeroDivisionError:\n",
    "        pmi = montante_emprestimo / duracao\n",
    "    pmi = math.ceil(pmi)\n",
    "    return pmi"
   ]
  },
  {
   "cell_type": "code",
   "execution_count": 47,
   "metadata": {},
   "outputs": [],
   "source": [
    "# Função para PMIs dicionário de listas\n",
    "def calcular_pmis(dados):\n",
    "    dados[\"pmi\"] = []\n",
    "    for i in range(len(dados[\"montante\"])):\n",
    "        montante = int(dados[\"montante\"][i])\n",
    "        duracao = int(dados[\"duracao\"][i])\n",
    "        taxa = float(dados[\"taxa\"][i])\n",
    "        entrada = int(dados[\"entrada\"][i]) if dados[\"entrada\"][i] else 0\n",
    "        pmi = emprestimo_pmi(montante, duracao, taxa, entrada)\n",
    "        dados[\"pmi\"].append(pmi)"
   ]
  },
  {
   "cell_type": "code",
   "execution_count": 41,
   "metadata": {},
   "outputs": [],
   "source": [
    "# Função para escrever os dados de um dicionário de listas em um arquivo CSV\n",
    "def escrever_csv_colunas(dados, nome_arquivo):\n",
    "    df = pd.DataFrame(dados)\n",
    "    df.to_csv(nome_arquivo, index=False)"
   ]
  },
  {
   "cell_type": "code",
   "execution_count": 52,
   "metadata": {},
   "outputs": [
    {
     "name": "stdout",
     "output_type": "stream",
     "text": [
      "Processando arquivo 1...\n",
      "Arquivo: data2\\arquivo1.csv\n",
      "{'montante': [100000, 200000, 628400, 4637400, 42900, 916000, 45230, 991360, 423000], 'duracao': [36, 12, 120, 240, 90, 16, 48, 99, 27], 'taxa': [0.08, 0.1, 0.12, 0.06, 0.07, 0.13, 0.08, 0.08, 0.09], 'entrada': [20000.0, 0.0, 100000.0, 0.0, 8900.0, 0.0, 4300.0, 0.0, 47200.0]}\n",
      "Arquivo de saída: data2\\arquivo1_processado.csv\n",
      "Arquivo data2\\arquivo1.csv processado e salvo em data2\\arquivo1_processado.csv.\n",
      "Processando arquivo 2...\n",
      "Arquivo: data2\\arquivo2.csv\n",
      "{'montante': [828400, 4633400, 42900, 983000, 15230], 'duracao': [120, 240, 90, 16, 48], 'taxa': [0.11, 0.06, 0.08, 0.14, 0.07], 'entrada': [100000.0, 0.0, 8900.0, 0.0, 4300.0]}\n",
      "Arquivo de saída: data2\\arquivo2_processado.csv\n",
      "Arquivo data2\\arquivo2.csv processado e salvo em data2\\arquivo2_processado.csv.\n",
      "Processando arquivo 3...\n",
      "Arquivo: data2\\arquivo3.csv\n",
      "{'montante': [45230, 883000, 100000, 728400, 3637400, 82900, 316000, 15230, 991360, 323000, 4720010000, 528400, 8633400, 12900], 'duracao': [48, 16, 12, 120, 240, 90, 16, 48, 99, 27, 36, 120, 240, 90], 'taxa': [0.07, 0.14, 0.1, 0.12, 0.06, 0.07, 0.13, 0.08, 0.08, 0.09, 0.08, 0.11, 0.06, 0.08], 'entrada': [4300.0, 0.0, 0.0, 100000.0, 0.0, 8900.0, 0.0, 4300.0, 0.0, 0.0, 20000.0, 100000.0, 0.0, 8900.0]}\n",
      "Arquivo de saída: data2\\arquivo3_processado.csv\n",
      "Arquivo data2\\arquivo3.csv processado e salvo em data2\\arquivo3_processado.csv.\n"
     ]
    }
   ],
   "source": [
    "for i in range(len(urls)):\n",
    "    print(f\"Processando arquivo {i+1}...\")\n",
    "    \n",
    "    nome_arquivo = os.path.join(pasta_dados, f\"arquivo{i+1}.csv\")\n",
    "    print(f\"Arquivo: {nome_arquivo}\")\n",
    "\n",
    "    dados = ler_csv_colunas(nome_arquivo)\n",
    "    print (dados)\n",
    "\n",
    "    calcular_pmis(dados)\n",
    "\n",
    "    nome_arquivo_saida = os.path.join(pasta_dados, f\"arquivo{i+1}_processado.csv\")\n",
    "    print(f\"Arquivo de saída: {nome_arquivo_saida}\")\n",
    "\n",
    "    escrever_csv_colunas(dados, nome_arquivo_saida)\n",
    "\n",
    "    print(f\"Arquivo {nome_arquivo} processado e salvo em {nome_arquivo_saida}.\")\n"
   ]
  }
 ],
 "metadata": {
  "kernelspec": {
   "display_name": "ips_cienciadedados",
   "language": "python",
   "name": "python3"
  },
  "language_info": {
   "codemirror_mode": {
    "name": "ipython",
    "version": 3
   },
   "file_extension": ".py",
   "mimetype": "text/x-python",
   "name": "python",
   "nbconvert_exporter": "python",
   "pygments_lexer": "ipython3",
   "version": "3.10.13"
  }
 },
 "nbformat": 4,
 "nbformat_minor": 2
}
